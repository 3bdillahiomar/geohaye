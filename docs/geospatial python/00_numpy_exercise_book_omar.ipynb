{
 "cells": [
  {
   "attachments": {
    "299d6bde-a4b0-4160-954e-0eb4b3287afc.png": {
     "image/png": "[encoded data removed]"
    }
   },
   "cell_type": "markdown",
   "metadata": {
    "collapsed": false,
    "jupyter": {
     "outputs_hidden": false
    }
   },
   "source": [
    "# Numeric Arrays and Numpy\n",
    "\n",
    "![image.png](attachment:299d6bde-a4b0-4160-954e-0eb4b3287afc.png)\n",
    "\n"
   ]
  },
  {
   "cell_type": "raw",
   "metadata": {},
   "source": [
    "In this block of exercises, you will learn the basic handling of multidimensional arrays with the NumPY package. \n",
    "It is not possible to cover all the functions available in this package.\n",
    "Thus, we encourage you to keep checking the NumPY documentation on its website to find out how to properly use them."
   ]
  },
  {
   "cell_type": "markdown",
   "metadata": {
    "collapsed": false,
    "jupyter": {
     "outputs_hidden": false
    }
   },
   "source": [
    "<span style='font-size:large'>**NOTE BEFORE STARTING THE EXERCISES**</span>  \n",
    "\n",
    "<span style='font-size:large'>The exercises come in two parts: basic, to get in touch with the</span>\n",
    "<span style='font-size:large'>basic elements of a multidimensional array, and advanced, in which you will learn</span>\n",
    "<span style='font-size:large'>about how numpy handles geospatial raster collections. </span>\n",
    "\n",
    "<span style='font-size:large'>Spend most of time with the geospatial exercises to deep dive into GDAL library</span>  \n",
    "<span style='font-size:large'>.</span>\n",
    "\n",
    "<span style='font-size:large'>8.1–8.5 Basic Array Handling </span>  \n",
    "\n",
    "\n",
    "<span style='font-size:large'>8.6–8.9: Geospatial Handling</span>\n",
    "\n",
    "<span style='font-size:large'>8.10–8.14 Advanced Exercises \\(Optional\\)</span>\n",
    "\n",
    "<span style='font-size:large'>8.11 Revise back to it </span>\n"
   ]
  },
  {
   "cell_type": "markdown",
   "metadata": {
    "collapsed": false,
    "jupyter": {
     "outputs_hidden": false
    }
   },
   "source": [
    "#### **Materials Used**\n",
    "\n",
    "https://numpy.org/doc/stable/user/quickstart.html\n",
    "\n",
    "[https://www.tutorialspoint.com/numpy/numpy\\_broadcasting.htm](https://www.tutorialspoint.com/numpy/numpy_broadcasting.htm)  \n",
    "\n",
    "\n",
    "https://www.sharpsightlabs.com/blog/numpy-axes-explained/\n",
    "\n",
    "https://matplotlib.org/2.0.2/examples/images_contours_and_fields/interpolation_methods.html\n",
    "\n"
   ]
  },
  {
   "cell_type": "code",
   "execution_count": 20,
   "metadata": {
    "collapsed": false,
    "deletable": false,
    "editable": false,
    "jupyter": {
     "outputs_hidden": false
    },
    "nbgrader": {
     "grade": false,
     "grade_id": "e6a7b1",
     "locked": true,
     "schema_version": 3,
     "solution": false,
     "task": false
    }
   },
   "outputs": [
    {
     "name": "stdout",
     "output_type": "stream",
     "text": [
      "2014_DOY_255.csv\n",
      "2014_DOY_193.csv\n",
      "2014_DOY_142.csv\n",
      "2014_DOY_284.csv\n",
      "2014_DOY_229.csv\n"
     ]
    }
   ],
   "source": [
    "import numpy as np\n",
    "import os\n",
    "\n",
    "path_to_data_folder = r'/home/user/Handouts/exercise_data_numpy'\n",
    "\n",
    "if os.path.exists(os.path.join(path_to_data_folder, 'temperature_cities.csv')):\n",
    "    print('Success')\n",
    "    \n",
    "entries = os.listdir(path_to_data_folder)\n",
    "for entry in entries[:5]:\n",
    "    print(entry)"
   ]
  },
  {
   "cell_type": "code",
   "execution_count": 8,
   "metadata": {},
   "outputs": [
    {
     "name": "stdout",
     "output_type": "stream",
     "text": [
      "C:\\Users\\Zako3\\Downloads\\Handouts\\exercise_data_numpy\n"
     ]
    }
   ],
   "source": [
    "path = r\"C:\\Users\\Zako3\\Downloads\\Handouts\\exercise_data_numpy\"\n",
    "print(path)"
   ]
  },
  {
   "cell_type": "code",
   "execution_count": 9,
   "metadata": {},
   "outputs": [
    {
     "name": "stdout",
     "output_type": "stream",
     "text": [
      "2014_DOY_001.csv\n",
      "2014_DOY_002.csv\n",
      "2014_DOY_003.csv\n",
      "2014_DOY_004.csv\n",
      "2014_DOY_005.csv\n"
     ]
    }
   ],
   "source": [
    "if os.path.exists(os.path.join(path, 'temperature_cities.csv')):\n",
    "    print('Success')\n",
    "    \n",
    "entries = os.listdir(path)\n",
    "for entry in entries[:5]:\n",
    "    print(entry)"
   ]
  },
  {
   "cell_type": "markdown",
   "metadata": {
    "collapsed": false,
    "jupyter": {
     "outputs_hidden": false
    }
   },
   "source": [
    "## 8.1\n",
    "\n"
   ]
  },
  {
   "cell_type": "markdown",
   "metadata": {},
   "source": [
    "### This exercise is about Array Creation and NumPY Array Attributes"
   ]
  },
  {
   "cell_type": "code",
   "execution_count": 21,
   "metadata": {
    "collapsed": false,
    "deletable": false,
    "jupyter": {
     "outputs_hidden": false
    },
    "nbgrader": {
     "cell_type": "code",
     "checksum": "52936ce026e543d0566c0c22ea45126c",
     "grade": true,
     "grade_id": "ac4f73",
     "locked": false,
     "points": 1,
     "remove": false,
     "schema_version": 3,
     "solution": true,
     "task": false
    }
   },
   "outputs": [
    {
     "name": "stdout",
     "output_type": "stream",
     "text": [
      "Array of 40 random numbers:\n",
      "[65 44 85 74 12 81 84 48 27 53 41 26 75 10 52  1 49 97 86 80 40  3 15 40\n",
      " 31 41 52 87 70 91 52 14 30 96 54 74  1 12 55 80]\n",
      "\n",
      "Array attributes:\n",
      "Shape: (40,)\n",
      "Size: 40\n",
      "Dimensions: 1\n"
     ]
    }
   ],
   "source": [
    "\"\"\" Create a collection of 40 integer numbers and use these to create a numpy array. \n",
    "Now, display the array’s shape, size, and dim attributes. \n",
    "Remember that the function np.random.randint() can help you to avoid typing out all 40 numbers. \n",
    "\n",
    "\"\"\"\n",
    "\"\"\"Enter your answer here.\"\"\"\n",
    "# YOUR CODE HERE\n",
    "# This exercise is about Array Creation and NumPY Array Attributes\n",
    "\n",
    "import numpy as np\n",
    "\n",
    "# Generate an array of 40 random integers between 1 and 100\n",
    "random_numbers = np.random.randint(1, 100, 40)\n",
    "#print(random_numbers)\n",
    "\n",
    "# Create a numpy array from the list of random numbers\n",
    "array_40_numbers = np.array(random_numbers)\n",
    "\n",
    "# Display the array\n",
    "print(\"Array of 40 random numbers:\")\n",
    "print(array_40_numbers)\n",
    "\n",
    "# Display array attributes\n",
    "print(\"\\nArray attributes:\")\n",
    "print(\"Shape:\", array_40_numbers.shape)\n",
    "print(\"Size:\", array_40_numbers.size)\n",
    "print(\"Dimensions:\", array_40_numbers.ndim)\n",
    "\n",
    "\n",
    "#raise NotImplementedError()"
   ]
  },
  {
   "cell_type": "markdown",
   "metadata": {
    "collapsed": false,
    "deletable": false,
    "editable": false,
    "jupyter": {
     "outputs_hidden": false
    },
    "nbgrader": {
     "grade": false,
     "grade_id": "2f95dd",
     "locked": true,
     "schema_version": 3,
     "solution": false,
     "task": false
    }
   },
   "source": [
    "## 8.2\n",
    "\n"
   ]
  },
  {
   "cell_type": "code",
   "execution_count": 18,
   "metadata": {
    "collapsed": false,
    "deletable": false,
    "jupyter": {
     "outputs_hidden": false
    },
    "nbgrader": {
     "cell_type": "code",
     "checksum": "2df93bb0e84cdd735805e8946f6fcc40",
     "grade": true,
     "grade_id": "3c1a3b",
     "locked": false,
     "points": 5,
     "schema_version": 3,
     "solution": true,
     "task": false
    }
   },
   "outputs": [
    {
     "name": "stdout",
     "output_type": "stream",
     "text": [
      "Array of 40 random numbers:\n",
      "[[11.88617962 93.02480605 32.43369595 54.18564968]\n",
      " [96.79135667 79.85994396 86.22736361 60.53804971]\n",
      " [49.20853848 30.68431778 54.95460116  8.88603453]\n",
      " [73.48176541 17.57683476 88.49635389 56.03249118]\n",
      " [22.39714636 43.50261484 59.86158622 29.96191496]]\n",
      "<class 'numpy.ndarray'>\n"
     ]
    }
   ],
   "source": [
    "\"\"\" Create a numpy array with 20 items of type float. \n",
    "All items must have as value the number 42.0. \n",
    "\n",
    "Now, use the method .reshape() to turn this array into\n",
    "a two-dimensional array of 4 rows and 5 columns (or the opposite, as you prefer).\n",
    "\n",
    "Print the output and check that you have this two-dimensional array with the\n",
    "values set to 42.0.\n",
    "\n",
    "\"\"\"\n",
    "\n",
    "\"\"\"Enter your answer here.\"\"\"\n",
    "# YOUR CODE HERE\n",
    "\n",
    "# Generate an array of 40 random floats between 1 and 100\n",
    "random_numbers = np.random.uniform(1.0, 100.0, 20).reshape((5,4) )\n",
    "\n",
    "# Display the array\n",
    "print(\"Array of 40 random numbers:\")\n",
    "print(random_numbers)\n",
    "print(type(random_numbers))\n",
    "\n",
    "## Steps Explanation \n",
    "# 1. First create a numpy array with 20 items of type float. \n",
    "# 2. Reshape it using .reshape \n",
    "# 3. Make it two dimensional array of 4 x 5 or vice-versa. \n",
    "# 4. Print Output "
   ]
  },
  {
   "cell_type": "markdown",
   "metadata": {},
   "source": [
    "In summary, **np.full** is used to create an array with a constant fill value, \n",
    "\n",
    "while **np.random.uniform** is used to generate an array with random values from a uniform distribution within a specified range."
   ]
  },
  {
   "cell_type": "markdown",
   "metadata": {
    "collapsed": false,
    "deletable": false,
    "editable": false,
    "jupyter": {
     "outputs_hidden": false
    },
    "nbgrader": {
     "grade": false,
     "grade_id": "cf089f",
     "locked": true,
     "schema_version": 3,
     "solution": false,
     "task": false
    }
   },
   "source": [
    "## 8.3\n",
    "\n"
   ]
  },
  {
   "cell_type": "markdown",
   "metadata": {},
   "source": [
    "## Array Indexing, Slicing, and Reshaping"
   ]
  },
  {
   "cell_type": "code",
   "execution_count": 23,
   "metadata": {
    "collapsed": false,
    "deletable": false,
    "jupyter": {
     "outputs_hidden": false
    },
    "nbgrader": {
     "cell_type": "code",
     "checksum": "0b275eed59868f62f99b8edab6cd5578",
     "grade": true,
     "grade_id": "9f6f95",
     "locked": false,
     "points": 5,
     "schema_version": 3,
     "solution": true,
     "task": false
    }
   },
   "outputs": [
    {
     "data": {
      "text/plain": [
       "array([[ 0,  1,  2,  3],\n",
       "       [ 4,  5,  6,  7],\n",
       "       [ 8,  9, 10, 11],\n",
       "       [12, 13, 14, 15]])"
      ]
     },
     "execution_count": 23,
     "metadata": {},
     "output_type": "execute_result"
    }
   ],
   "source": [
    "\"\"\" Create a 4x4 numpy array using the function np.arange() combined with the\n",
    "method .reshape(). Print the array to ensure that it has the required shape.\n",
    "Apply the indexing and slicing operators on this two-dimensional array to obtain\n",
    "results for the below table.\n",
    "\n",
    "NB; Try not to use always a square or rectangle which upper left corner is at (0,\n",
    "0). The point of this exercise is that you learn to make chunks of your data. In\n",
    "the future, these small chunks could be pieces of a raster image.\n",
    "\n",
    "\"\"\"\n",
    "x = np.arange(16).reshape((4,4) ) \n",
    "x\n",
    "\n",
    "# YOUR CODE HERE\n",
    "#raise NotImplementedError()"
   ]
  },
  {
   "cell_type": "code",
   "execution_count": 67,
   "metadata": {
    "collapsed": false,
    "jupyter": {
     "outputs_hidden": false
    }
   },
   "outputs": [
    {
     "data": {
      "text/plain": [
       "0"
      ]
     },
     "execution_count": 67,
     "metadata": {},
     "output_type": "execute_result"
    }
   ],
   "source": [
    "x[0, 0]"
   ]
  },
  {
   "cell_type": "code",
   "execution_count": 37,
   "metadata": {
    "collapsed": false,
    "jupyter": {
     "outputs_hidden": false
    }
   },
   "outputs": [
    {
     "data": {
      "text/plain": [
       "0"
      ]
     },
     "execution_count": 37,
     "metadata": {},
     "output_type": "execute_result"
    }
   ],
   "source": [
    "# 1st value of 1st column\n",
    "x[0, 0]"
   ]
  },
  {
   "cell_type": "code",
   "execution_count": 65,
   "metadata": {
    "collapsed": false,
    "jupyter": {
     "outputs_hidden": false
    }
   },
   "outputs": [
    {
     "data": {
      "text/plain": [
       "11"
      ]
     },
     "execution_count": 65,
     "metadata": {},
     "output_type": "execute_result"
    }
   ],
   "source": [
    "# 3rd value of 4th column\n",
    "x[2, 3]"
   ]
  },
  {
   "cell_type": "code",
   "execution_count": 64,
   "metadata": {
    "collapsed": false,
    "jupyter": {
     "outputs_hidden": false
    }
   },
   "outputs": [
    {
     "data": {
      "text/plain": [
       "10"
      ]
     },
     "execution_count": 64,
     "metadata": {},
     "output_type": "execute_result"
    }
   ],
   "source": [
    "# 3rd value of 3rd column\n",
    "x[2, 2]"
   ]
  },
  {
   "cell_type": "code",
   "execution_count": 63,
   "metadata": {
    "collapsed": false,
    "jupyter": {
     "outputs_hidden": false
    }
   },
   "outputs": [
    {
     "data": {
      "text/plain": [
       "5"
      ]
     },
     "execution_count": 63,
     "metadata": {},
     "output_type": "execute_result"
    }
   ],
   "source": [
    "# 2nd value of 2nd row\n",
    "x[1, 1]"
   ]
  },
  {
   "cell_type": "code",
   "execution_count": 62,
   "metadata": {
    "collapsed": false,
    "jupyter": {
     "outputs_hidden": false
    }
   },
   "outputs": [
    {
     "data": {
      "text/plain": [
       "array([4, 5, 6, 7])"
      ]
     },
     "execution_count": 62,
     "metadata": {},
     "output_type": "execute_result"
    }
   ],
   "source": [
    "# All values of 2nd row\n",
    "x[1, :]"
   ]
  },
  {
   "cell_type": "code",
   "execution_count": 61,
   "metadata": {
    "collapsed": false,
    "jupyter": {
     "outputs_hidden": false
    }
   },
   "outputs": [
    {
     "data": {
      "text/plain": [
       "array([ 2,  6, 10, 14])"
      ]
     },
     "execution_count": 61,
     "metadata": {},
     "output_type": "execute_result"
    }
   ],
   "source": [
    "# All values of 3rd column\n",
    "x[:, 2]"
   ]
  },
  {
   "cell_type": "code",
   "execution_count": 60,
   "metadata": {
    "collapsed": false,
    "jupyter": {
     "outputs_hidden": false
    }
   },
   "outputs": [
    {
     "data": {
      "text/plain": [
       "array([12, 13, 14, 15])"
      ]
     },
     "execution_count": 60,
     "metadata": {},
     "output_type": "execute_result"
    }
   ],
   "source": [
    "# All values of 4th row\n",
    "x[3, :]"
   ]
  },
  {
   "cell_type": "code",
   "execution_count": 59,
   "metadata": {
    "collapsed": false,
    "jupyter": {
     "outputs_hidden": false
    }
   },
   "outputs": [
    {
     "data": {
      "text/plain": [
       "array([ 0,  4,  8, 12])"
      ]
     },
     "execution_count": 59,
     "metadata": {},
     "output_type": "execute_result"
    }
   ],
   "source": [
    "# All values of 1st column\n",
    "x[:, 0]"
   ]
  },
  {
   "cell_type": "code",
   "execution_count": 58,
   "metadata": {
    "collapsed": false,
    "jupyter": {
     "outputs_hidden": false
    }
   },
   "outputs": [
    {
     "data": {
      "text/plain": [
       "array([ 9, 10, 11])"
      ]
     },
     "execution_count": 58,
     "metadata": {},
     "output_type": "execute_result"
    }
   ],
   "source": [
    "# 2nd to 4th values of 3rd row\n",
    "x[2, 1:]"
   ]
  },
  {
   "cell_type": "code",
   "execution_count": 57,
   "metadata": {
    "collapsed": false,
    "jupyter": {
     "outputs_hidden": false
    }
   },
   "outputs": [
    {
     "data": {
      "text/plain": [
       "array([ 3,  7, 11])"
      ]
     },
     "execution_count": 57,
     "metadata": {},
     "output_type": "execute_result"
    }
   ],
   "source": [
    "# 1st to 3rd values of 4th column\n",
    "x[:3, 3]"
   ]
  },
  {
   "cell_type": "code",
   "execution_count": 56,
   "metadata": {
    "collapsed": false,
    "jupyter": {
     "outputs_hidden": false
    }
   },
   "outputs": [
    {
     "data": {
      "text/plain": [
       "array([12, 13, 14, 15])"
      ]
     },
     "execution_count": 56,
     "metadata": {},
     "output_type": "execute_result"
    }
   ],
   "source": [
    "# 1st to 4th values of 4th row\n",
    "x[3, :]"
   ]
  },
  {
   "cell_type": "code",
   "execution_count": 55,
   "metadata": {
    "collapsed": false,
    "jupyter": {
     "outputs_hidden": false
    }
   },
   "outputs": [
    {
     "data": {
      "text/plain": [
       "array([6, 7])"
      ]
     },
     "execution_count": 55,
     "metadata": {},
     "output_type": "execute_result"
    }
   ],
   "source": [
    "# 3rd and 4th values of 2nd row\n",
    "x[1, 2:]"
   ]
  },
  {
   "cell_type": "code",
   "execution_count": 48,
   "metadata": {
    "collapsed": false,
    "jupyter": {
     "outputs_hidden": false
    }
   },
   "outputs": [
    {
     "data": {
      "text/plain": [
       "array([[0, 1],\n",
       "       [4, 5]])"
      ]
     },
     "execution_count": 48,
     "metadata": {},
     "output_type": "execute_result"
    }
   ],
   "source": [
    "# A 2x2 square\n",
    "x[:2, :2]"
   ]
  },
  {
   "cell_type": "code",
   "execution_count": 49,
   "metadata": {
    "collapsed": false,
    "jupyter": {
     "outputs_hidden": false
    }
   },
   "outputs": [
    {
     "data": {
      "text/plain": [
       "array([[0, 1, 2],\n",
       "       [4, 5, 6]])"
      ]
     },
     "execution_count": 49,
     "metadata": {},
     "output_type": "execute_result"
    }
   ],
   "source": [
    "# A 2x3 rectangle\n",
    "x[:2, :3]"
   ]
  },
  {
   "cell_type": "code",
   "execution_count": 50,
   "metadata": {
    "collapsed": false,
    "jupyter": {
     "outputs_hidden": false
    }
   },
   "outputs": [
    {
     "data": {
      "text/plain": [
       "array([[0, 1],\n",
       "       [4, 5],\n",
       "       [8, 9]])"
      ]
     },
     "execution_count": 50,
     "metadata": {},
     "output_type": "execute_result"
    }
   ],
   "source": [
    "# A 3x2 rectangle\n",
    "x[:3, :2]"
   ]
  },
  {
   "cell_type": "code",
   "execution_count": 51,
   "metadata": {
    "collapsed": false,
    "jupyter": {
     "outputs_hidden": false
    }
   },
   "outputs": [
    {
     "data": {
      "text/plain": [
       "array([[ 0,  1],\n",
       "       [ 4,  5],\n",
       "       [ 8,  9],\n",
       "       [12, 13]])"
      ]
     },
     "execution_count": 51,
     "metadata": {},
     "output_type": "execute_result"
    }
   ],
   "source": [
    "# A 4x2 rectangle\n",
    "x[:4, :2]"
   ]
  },
  {
   "cell_type": "code",
   "execution_count": 52,
   "metadata": {
    "collapsed": false,
    "jupyter": {
     "outputs_hidden": false
    }
   },
   "outputs": [
    {
     "data": {
      "text/plain": [
       "array([[0, 1, 2, 3],\n",
       "       [4, 5, 6, 7]])"
      ]
     },
     "execution_count": 52,
     "metadata": {},
     "output_type": "execute_result"
    }
   ],
   "source": [
    "# A 2x4 rectangle\n",
    "x[:2, :4]"
   ]
  },
  {
   "cell_type": "code",
   "execution_count": 54,
   "metadata": {
    "collapsed": false,
    "jupyter": {
     "outputs_hidden": false
    }
   },
   "outputs": [
    {
     "data": {
      "text/plain": [
       "array([[ 0,  1,  2],\n",
       "       [ 4,  5,  6],\n",
       "       [ 8,  9, 10]])"
      ]
     },
     "execution_count": 54,
     "metadata": {},
     "output_type": "execute_result"
    }
   ],
   "source": [
    "# A 3x3 square\n",
    "x[:3, :3]"
   ]
  },
  {
   "cell_type": "code",
   "execution_count": 68,
   "metadata": {
    "collapsed": false,
    "jupyter": {
     "outputs_hidden": false
    }
   },
   "outputs": [
    {
     "data": {
      "text/plain": [
       "array([[ 0,  1,  2,  3],\n",
       "       [ 4,  5,  6,  7],\n",
       "       [ 8,  9, 10, 11]])"
      ]
     },
     "execution_count": 68,
     "metadata": {},
     "output_type": "execute_result"
    }
   ],
   "source": [
    "# Rectangle 3 x 4 \n",
    "\n",
    "x[:3, :4]"
   ]
  },
  {
   "cell_type": "code",
   "execution_count": 69,
   "metadata": {
    "collapsed": false,
    "jupyter": {
     "outputs_hidden": false
    }
   },
   "outputs": [
    {
     "data": {
      "text/plain": [
       "array([[ 0,  1,  2],\n",
       "       [ 4,  5,  6],\n",
       "       [ 8,  9, 10],\n",
       "       [12, 13, 14]])"
      ]
     },
     "execution_count": 69,
     "metadata": {},
     "output_type": "execute_result"
    }
   ],
   "source": [
    "# Rectange 4 x 3 \n",
    "\n",
    "x[:4, :3]"
   ]
  },
  {
   "attachments": {},
   "cell_type": "markdown",
   "metadata": {
    "collapsed": false,
    "deletable": false,
    "editable": false,
    "jupyter": {
     "outputs_hidden": false
    },
    "nbgrader": {
     "grade": false,
     "grade_id": "675a79",
     "locked": true,
     "schema_version": 3,
     "solution": false,
     "task": false
    }
   },
   "source": [
    "## 8.4\n",
    "\n"
   ]
  },
  {
   "cell_type": "markdown",
   "metadata": {},
   "source": [
    "### Changing Shape of An Array and Aggregations"
   ]
  },
  {
   "cell_type": "code",
   "execution_count": 24,
   "metadata": {
    "collapsed": false,
    "deletable": false,
    "jupyter": {
     "outputs_hidden": false
    },
    "nbgrader": {
     "cell_type": "code",
     "checksum": "da39de3b9716c01178038ca939114a34",
     "grade": true,
     "grade_id": "1d3ef4",
     "locked": false,
     "points": 20,
     "schema_version": 3,
     "solution": true,
     "task": false
    }
   },
   "outputs": [
    {
     "name": "stdout",
     "output_type": "stream",
     "text": [
      "[54 13 70 46 24 35 46 57 93 98 88 23 41 74 12 70  3 13 95 19 48 84 85 79\n",
      " 99]\n",
      "[[54 13 70 46 24]\n",
      " [35 46 57 93 98]\n",
      " [88 23 41 74 12]\n",
      " [70  3 13 95 19]\n",
      " [48 84 85 79 99]]\n"
     ]
    }
   ],
   "source": [
    "\"\"\" Use the function np.random.randint() to create a one-dimensional array of\n",
    "25 random numbers between 0 and 100. \n",
    "Reshape this one-dimensional array to a two-dimensional array using the .reshape() method. \n",
    "At this point, you will apply several statistical/mathematical methods to this two-dimensional array or\n",
    "a subset of it, following the instructions of the table below.\n",
    "\n",
    "Try not to always use a square or rectangle whose upper left corner is at (0,\n",
    "0). The point of this exercise is that you learn to apply calculations to chunks of\n",
    "your data. In the future this could be applying zonal statistics to a chunk of your\n",
    "raster image.\n",
    "\n",
    "\"\"\"\n",
    "\n",
    "\"\"\"Enter your answer here.\"\"\"\n",
    "# YOUR CODE HERE\n",
    "\n",
    "random_numbers = np.random.randint(0,100,25)\n",
    "\n",
    "# Reshape the one-dimensional array to a two-dimensional array (5x5)\n",
    "two_dimensional_array = random_numbers.reshape(5, 5)\n",
    "\n",
    "\n",
    "print(random_numbers)\n",
    "\n",
    "print(two_dimensional_array)\n",
    "\n",
    "#raise NotImplementedError()"
   ]
  },
  {
   "cell_type": "code",
   "execution_count": 75,
   "metadata": {
    "collapsed": false,
    "jupyter": {
     "outputs_hidden": false
    }
   },
   "outputs": [
    {
     "data": {
      "text/plain": [
       "46.04"
      ]
     },
     "execution_count": 75,
     "metadata": {},
     "output_type": "execute_result"
    }
   ],
   "source": [
    "# Mean of the original array \n",
    "np.mean(random_numbers)"
   ]
  },
  {
   "cell_type": "code",
   "execution_count": 76,
   "metadata": {
    "collapsed": false,
    "jupyter": {
     "outputs_hidden": false
    }
   },
   "outputs": [
    {
     "data": {
      "text/plain": [
       "30.940562373686745"
      ]
     },
     "execution_count": 76,
     "metadata": {},
     "output_type": "execute_result"
    }
   ],
   "source": [
    "# Standard deviation of the original array\n",
    "np.std(random_numbers)"
   ]
  },
  {
   "cell_type": "code",
   "execution_count": 77,
   "metadata": {
    "collapsed": false,
    "jupyter": {
     "outputs_hidden": false
    }
   },
   "outputs": [
    {
     "data": {
      "text/plain": [
       "98"
      ]
     },
     "execution_count": 77,
     "metadata": {},
     "output_type": "execute_result"
    }
   ],
   "source": [
    "# Maximum of the original array\n",
    "np.max(random_numbers)"
   ]
  },
  {
   "cell_type": "code",
   "execution_count": 78,
   "metadata": {
    "collapsed": false,
    "jupyter": {
     "outputs_hidden": false
    }
   },
   "outputs": [
    {
     "data": {
      "text/plain": [
       "2"
      ]
     },
     "execution_count": 78,
     "metadata": {},
     "output_type": "execute_result"
    }
   ],
   "source": [
    "# Minimum of the original array\n",
    "np.min(random_numbers)"
   ]
  },
  {
   "cell_type": "code",
   "execution_count": 79,
   "metadata": {
    "collapsed": false,
    "jupyter": {
     "outputs_hidden": false
    }
   },
   "outputs": [
    {
     "data": {
      "text/plain": [
       "62.8"
      ]
     },
     "execution_count": 79,
     "metadata": {},
     "output_type": "execute_result"
    }
   ],
   "source": [
    "# Mean of the 1st column\n",
    "np.mean(two_dimensional_array[:, 0])\n",
    "\n",
    "#  [:, 0] is a slicing operation that selects all rows from the first column of a 2D array."
   ]
  },
  {
   "cell_type": "code",
   "execution_count": 28,
   "metadata": {
    "collapsed": false,
    "jupyter": {
     "outputs_hidden": false
    }
   },
   "outputs": [
    {
     "data": {
      "text/plain": [
       "25.277658119374905"
      ]
     },
     "execution_count": 28,
     "metadata": {},
     "output_type": "execute_result"
    }
   ],
   "source": [
    "# Standard deviation of the 2nd row\n",
    "np.std(two_dimensional_array[1 ,:])"
   ]
  },
  {
   "cell_type": "code",
   "execution_count": 25,
   "metadata": {
    "collapsed": false,
    "jupyter": {
     "outputs_hidden": false
    }
   },
   "outputs": [
    {
     "data": {
      "text/plain": [
       "85"
      ]
     },
     "execution_count": 25,
     "metadata": {},
     "output_type": "execute_result"
    }
   ],
   "source": [
    "# Maximum value in the 3rd column\n",
    "np.max(two_dimensional_array[:, 2])"
   ]
  },
  {
   "cell_type": "code",
   "execution_count": 26,
   "metadata": {
    "collapsed": false,
    "jupyter": {
     "outputs_hidden": false
    }
   },
   "outputs": [
    {
     "data": {
      "text/plain": [
       "3"
      ]
     },
     "execution_count": 26,
     "metadata": {},
     "output_type": "execute_result"
    }
   ],
   "source": [
    "# Minimum value in the 4th row\n",
    "np.min(two_dimensional_array[3, :])"
   ]
  },
  {
   "cell_type": "code",
   "execution_count": 36,
   "metadata": {
    "collapsed": false,
    "jupyter": {
     "outputs_hidden": false
    }
   },
   "outputs": [
    {
     "data": {
      "text/plain": [
       "37.0"
      ]
     },
     "execution_count": 36,
     "metadata": {},
     "output_type": "execute_result"
    }
   ],
   "source": [
    "# Mean of the 2x2 square\n",
    "\n",
    "square_2x2 = two_dimensional_array[:2, :2]\n",
    "np.mean(square_2x2)"
   ]
  },
  {
   "cell_type": "code",
   "execution_count": 35,
   "metadata": {
    "collapsed": false,
    "jupyter": {
     "outputs_hidden": false
    }
   },
   "outputs": [
    {
     "data": {
      "text/plain": [
       "15.411035007422441"
      ]
     },
     "execution_count": 35,
     "metadata": {},
     "output_type": "execute_result"
    }
   ],
   "source": [
    "# Standard deviation of the 2x2 square\n",
    "np.std(square_2x2)"
   ]
  },
  {
   "cell_type": "code",
   "execution_count": 34,
   "metadata": {
    "collapsed": false,
    "jupyter": {
     "outputs_hidden": false
    }
   },
   "outputs": [
    {
     "data": {
      "text/plain": [
       "70"
      ]
     },
     "execution_count": 34,
     "metadata": {},
     "output_type": "execute_result"
    }
   ],
   "source": [
    "# Maximum value in the 2x3 square\n",
    "square_2x3 = two_dimensional_array[:2, :3]\n",
    "np.max(square_2x3)"
   ]
  },
  {
   "cell_type": "code",
   "execution_count": 33,
   "metadata": {
    "collapsed": false,
    "jupyter": {
     "outputs_hidden": false
    }
   },
   "outputs": [
    {
     "data": {
      "text/plain": [
       "13"
      ]
     },
     "execution_count": 33,
     "metadata": {},
     "output_type": "execute_result"
    }
   ],
   "source": [
    "# Minimum value in the 3x2 square\n",
    "square_3x2 =two_dimensional_array[:3, :2]\n",
    "np.min(square_3x2)"
   ]
  },
  {
   "cell_type": "code",
   "execution_count": 32,
   "metadata": {
    "collapsed": false,
    "jupyter": {
     "outputs_hidden": false
    }
   },
   "outputs": [
    {
     "data": {
      "text/plain": [
       "47.44444444444444"
      ]
     },
     "execution_count": 32,
     "metadata": {},
     "output_type": "execute_result"
    }
   ],
   "source": [
    "# Mean of the 3x3 square\n",
    "square_3x3 = two_dimensional_array[:3, :3]\n",
    "np.mean(square_3x3)"
   ]
  },
  {
   "cell_type": "code",
   "execution_count": 31,
   "metadata": {
    "collapsed": false,
    "jupyter": {
     "outputs_hidden": false
    }
   },
   "outputs": [
    {
     "data": {
      "text/plain": [
       "23.517133234209386"
      ]
     },
     "execution_count": 31,
     "metadata": {},
     "output_type": "execute_result"
    }
   ],
   "source": [
    "# Standard deviation of the 3x4 square\n",
    "square_3x4 = two_dimensional_array[:3, :4]\n",
    "np.std(square_3x4)"
   ]
  },
  {
   "cell_type": "code",
   "execution_count": 30,
   "metadata": {
    "collapsed": false,
    "jupyter": {
     "outputs_hidden": false
    }
   },
   "outputs": [
    {
     "data": {
      "text/plain": [
       "95"
      ]
     },
     "execution_count": 30,
     "metadata": {},
     "output_type": "execute_result"
    }
   ],
   "source": [
    "# Maximum value in the 4x4 square\n",
    "square_4x4 = two_dimensional_array[:4, :4]\n",
    "np.max(square_4x4)"
   ]
  },
  {
   "cell_type": "code",
   "execution_count": 29,
   "metadata": {
    "collapsed": false,
    "jupyter": {
     "outputs_hidden": false
    }
   },
   "outputs": [
    {
     "data": {
      "text/plain": [
       "3"
      ]
     },
     "execution_count": 29,
     "metadata": {},
     "output_type": "execute_result"
    }
   ],
   "source": [
    "# Minimum value in the 4x5 square\n",
    "square_4x5 = two_dimensional_array[:4, :5]\n",
    "np.min(square_4x5)"
   ]
  },
  {
   "attachments": {},
   "cell_type": "markdown",
   "metadata": {
    "collapsed": false,
    "jupyter": {
     "outputs_hidden": false
    }
   },
   "source": [
    "## 8.5\n",
    "\n"
   ]
  },
  {
   "cell_type": "code",
   "execution_count": 41,
   "metadata": {
    "collapsed": false,
    "deletable": false,
    "jupyter": {
     "outputs_hidden": false
    },
    "nbgrader": {
     "cell_type": "code",
     "checksum": "b0bad485e2a6495a9b76c6217b7c3c00",
     "grade": true,
     "grade_id": "8f22cc",
     "locked": false,
     "points": 20,
     "schema_version": 3,
     "solution": true,
     "task": false
    }
   },
   "outputs": [
    {
     "name": "stdout",
     "output_type": "stream",
     "text": [
      "[19 42 79 34 97 61 62 10 90 15  5  0 65  7 38 24 36 84 85 83 15 50 94 38\n",
      " 18]\n",
      "[[19 42 79 34 97]\n",
      " [61 62 10 90 15]\n",
      " [ 5  0 65  7 38]\n",
      " [24 36 84 85 83]\n",
      " [15 50 94 38 18]]\n"
     ]
    }
   ],
   "source": [
    "\"\"\"\n",
    "Use the function np.random.randint() to create a one-dimensional array of\n",
    "25 random numbers between 0 and 100. \n",
    "\n",
    "Reshape this one-dimensional array to a two-dimensional using the .reshape() method. \n",
    "\n",
    "At this point, you will apply several statistical/mathematical methods to this two-dimensional array \n",
    "or a subset of it, following the instructions of the below table.\n",
    "\n",
    "\"\"\"\n",
    "\"\"\"Enter your answer here.\"\"\"\n",
    "# YOUR CODE HERE\n",
    "random_numbers = np.random.randint(0, 100, 25)\n",
    "\n",
    "# Reshape the one-dimensional array to a two-dimensional array (5x5)\n",
    "two_dimensional_array = random_numbers.reshape(5, 5)\n",
    "print(random_numbers)\n",
    "\n",
    "print(two_dimensional_array)\n",
    "\n",
    "#raise NotImplementedError()"
   ]
  },
  {
   "attachments": {
    "a879a821-12c9-42f2-b955-cabcb0ed5afa.png": {
     "image/png": "[encoded data removed]"
    }
   },
   "cell_type": "markdown",
   "metadata": {
    "collapsed": false,
    "jupyter": {
     "outputs_hidden": false
    }
   },
   "source": [
    "**When you perform operations along Axis 0, you're working with columns, and along Axis 1, you're working with rows.**  \n",
    "\n",
    "![image.png](attachment:a879a821-12c9-42f2-b955-cabcb0ed5afa.png)\n",
    "\n"
   ]
  },
  {
   "cell_type": "raw",
   "metadata": {
    "collapsed": false,
    "jupyter": {
     "outputs_hidden": false
    }
   },
   "source": [
    "Axis 1 (horizontal):\n",
    "[[95, 97,  3, 68, 84],\n",
    " [47, 17, 35, 75, 70],\n",
    " [74, 95, 69, 12, 91],\n",
    " [69, 82, 61, 25, 26],\n",
    " [35, 45, 87, 71,  3]]\n",
    "\n",
    "Axis 0 (vertical):\n",
    "[[95, 47, 74, 69, 35],\n",
    " [97, 17, 95, 82, 45],\n",
    " [ 3, 35, 69, 61, 87],\n",
    " [68, 75, 12, 25, 71],\n",
    " [84, 70, 91, 26,  3]]"
   ]
  },
  {
   "cell_type": "code",
   "execution_count": 42,
   "metadata": {
    "collapsed": false,
    "jupyter": {
     "outputs_hidden": false
    }
   },
   "outputs": [
    {
     "data": {
      "text/plain": [
       "array([124, 190, 332, 254, 251])"
      ]
     },
     "execution_count": 42,
     "metadata": {},
     "output_type": "execute_result"
    }
   ],
   "source": [
    "# https://www.sharpsightlabs.com/blog/numpy-axes-explained/\n",
    "# Sum along axis 0\n",
    "# All Rows into a single row\n",
    "\n",
    "sum_axis_0 = np.sum(two_dimensional_array, axis=0)\n",
    "sum_axis_0"
   ]
  },
  {
   "cell_type": "code",
   "execution_count": 43,
   "metadata": {},
   "outputs": [
    {
     "name": "stdout",
     "output_type": "stream",
     "text": [
      "Total Sum: 1151\n"
     ]
    }
   ],
   "source": [
    "# Calculate the total sum of all elements in the array\n",
    "total_sum = np.sum(two_dimensional_array)\n",
    "\n",
    "print(\"Total Sum:\", total_sum)"
   ]
  },
  {
   "cell_type": "code",
   "execution_count": 44,
   "metadata": {
    "collapsed": false,
    "jupyter": {
     "outputs_hidden": false
    }
   },
   "outputs": [
    {
     "data": {
      "text/plain": [
       "array([  2086200,         0, 405459600,  69186600,  82603260])"
      ]
     },
     "execution_count": 44,
     "metadata": {},
     "output_type": "execute_result"
    }
   ],
   "source": [
    "# Product along axis 0\n",
    "product_axis_0 = np.prod(two_dimensional_array, axis=0)\n",
    "product_axis_0"
   ]
  },
  {
   "cell_type": "code",
   "execution_count": 45,
   "metadata": {
    "collapsed": false,
    "jupyter": {
     "outputs_hidden": false
    }
   },
   "outputs": [
    {
     "data": {
      "text/plain": [
       "array([271, 238, 115, 312, 215])"
      ]
     },
     "execution_count": 45,
     "metadata": {},
     "output_type": "execute_result"
    }
   ],
   "source": [
    "# Sum along axis 1\n",
    "sum_axis_1 = np.sum(two_dimensional_array, axis=1)\n",
    "sum_axis_1"
   ]
  },
  {
   "cell_type": "code",
   "execution_count": 47,
   "metadata": {
    "collapsed": false,
    "jupyter": {
     "outputs_hidden": false
    }
   },
   "outputs": [
    {
     "data": {
      "text/plain": [
       "array([207912516,  51057000,         0, 512023680,  48222000])"
      ]
     },
     "execution_count": 47,
     "metadata": {},
     "output_type": "execute_result"
    }
   ],
   "source": [
    "# Product along axis 1\n",
    "product_axis_1 = np.prod(two_dimensional_array, axis=1)\n",
    "product_axis_1"
   ]
  },
  {
   "cell_type": "code",
   "execution_count": 48,
   "metadata": {
    "collapsed": false,
    "jupyter": {
     "outputs_hidden": false
    }
   },
   "outputs": [
    {
     "data": {
      "text/plain": [
       "array([ 85, 104, 154])"
      ]
     },
     "execution_count": 48,
     "metadata": {},
     "output_type": "execute_result"
    }
   ],
   "source": [
    "# Sum along axis 0 for the 3x3 square\n",
    "# Step 1: sum of square 3 x 3 \n",
    "# Step 2: In Axis 0 which is columns\n",
    "sum_3x3_square_axis_0 = np.sum(two_dimensional_array[:3, :3], axis=0)\n",
    "sum_3x3_square_axis_0"
   ]
  },
  {
   "cell_type": "code",
   "execution_count": 49,
   "metadata": {
    "collapsed": false,
    "jupyter": {
     "outputs_hidden": false
    }
   },
   "outputs": [
    {
     "data": {
      "text/plain": [
       "array([63042, 37820,     0, 72576])"
      ]
     },
     "execution_count": 49,
     "metadata": {},
     "output_type": "execute_result"
    }
   ],
   "source": [
    "# Product along axis 1 for the 4x3 rectangle\n",
    "# Step 1: Product of 4 x 3 rectangle \n",
    "# Step 2: In Axis 1 which is rows\n",
    "# Product along axis 1 for the 4x3 rectangle\n",
    "product_4x3_rectangle_axis_1 = np.prod(two_dimensional_array[:4, :3], axis=1)\n",
    "product_4x3_rectangle_axis_1"
   ]
  },
  {
   "cell_type": "code",
   "execution_count": 50,
   "metadata": {
    "collapsed": false,
    "jupyter": {
     "outputs_hidden": false
    }
   },
   "outputs": [
    {
     "data": {
      "text/plain": [
       "array([ 80, 104,  89, 124])"
      ]
     },
     "execution_count": 50,
     "metadata": {},
     "output_type": "execute_result"
    }
   ],
   "source": [
    "# Sum along axis 0 for the 2x4 rectangle\n",
    "sum_2x4_rectangle_axis_0 = np.sum(two_dimensional_array[:2, :4], axis=0)\n",
    "sum_2x4_rectangle_axis_0"
   ]
  },
  {
   "cell_type": "code",
   "execution_count": 51,
   "metadata": {
    "collapsed": false,
    "jupyter": {
     "outputs_hidden": false
    }
   },
   "outputs": [
    {
     "data": {
      "text/plain": [
       "array([2143428, 3403800,       0, 6168960, 2679000])"
      ]
     },
     "execution_count": 51,
     "metadata": {},
     "output_type": "execute_result"
    }
   ],
   "source": [
    "# Product along axis 1 for the 5x4 rectangle\n",
    "product_5x4_rectangle_axis_1 = np.prod(two_dimensional_array[:5, :4], axis=1)\n",
    "product_5x4_rectangle_axis_1"
   ]
  },
  {
   "cell_type": "markdown",
   "metadata": {
    "collapsed": false,
    "jupyter": {
     "outputs_hidden": false
    }
   },
   "source": [
    "<span style='font-size:large'><u>**Conclusion**</u></span><span style='font-size:large'><u> </u></span>\n",
    "\n",
    "<span style='font-size:medium'>In Exercise 8.4, you should understand how to apply several statistical and mathematical methods to the two\\-dimensional array or a subset of it.</span>  \n",
    "\n",
    "\n",
    "<span style='font-size:medium'>In Exercise 8.5, you should understand how to work with </span>\n",
    "<span style='font-size:medium'>the two\\-dimensional array and subsets of it while dealing with the </span>\n",
    "<span style='font-size:medium'>numpy axes, axis 0 and axis 1.</span>\n",
    "\n",
    "###### [<span style='font-size:medium'>https://www.sharpsightlabs.com/blog/numpy\\-axes\\-explained/</span>](https://www.sharpsightlabs.com/blog/numpy-axes-explained/)\n",
    "\n"
   ]
  },
  {
   "cell_type": "markdown",
   "metadata": {
    "collapsed": false,
    "deletable": false,
    "editable": false,
    "jupyter": {
     "outputs_hidden": false
    },
    "nbgrader": {
     "grade": false,
     "grade_id": "4469a9",
     "locked": true,
     "schema_version": 3,
     "solution": false,
     "task": false
    }
   },
   "source": [
    "## 8.6\n",
    "\n"
   ]
  },
  {
   "cell_type": "code",
   "execution_count": 19,
   "metadata": {
    "collapsed": false,
    "deletable": false,
    "jupyter": {
     "outputs_hidden": false
    },
    "nbgrader": {
     "cell_type": "code",
     "checksum": "44471232b2b098d3bd573c2e1f2e9e8b",
     "grade": true,
     "grade_id": "1738fc",
     "locked": false,
     "points": 20,
     "schema_version": 3,
     "solution": true,
     "task": false
    }
   },
   "outputs": [],
   "source": [
    "#\"\"\"Enter your answer here.\"\"\"\n",
    "# YOUR CODE HERE\n",
    "#raise NotImplementedError()"
   ]
  },
  {
   "cell_type": "markdown",
   "metadata": {
    "collapsed": false,
    "jupyter": {
     "outputs_hidden": false
    }
   },
   "source": [
    "## References for Exercise 8.6 \n",
    "\n",
    "##### https://matplotlib.org/2.0.2/users/image_tutorial.html\n",
    "##### https://matplotlib.org/2.0.2/examples/color/colormaps_reference.html\n",
    "##### https://matplotlib.org/2.0.2/examples/images_contours_and_fields/interpolation_methods.html"
   ]
  },
  {
   "cell_type": "code",
   "execution_count": 15,
   "metadata": {
    "collapsed": false,
    "jupyter": {
     "outputs_hidden": false
    }
   },
   "outputs": [
    {
     "name": "stdout",
     "output_type": "stream",
     "text": [
      "(30, 30)\n",
      "(30, 30)\n",
      "(30, 30)\n",
      "(30, 30, 3)\n"
     ]
    },
    {
     "data": {
      "image/png": "[encoded data removed]",
      "text/plain": [
       "<Figure size 864x504 with 4 Axes>"
      ]
     },
     "execution_count": 15,
     "metadata": {
      "image/png": {
       "height": 412,
       "width": 572
      },
      "needs_background": "light"
     },
     "output_type": "execute_result"
    }
   ],
   "source": [
    "import matplotlib.pyplot as plt\n",
    "import numpy as np\n",
    "\n",
    "a = np.random.randint(0, 255, 900)  # generate three arrays\n",
    "b = np.random.randint(0, 255, 900)\n",
    "c = np.random.randint(0, 255, 900)\n",
    "array1 = a.reshape(30, 30)  # reshape to 30 x 30\n",
    "array2 = b.reshape(30, 30)\n",
    "array3 = c.reshape(30, 30)\n",
    "\n",
    "# print the shape of the arrays\n",
    "print(array1.shape)\n",
    "print(array2.shape)\n",
    "print(array3.shape)\n",
    "\n",
    "# Apply to each of the arrays a color scale according to the channel\n",
    "# they represent. Pass a cmap parameter with a proper color map\n",
    "# to the function imshow()\n",
    "\n",
    "plt.subplot(2, 2, 1)\n",
    "plt.imshow(array1, cmap=\"Greens\")\n",
    "\n",
    "plt.subplot(2, 2, 2)\n",
    "plt.imshow(array2, cmap=\"Blues\")\n",
    "\n",
    "plt.subplot(2, 2, 3)\n",
    "plt.imshow(array3, cmap=\"Wistia\")\n",
    "\n",
    "d = np.dstack((array1, array2, array3))  \n",
    "# stack into a new array\n",
    "# the three RGB arrays, using np. dstack ()\n",
    "print(d.shape)  \n",
    "# check whether the new array has correct size\n",
    "# and dimension (30, 30, 3)\n",
    "\n",
    "plt.subplot(2, 2, 4)\n",
    "plt.imshow(d.astype(np.uint8))\n",
    "plt.show()  # show the results\n"
   ]
  },
  {
   "cell_type": "markdown",
   "metadata": {},
   "source": [
    "### NOTE About numpy.dstack"
   ]
  },
  {
   "cell_type": "markdown",
   "metadata": {},
   "source": [
    "https://numpy.org/doc/stable/reference/generated/numpy.dstack.html\n",
    "\n",
    "This function makes most sense for arrays with up to 3 dimensions. \n",
    "\n",
    "For instance, for pixel-data with a height (first axis), width (second axis), and r/g/b channels (third axis). \n",
    "\n",
    "The functions concatenate, stack and block provide more general stacking and concatenation operations."
   ]
  },
  {
   "cell_type": "markdown",
   "metadata": {},
   "source": [
    "**np.dstack** creates a new 3D array where the first 2D array (array1) becomes the first layer along the third axis, and the second 2D array (array2) becomes the second layer along the third axis.\n",
    "\n",
    "In the output, each element in the resulting 3D array is a pair of corresponding elements from array1 and array2.\n",
    "\n",
    "\n",
    "The shape of the resulting array is determined by the shape of the input arrays and is **(num_rows, num_columns, num_layers)**."
   ]
  },
  {
   "cell_type": "markdown",
   "metadata": {
    "collapsed": false,
    "deletable": false,
    "editable": false,
    "jupyter": {
     "outputs_hidden": false
    },
    "nbgrader": {
     "grade": false,
     "grade_id": "a9aaaa",
     "locked": true,
     "schema_version": 3,
     "solution": false,
     "task": false
    }
   },
   "source": [
    "## 8.7\n",
    "\n"
   ]
  },
  {
   "cell_type": "markdown",
   "metadata": {
    "collapsed": false,
    "jupyter": {
     "outputs_hidden": false
    }
   },
   "source": [
    "## Geospatial Exercises"
   ]
  },
  {
   "cell_type": "code",
   "execution_count": null,
   "metadata": {
    "collapsed": false,
    "deletable": false,
    "jupyter": {
     "outputs_hidden": false
    },
    "nbgrader": {
     "cell_type": "code",
     "checksum": "58aaea6e1740041b70f5cf87bbe60c6f",
     "grade": true,
     "grade_id": "c3f4b3",
     "locked": false,
     "points": 10,
     "schema_version": 3,
     "solution": true,
     "task": false
    }
   },
   "outputs": [],
   "source": [
    "\"\"\"Enter your answer here.\"\"\"\n",
    "# YOUR CODE HERE\n",
    "#raise NotImplementedError()"
   ]
  },
  {
   "cell_type": "code",
   "execution_count": 62,
   "metadata": {},
   "outputs": [
    {
     "data": {
      "text/plain": [
       "'\\nUse the function read_one() to read the file named 2014_DOY_180.csv (represents 29th June, 2014). \\n\\nDisplay the shape, dimension and size of this array.\\nUsing the methods .min() and .max(), find the lowest and highest maximum\\ntemperature for this day and use two variables to remember these. \\n\\nNext, you should find the pixels where these extreme temperatures occurred. \\n\\nTo this end, you can use the function np.where(). It compare (==) the band with a value and\\nreturns the indices of those positions. Display these. \\n                                                                                                '"
      ]
     },
     "execution_count": 62,
     "metadata": {},
     "output_type": "execute_result"
    }
   ],
   "source": [
    "\"\"\"\n",
    "Use the function read_one() to read the file named 2014_DOY_180.csv (represents 29th June, 2014). \n",
    "\n",
    "Display the shape, dimension and size of this array.\n",
    "Using the methods .min() and .max(), find the lowest and highest maximum\n",
    "temperature for this day and use two variables to remember these. \n",
    "\n",
    "Next, you should find the pixels where these extreme temperatures occurred. \n",
    "\n",
    "To this end, you can use the function np.where(). It compare (==) the band with a value and\n",
    "returns the indices of those positions. Display these. \n",
    "                                                                                                \"\"\""
   ]
  },
  {
   "cell_type": "code",
   "execution_count": 52,
   "metadata": {
    "collapsed": false,
    "jupyter": {
     "outputs_hidden": false
    }
   },
   "outputs": [
    {
     "data": {
      "text/plain": [
       "'C:\\\\Users\\\\Zako3\\\\Downloads\\\\Handouts\\\\exercise_data_numpy\\\\2014.tif'"
      ]
     },
     "execution_count": 52,
     "metadata": {},
     "output_type": "execute_result"
    }
   ],
   "source": [
    "import os\n",
    "\n",
    "dir = 'data'\n",
    "dir = r\"C:\\Users\\Zako3\\Downloads\\Handouts\\exercise_data_numpy\"\n",
    "\n",
    "dsPath = os.path.join(dir, '2014.tif')\n",
    "dsPath"
   ]
  },
  {
   "cell_type": "code",
   "execution_count": 58,
   "metadata": {
    "collapsed": false,
    "jupyter": {
     "outputs_hidden": false
    }
   },
   "outputs": [
    {
     "name": "stdout",
     "output_type": "stream",
     "text": [
      "Shape:  (50, 100)\n",
      "Size:  5000\n",
      "Ndim:  2\n",
      "\n",
      "18.61\n",
      "\n",
      "19.62\n",
      "\n",
      "Indices of the lowest values:\n",
      "(array([22, 23, 24, 25, 26, 27], dtype=int64), array([0, 0, 0, 0, 0, 0], dtype=int64))\n",
      "\n",
      "Indices of the highest values:\n",
      "(array([36, 37, 37, 38, 38, 39], dtype=int64), array([88, 88, 89, 88, 89, 88], dtype=int64))\n"
     ]
    }
   ],
   "source": [
    "import numpy as np \n",
    "\n",
    "def read_one(path):\n",
    "    band = np.loadtxt(path, delimiter=\";\")\n",
    "    return band\n",
    "\n",
    "path_file = r\"C:\\Users\\Zako3\\Downloads\\Handouts\\exercise_data_numpy\\2014_DOY_180.csv\"\n",
    "band = read_one(path_file)\n",
    "\n",
    "print(\"Shape: \", band.shape)\n",
    "print(\"Size: \", band.size)\n",
    "print(\"Ndim: \", band.ndim)\n",
    "print(\"\")\n",
    "\n",
    "lowest = band.min()\n",
    "highest = band.max()\n",
    "print(lowest)\n",
    "print('')\n",
    "\n",
    "print(highest)\n",
    "print('')\n",
    "\n",
    "idx_lowest = np.where(band == lowest)\n",
    "idx_highest = np.where(band == highest)\n",
    "\n",
    "print(\"Indices of the lowest values:\")\n",
    "print(idx_lowest)\n",
    "print(\"\")\n",
    "\n",
    "print(\"Indices of the highest values:\")\n",
    "print(idx_highest)\n"
   ]
  },
  {
   "cell_type": "markdown",
   "metadata": {
    "collapsed": false,
    "deletable": false,
    "editable": false,
    "jupyter": {
     "outputs_hidden": false
    },
    "nbgrader": {
     "grade": false,
     "grade_id": "79c831",
     "locked": true,
     "schema_version": 3,
     "solution": false,
     "task": false
    }
   },
   "source": [
    "## 8.8\n",
    "\n"
   ]
  },
  {
   "cell_type": "code",
   "execution_count": null,
   "metadata": {
    "collapsed": false,
    "deletable": false,
    "jupyter": {
     "outputs_hidden": false
    },
    "nbgrader": {
     "cell_type": "code",
     "checksum": "604926310b6618a41e7a24d1c5cc286f",
     "grade": true,
     "grade_id": "98962e",
     "locked": false,
     "points": 10,
     "schema_version": 3,
     "solution": true,
     "task": false
    }
   },
   "outputs": [],
   "source": [
    "\"\"\"Enter your answer here.\"\"\"\n",
    "# YOUR CODE HERE\n",
    "#raise NotImplementedError()"
   ]
  },
  {
   "cell_type": "code",
   "execution_count": 67,
   "metadata": {
    "collapsed": false,
    "jupyter": {
     "outputs_hidden": false
    }
   },
   "outputs": [
    {
     "data": {
      "text/plain": [
       "'\\nNow work towards plotting the band. For this purpose, import the module\\nmatplotlib.pyplot as plt and use the function plt.imshow() to do so. \\nAdd a color bar to your plot using the function plt.colorbar(). Remember to use\\nthe function plt.show() to display the band. You can pass an interpolation\\nparameter to the function imshow(). Visually study what is the effect of setting\\nthis interpolation parameter to None, nearest or spline16.\\n\\nYou are invited to witness the full list of interpolations \\nhere: MPL interpolation methods.\\nhttps://matplotlib.org/2.0.2/examples/images_contours_and_fields/interpolation_methods.html\\n'"
      ]
     },
     "execution_count": 67,
     "metadata": {},
     "output_type": "execute_result"
    }
   ],
   "source": [
    "\"\"\"\n",
    "Now work towards plotting the band. For this purpose, import the module\n",
    "matplotlib.pyplot as plt and use the function plt.imshow() to do so. \n",
    "Add a color bar to your plot using the function plt.colorbar(). Remember to use\n",
    "the function plt.show() to display the band. You can pass an interpolation\n",
    "parameter to the function imshow(). Visually study what is the effect of setting\n",
    "this interpolation parameter to None, nearest or spline16.\n",
    "\n",
    "You are invited to witness the full list of interpolations \n",
    "here: MPL interpolation methods.\n",
    "https://matplotlib.org/2.0.2/examples/images_contours_and_fields/interpolation_methods.html\n",
    "\"\"\""
   ]
  },
  {
   "cell_type": "code",
   "execution_count": 63,
   "metadata": {
    "collapsed": false,
    "jupyter": {
     "outputs_hidden": false
    }
   },
   "outputs": [
    {
     "data": {
      "image/png": "[encoded data removed]",
      "text/plain": [
       "<Figure size 640x480 with 2 Axes>"
      ]
     },
     "metadata": {},
     "output_type": "display_data"
    }
   ],
   "source": [
    "import numpy as np\n",
    "import matplotlib.pyplot as plt\n",
    "\n",
    "def read_one(path):\n",
    "    band = np.loadtxt(path, delimiter=\";\")\n",
    "    return band\n",
    "\n",
    "path_file = r\"C:\\Users\\Zako3\\Downloads\\Handouts\\exercise_data_numpy\\2014_DOY_180.csv\"\n",
    "\n",
    "band = read_one(path_file)\n",
    "plt.imshow(band, interpolation=\"lanczos\")\n",
    "plt.colorbar()\n",
    "plt.tight_layout()\n",
    "plt.show()\n"
   ]
  },
  {
   "cell_type": "code",
   "execution_count": 65,
   "metadata": {
    "collapsed": false,
    "jupyter": {
     "outputs_hidden": false
    }
   },
   "outputs": [
    {
     "data": {
      "image/png": "[encoded data removed]",
      "text/plain": [
       "<Figure size 640x480 with 2 Axes>"
      ]
     },
     "metadata": {},
     "output_type": "display_data"
    }
   ],
   "source": [
    "import numpy as np \n",
    "import matplotlib.pyplot as plt \n",
    "\n",
    "def read_one(path):\n",
    "    band=np.loadtxt(path, delimiter=';')\n",
    "    return band\n",
    "\n",
    "path_file = r\"C:\\Users\\Zako3\\Downloads\\Handouts\\exercise_data_numpy\\2014_DOY_180.csv\"\n",
    "\n",
    "band = read_one(path_file)\n",
    "plt.imshow(band, interpolation='spline16')\n",
    "plt.colorbar()\n",
    "plt.show()"
   ]
  },
  {
   "cell_type": "markdown",
   "metadata": {
    "collapsed": false,
    "deletable": false,
    "editable": false,
    "jupyter": {
     "outputs_hidden": false
    },
    "nbgrader": {
     "grade": false,
     "grade_id": "680f25",
     "locked": true,
     "schema_version": 3,
     "solution": false,
     "task": false
    }
   },
   "source": [
    "## 8.9\n",
    "\n"
   ]
  },
  {
   "cell_type": "code",
   "execution_count": null,
   "metadata": {
    "collapsed": false,
    "deletable": false,
    "editable": false,
    "jupyter": {
     "outputs_hidden": false
    },
    "nbgrader": {
     "grade": true,
     "grade_id": "63260f",
     "locked": true,
     "points": 20,
     "schema_version": 3,
     "solution": false,
     "task": false
    }
   },
   "outputs": [],
   "source": [
    "\"\"\"Enter your answer here.\"\"\"\n",
    "### BEGIN SOLUTION\n",
    "\n",
    "### END SOLUTION"
   ]
  },
  {
   "cell_type": "code",
   "execution_count": null,
   "metadata": {
    "collapsed": false,
    "jupyter": {
     "outputs_hidden": false
    }
   },
   "outputs": [],
   "source": [
    "\"\"\"\n",
    "In this exercise, you will learn to apply a simple raster calculator operation\n",
    "(which also ships with QGIS or ArcGIS), to spot the differences in temperature\n",
    "between two days in 2014. To do so, use the function read_one to read the\n",
    "files 2014_DOY_180.csv and 2014_DOY_182.csv (representing 1st July, 2014) and\n",
    "store them in two independent numpy arrays that you can call band1 and band2,\n",
    "respectively.\n",
    "\n",
    "Check the size of both bands, and think whether or not it is possible to subtract\n",
    "them using a vectorized subtraction to determine the differences in temperature.\n",
    "Execute this subtraction and assign the result to a new numpy array called band3.\n",
    "Next, prepare a plot in matplotlib with three subplots. The first one will show\n",
    "the image with DOY 180, the second one the image with DOY 182 and the third\n",
    "one the subtraction result of the two bands. Add a proper title and a color bar to\n",
    "each of these subplots.\n",
    "\n",
    "Finally, think about what would happen if you have to perform this operation\n",
    "for the entire temperature series from KNMI at a daily resolution—which started\n",
    "in 1951!—using ArcGIS. Do you realize that you are only one for loop away of\n",
    "a generic solution? And how long would be your code solving this exercise?\n",
    "\n",
    "\"\"\""
   ]
  },
  {
   "cell_type": "code",
   "execution_count": 69,
   "metadata": {
    "collapsed": false,
    "jupyter": {
     "outputs_hidden": false
    }
   },
   "outputs": [
    {
     "name": "stdout",
     "output_type": "stream",
     "text": [
      "[[-0.08 -0.06 -0.05 ... -0.08 -0.09 -0.1 ]\n",
      " [-0.04 -0.02  0.   ... -0.07 -0.08 -0.09]\n",
      " [ 0.    0.03  0.05 ... -0.06 -0.08 -0.08]\n",
      " ...\n",
      " [ 0.39  0.39  0.4  ...  0.09  0.12  0.15]\n",
      " [ 0.39  0.4   0.41 ...  0.13  0.15  0.19]\n",
      " [ 0.4   0.4   0.42 ...  0.17  0.2   0.23]]\n"
     ]
    },
    {
     "data": {
      "text/plain": [
       "' The output of print(band3) will be a NumPy array containing\\nthe element-wise differences between the values in band2 and band1. \\nThis output provides insights into how the values have changed between \\nthe two datasets for each corresponding position.'"
      ]
     },
     "execution_count": 69,
     "metadata": {},
     "output_type": "execute_result"
    }
   ],
   "source": [
    "import numpy as np\n",
    "import matplotlib.pyplot as plt\n",
    "\n",
    "def read_one(path):\n",
    "    band = np.loadtxt(path, delimiter=';')\n",
    "    return band\n",
    "\n",
    "path_file1 = r\"C:\\Users\\Zako3\\Downloads\\Handouts\\exercise_data_numpy\\2014_DOY_180.csv\"\n",
    "path_file2 = r\"C:\\Users\\Zako3\\Downloads\\Handouts\\exercise_data_numpy\\2014_DOY_182.csv\"\n",
    "band1 = read_one(path_file1)\n",
    "band2 = read_one(path_file2)\n",
    "band3 = band2 - band1\n",
    "print(band3)\n",
    "\n",
    "\"\"\" The output of print(band3) will be a NumPy array containing\n",
    "the element-wise differences between the values in band2 and band1. \n",
    "This output provides insights into how the values have changed between \n",
    "the two datasets for each corresponding position.\"\"\"\n"
   ]
  },
  {
   "cell_type": "code",
   "execution_count": 84,
   "metadata": {
    "collapsed": false,
    "jupyter": {
     "outputs_hidden": false
    }
   },
   "outputs": [
    {
     "data": {
      "image/png": "[encoded data removed]",
      "text/plain": [
       "<Figure size 640x480 with 6 Axes>"
      ]
     },
     "metadata": {},
     "output_type": "display_data"
    },
    {
     "data": {
      "text/plain": [
       "<Figure size 3000x1000 with 0 Axes>"
      ]
     },
     "metadata": {},
     "output_type": "display_data"
    }
   ],
   "source": [
    "plt.subplot(1, 3, 1)\n",
    "plt.title(\"29th of June 2014\")\n",
    "plt.imshow(band1)\n",
    "plt.colorbar()\n",
    "\n",
    "plt.subplot(1, 3, 2)\n",
    "plt.title(\"1st of July 2014\")\n",
    "plt.imshow(band2)\n",
    "plt.colorbar()\n",
    "\n",
    "plt.subplot(1, 3, 3)\n",
    "plt.title(\"Difference between the 2 days\")\n",
    "plt.imshow(band3)\n",
    "plt.colorbar()\n",
    "\n",
    "plt.figure(figsize=(30, 10))\n",
    "plt.tight_layout()\n",
    "plt.show()"
   ]
  },
  {
   "attachments": {
    "29256f18-2c7f-40de-84ab-b18160d4ea4b.png": {
     "image/png": "[encoded data removed]"
    }
   },
   "cell_type": "markdown",
   "metadata": {},
   "source": [
    "![image.png](attachment:29256f18-2c7f-40de-84ab-b18160d4ea4b.png)"
   ]
  },
  {
   "cell_type": "code",
   "execution_count": null,
   "metadata": {
    "collapsed": false,
    "jupyter": {
     "outputs_hidden": false
    }
   },
   "outputs": [],
   "source": [
    "\"\"\" Conclusion \n",
    "Finally, think about what would happen if you have to perform this operation\n",
    "for the entire temperature series from KNMI at a daily resolution—which started\n",
    "in 1951!—using ArcGIS. Do you realize that you are only one for loop away of\n",
    "a generic solution? And how long would be your code solving this exercise?\n",
    "\n",
    "\"\"\""
   ]
  },
  {
   "cell_type": "markdown",
   "metadata": {
    "collapsed": false,
    "deletable": false,
    "editable": false,
    "jupyter": {
     "outputs_hidden": false
    },
    "nbgrader": {
     "grade": false,
     "grade_id": "aeff8f",
     "locked": true,
     "schema_version": 3,
     "solution": false,
     "task": false
    }
   },
   "source": [
    "## 8.10 \\(Optional\\)\n",
    "\n"
   ]
  },
  {
   "cell_type": "code",
   "execution_count": null,
   "metadata": {
    "collapsed": false,
    "deletable": false,
    "jupyter": {
     "outputs_hidden": false
    },
    "nbgrader": {
     "cell_type": "code",
     "checksum": "2c6131be9c1dc5954b51b3e08bf6d94c",
     "grade": true,
     "grade_id": "ed2597",
     "locked": false,
     "points": 20,
     "schema_version": 3,
     "solution": true,
     "task": false
    }
   },
   "outputs": [],
   "source": [
    "\"\"\"Enter your answer here.\"\"\"\n",
    "# YOUR CODE HERE\n",
    "# raise NotImplementedError()"
   ]
  },
  {
   "cell_type": "code",
   "execution_count": null,
   "metadata": {
    "collapsed": false,
    "jupyter": {
     "outputs_hidden": false
    }
   },
   "outputs": [],
   "source": [
    "\"\"\" In this exercise, you will prepare a plot with two subplots. \n",
    "The first of these will show the band 180 as you did in Exercise 8. \n",
    "The second subplot will show a raster with the location(s) of lowest and highest maximum temperatures. \n",
    "To prepare this second subplot, follow these steps: \n",
    "\n",
    "1. Using the function np.zeros(), create a two-dimensional array with 50 rows\n",
    "and 100 columns. Display it to ensure it is what you need. This will act\n",
    "as an empty canvas that you will paint when you find the locations of the\n",
    "lowest and highest temperatures.\n",
    "2. With the function np.where() you determine the positions of lowest temperature\n",
    "records. Remember that this is a tuple of two numpy one-dimensional\n",
    "arrays, and it is possible to iterate over them. Study them in the console.\n",
    "3. Create a variable rowpos and assign to it the first element of the tuple.\n",
    "4. Create a variable colpos and assign to it the second element of the tuple.\n",
    "5. Use a variable i to iterate over one of the two newly created variables.\n",
    "(a) Create a variable rowidx and assign to it rowpos[i]\n",
    "(b) Create a variable colidx and assign to it colpos[i]\n",
    "(c) In this [rowidx, colidx] position, assign the value -1\n",
    "Think up what is the purpose of these steps; can you see it coming?\n",
    "6. Repeat steps 2–5 for the highest temperature records. But assign value 1 to\n",
    "let them stand out from the lowest temperature.\n",
    "7. At this point, you should have a new band, which contains zeros, except for\n",
    "the positions of the lowest and highest temperature records, which will have\n",
    "a -1 and 1 values, respectively.\n",
    "8. Create a figure with two subplots, and show the original band and the new\n",
    "band. Do you see the location of hot and cold pixels?\n",
    "\n",
    "You should now have successfully found the ‘coldest and hottest pixels’ in an\n",
    "image.\n",
    "\n",
    "\"\"\"\n",
    "\n",
    "\"\"\" \n",
    "References\n",
    "\n",
    "https://numpy.org/doc/stable/reference/generated/numpy.zeros.html\n",
    "https://numpy.org/doc/stable/reference/generated/numpy.where.html\n",
    "\n",
    "\"\"\""
   ]
  },
  {
   "cell_type": "code",
   "execution_count": 88,
   "metadata": {
    "collapsed": false,
    "jupyter": {
     "outputs_hidden": false
    }
   },
   "outputs": [
    {
     "data": {
      "text/plain": [
       "'C:\\\\Users\\\\Zako3\\\\Downloads\\\\Handouts\\\\exercise_data_numpy\\\\2014_DOY_180.csv'"
      ]
     },
     "execution_count": 88,
     "metadata": {},
     "output_type": "execute_result"
    }
   ],
   "source": [
    "import numpy as np\n",
    "import matplotlib . pyplot as plt\n",
    "\n",
    "def read_one ( path ):\n",
    "    band = np. loadtxt (path , delimiter =';')\n",
    "    return band\n",
    "\n",
    "path_file = r\"C:\\Users\\Zako3\\Downloads\\Handouts\\exercise_data_numpy\\2014_DOY_180.csv\"\n",
    "path_file"
   ]
  },
  {
   "cell_type": "code",
   "execution_count": 86,
   "metadata": {
    "collapsed": false,
    "jupyter": {
     "outputs_hidden": false
    }
   },
   "outputs": [
    {
     "data": {
      "image/png": "[encoded data removed]",
      "text/plain": [
       "<Figure size 640x480 with 2 Axes>"
      ]
     },
     "metadata": {},
     "output_type": "display_data"
    }
   ],
   "source": [
    "canvas = np.zeros((50, 100))\n",
    "band = read_one(path_file)\n",
    "lowest = band.min()\n",
    "highest = band.max()\n",
    "\n",
    "#print(lowest, highest)\n",
    "\n",
    "idx_lowest = np.where(band == lowest)\n",
    "idx_highest = np.where(band == highest)\n",
    "\n",
    "#print(idx_lowest, idx_highest)\n",
    "\n",
    "rowpos_lo = idx_lowest[0]\n",
    "colpos_lo = idx_lowest[1]\n",
    "rowpos_hi = idx_highest[0]\n",
    "colpos_hi = idx_highest[1]\n",
    "\n",
    "for i in range(len(rowpos_lo)):\n",
    "    rowidx = rowpos_lo[i]\n",
    "    colidx = colpos_lo[i]\n",
    "    canvas[rowidx, colidx] = -1\n",
    "\n",
    "for i in range(len(rowpos_hi)):\n",
    "    rowidx = rowpos_hi[i]\n",
    "    colidx = colpos_hi[i]\n",
    "    canvas[rowidx, colidx] = 1\n",
    "    \n",
    "plt.subplot(1, 2, 1)\n",
    "plt.title(\"Original band\")\n",
    "plt.imshow(band, interpolation=\"None\")   \n",
    "\n",
    "plt.subplot(1, 2, 2)\n",
    "plt.title(\"Location of LO and HI temperatures\")\n",
    "plt.imshow(canvas, interpolation=\"None\")\n",
    "plt.tight_layout()\n",
    "plt.show()"
   ]
  },
  {
   "cell_type": "markdown",
   "metadata": {
    "collapsed": false,
    "deletable": false,
    "editable": false,
    "jupyter": {
     "outputs_hidden": false
    },
    "nbgrader": {
     "grade": false,
     "grade_id": "24021b",
     "locked": true,
     "schema_version": 3,
     "solution": false,
     "task": false
    }
   },
   "source": [
    "## 8.11 \\(Optional\\)\n",
    "\n"
   ]
  },
  {
   "cell_type": "code",
   "execution_count": 82,
   "metadata": {
    "collapsed": false,
    "deletable": false,
    "jupyter": {
     "outputs_hidden": false
    },
    "nbgrader": {
     "cell_type": "code",
     "checksum": "5f9d3488b8673f15bf2408ac721262df",
     "grade": true,
     "grade_id": "28bf75",
     "locked": false,
     "points": 10,
     "schema_version": 3,
     "solution": true,
     "task": false
    }
   },
   "outputs": [],
   "source": [
    "#\"\"\"Enter your answer here.\"\"\"\n",
    "# YOUR CODE HERE\n",
    "#raise NotImplementedError()"
   ]
  },
  {
   "cell_type": "code",
   "execution_count": null,
   "metadata": {
    "collapsed": false,
    "jupyter": {
     "outputs_hidden": false
    }
   },
   "outputs": [],
   "source": [
    "\"\"\"\n",
    "In this exercise, you will access the stack of CSV files in the 'depth' dimension.\n",
    "To do so, use the function read_many and store the three-dimensional array in a\n",
    "variable called stack. Print the size of this stack and understand these dimensions.\n",
    "The pixel at row 10 and column 20, roughly corresponds to the Amsterdam area.\n",
    "You can fix these two dimensions within the indexing operator as follows:\n",
    "print ( stack [10 , 20, XXX ])\n",
    "\"\"\""
   ]
  },
  {
   "cell_type": "code",
   "execution_count": 90,
   "metadata": {
    "collapsed": false,
    "jupyter": {
     "outputs_hidden": false
    }
   },
   "outputs": [
    {
     "name": "stdout",
     "output_type": "stream",
     "text": [
      "Shape:  (50, 100, 365)\n",
      "Mean of the seven first days of the year:  10.584285714285713\n",
      "Mean of the first month of the year:  7.80258064516129\n",
      "Mean of the days between the DOY 180 and DOY 200:  23.595\n",
      "Mean of the days between July 1st and November 1st:  20.536097560975612\n",
      "Mean of the entire year:  15.452794520547943\n"
     ]
    }
   ],
   "source": [
    "import numpy as np\n",
    "\n",
    "def read_many(path_in):\n",
    "    lband = [] # Initialize an empty list to store 2D arrays\n",
    "    for root, dirs, files in os.walk(path_in):\n",
    "        for file in sorted(files): # Sort the files to maintain a consistent order\n",
    "            # We sort the files because some operating systems give\n",
    "            # them randomly and that would mess up the stack sequence\n",
    "            tmp = os.path.join(path, file) # Construct the full path to each file\n",
    "            band = read_one(tmp) # Call the read_one function to read a single CSV file\n",
    "            lband.append(band)   # Append the 2D array to the list\n",
    "    stack = np.dstack(np.array(lband))  # Stack the 2D arrays along the third axis\n",
    "    return stack \n",
    "\n",
    "\n",
    "\n",
    "\"\"\"\n",
    "In summary, the read_many function reads multiple CSV files from a specified directory, \n",
    "sorts them, reads each file using read_one, appends the resulting 2D arrays to a list, \n",
    "and then stacks these 2D arrays along the third axis to create a 3D array. \n",
    "The function returns the stacked 3D array.\n",
    "\n",
    "\"\"\"\n",
    "\n",
    "path_in = r\"C:\\Users\\Zako3\\Downloads\\Handouts\\exercise_data_numpy\"\n",
    "stack = read_many(path_in)\n",
    "\n",
    "print(\"Shape: \", stack.shape)\n",
    "print(\"Mean of the seven first days of the year: \", stack[10, 20, 0:7].mean())\n",
    "print(\"Mean of the first month of the year: \", stack[10, 20, 0:31].mean())\n",
    "print(\"Mean of the days between the DOY 180 and DOY 200: \", stack[10, 20, 180:200].mean())\n",
    "print(\"Mean of the days between July 1st and November 1st: \", stack[10, 20, 182:305].mean())\n",
    "print(\"Mean of the entire year: \", stack[10, 20, :].mean())\n"
   ]
  },
  {
   "cell_type": "markdown",
   "metadata": {
    "collapsed": false,
    "deletable": false,
    "editable": false,
    "jupyter": {
     "outputs_hidden": false
    },
    "nbgrader": {
     "grade": false,
     "grade_id": "cfa490",
     "locked": true,
     "schema_version": 3,
     "solution": false,
     "task": false
    }
   },
   "source": [
    "## 8.12 \\(Optional\\)\n",
    "\n"
   ]
  },
  {
   "cell_type": "code",
   "execution_count": 80,
   "metadata": {
    "collapsed": false,
    "deletable": false,
    "jupyter": {
     "outputs_hidden": false
    },
    "nbgrader": {
     "cell_type": "code",
     "checksum": "87ede52fd0b067d2da6d1dff2e1b5ffd",
     "grade": true,
     "grade_id": "4185af",
     "locked": false,
     "points": 10,
     "schema_version": 3,
     "solution": true,
     "task": false
    }
   },
   "outputs": [],
   "source": [
    "#\"\"\"Enter your answer here.\"\"\"\n",
    "# YOUR CODE HERE\n",
    "# raise NotImplementedError()"
   ]
  },
  {
   "cell_type": "code",
   "execution_count": null,
   "metadata": {
    "collapsed": false,
    "jupyter": {
     "outputs_hidden": false
    }
   },
   "outputs": [],
   "source": [
    "\"\"\"\n",
    "Now that you know how to get all values for a pixel in a year, it is possible\n",
    "to plot them and study the daily temperature for Amsterdam during 2014. \n",
    "To do so, use the function read_many to create a stack of raster files. \n",
    "Retrieve all 365 values for the pixel (10, 20), which are the values of your y-axis. \n",
    "Use function np.linspace() to create an artificial x-axis as you did in the previous practical\n",
    "on Charting. \n",
    "Plot the temperature for Amsterdam using a solid red line. \n",
    "A dd a proper title and names for the x- and y-axes and add grid lines to make easier\n",
    "reading the chart.\n",
    "\n",
    "https://matplotlib.org/stable/plot_types/index\n",
    "\n",
    "\"\"\""
   ]
  },
  {
   "cell_type": "code",
   "execution_count": 91,
   "metadata": {
    "collapsed": false,
    "jupyter": {
     "outputs_hidden": false
    }
   },
   "outputs": [
    {
     "data": {
      "image/png": "[encoded data removed]",
      "text/plain": [
       "<Figure size 640x480 with 1 Axes>"
      ]
     },
     "metadata": {},
     "output_type": "display_data"
    }
   ],
   "source": [
    "import numpy as np\n",
    "import matplotlib.pyplot as plt\n",
    "import os\n",
    "\n",
    "def read_one(path):\n",
    "    band = np.loadtxt(path, delimiter=';')\n",
    "    return band\n",
    "\n",
    "def read_many(path):\n",
    "    lband = []\n",
    "    for root, dirs, files in os.walk(path):\n",
    "        for file in sorted(files):\n",
    "            # We sort the files because some operating systems give\n",
    "            # them randomly and that would mess up the stack sequence\n",
    "            tmp = os.path.join(path, file)\n",
    "            band = read_one(tmp)\n",
    "            lband.append(band)\n",
    "    stack = np.dstack(np.array(lband))\n",
    "    return stack\n",
    "\n",
    "path_in = r\"C:\\Users\\Zako3\\Downloads\\Handouts\\exercise_data_numpy\"\n",
    "stack = read_many(path_in)\n",
    "\n",
    "y = stack[10, 20, :]\n",
    "x_linspace = np.linspace(0, 364, 365)\n",
    "\n",
    "plt.title(\"Daily maximum temperature at Amsterdam 2014\")\n",
    "plt.plot(x_linspace, y, \"blue\")\n",
    "plt.xlabel(\"Day of the year\")\n",
    "plt.ylabel(\"Maximum temperature\")\n",
    "plt.grid()\n",
    "plt.tight_layout()\n",
    "\n",
    "plt.savefig(\"maximum_temperature_plot.png\")\n",
    "plt.show()"
   ]
  },
  {
   "cell_type": "markdown",
   "metadata": {
    "collapsed": false,
    "deletable": false,
    "editable": false,
    "jupyter": {
     "outputs_hidden": false
    },
    "nbgrader": {
     "grade": false,
     "grade_id": "b8efae",
     "locked": true,
     "schema_version": 3,
     "solution": false,
     "task": false
    }
   },
   "source": [
    "## 8.13 \\(Optional\\)\n",
    "\n"
   ]
  },
  {
   "cell_type": "code",
   "execution_count": null,
   "metadata": {
    "collapsed": false,
    "deletable": false,
    "jupyter": {
     "outputs_hidden": false
    },
    "nbgrader": {
     "cell_type": "code",
     "checksum": "c3ce79780f72bb575b8f7760eee5b86a",
     "grade": true,
     "grade_id": "cf6aef",
     "locked": false,
     "points": 10,
     "schema_version": 3,
     "solution": true,
     "task": false
    }
   },
   "outputs": [],
   "source": [
    "# \"\"\"Enter your answer here.\"\"\"\n",
    "# YOUR CODE HERE\n",
    "#raise NotImplementedError()"
   ]
  },
  {
   "cell_type": "code",
   "execution_count": null,
   "metadata": {
    "collapsed": false,
    "jupyter": {
     "outputs_hidden": false
    }
   },
   "outputs": [],
   "source": [
    "\"\"\"\n",
    "Let us try find out the locations that have a mean annual temperature similar\n",
    "to Amsterdam. To do so, use these steps:\n",
    "\n",
    "1. Use read_many() to get a stack of raster files\n",
    "2. Calculate the mean of this stack following the direction of the ‘depth’ axis,\n",
    "which is axis 2 and name it band_mean.\n",
    "3. Print the shape of the mean array and verify that it still has 50 rows and\n",
    "100 columns.\n",
    "4. Create an empty canvas of 50 rows and 100 columns using np.zeros().\n",
    "5. Fetch the mean annual temperature for Amsterdam from band_mean, which\n",
    "is located as per above, and name it ams.\n",
    "6. Construct a double for loop to iterate over all pixels in band_mean\n",
    "(a) Remember this will mean that you need two index variables (e.g., i and\n",
    "j) that iterate over the rows and columns.\n",
    "(b) For each pixel that is within 0.1 degrees Celsius of ams, you will set the\n",
    "pixel value to 1 in the canvas created in Step 4.\n",
    "7. Make two subplots. The first one will show band_mean and the second shows\n",
    "your canvas. Explore the pixels in the study area that have a temperature\n",
    "similar to that of Amsterdam.\n",
    "\n",
    "\"\"\""
   ]
  },
  {
   "cell_type": "code",
   "execution_count": 92,
   "metadata": {
    "collapsed": false,
    "jupyter": {
     "outputs_hidden": false
    }
   },
   "outputs": [
    {
     "data": {
      "image/png": "[encoded data removed]",
      "text/plain": [
       "<Figure size 640x480 with 2 Axes>"
      ]
     },
     "metadata": {},
     "output_type": "display_data"
    }
   ],
   "source": [
    "import numpy as np\n",
    "import matplotlib.pyplot as plt\n",
    "\n",
    "path_in = r\"C:\\Users\\Zako3\\Downloads\\Handouts\\exercise_data_numpy\"\n",
    "\n",
    "canvas = np.zeros((50, 100))\n",
    "stack = read_many(path_in)\n",
    "band_mean = np.mean(stack, axis=2)\n",
    "ams = band_mean[10, 20]\n",
    "left_bound = ams - 0.1\n",
    "right_bound = ams + 0.1\n",
    "nrows = band_mean.shape[0]\n",
    "ncols = band_mean.shape[1]\n",
    "\n",
    "for i in range(nrows):\n",
    "    for j in range(ncols):\n",
    "        pixel_value = band_mean[i, j]\n",
    "        if left_bound <= pixel_value <= right_bound:\n",
    "            canvas[i, j] = 1\n",
    "\n",
    "plt.subplot(1, 2, 1)\n",
    "plt.imshow(band_mean, interpolation=\"None\")\n",
    "\n",
    "plt.subplot(1, 2, 2)\n",
    "plt.imshow(canvas, interpolation=\"None\")\n",
    "\n",
    "plt.show()"
   ]
  },
  {
   "cell_type": "markdown",
   "metadata": {
    "collapsed": false,
    "deletable": false,
    "editable": false,
    "jupyter": {
     "outputs_hidden": false
    },
    "nbgrader": {
     "grade": false,
     "grade_id": "c3fa96",
     "locked": true,
     "schema_version": 3,
     "solution": false,
     "task": false
    }
   },
   "source": [
    "## 8.14 \\(Optional\\)\n",
    "\n"
   ]
  },
  {
   "cell_type": "code",
   "execution_count": null,
   "metadata": {
    "collapsed": false,
    "deletable": false,
    "jupyter": {
     "outputs_hidden": false
    },
    "nbgrader": {
     "cell_type": "code",
     "checksum": "528c9900c1a3edcecfbe79531827718b",
     "grade": true,
     "grade_id": "3f4243",
     "locked": false,
     "points": 10,
     "schema_version": 3,
     "solution": true,
     "task": false
    }
   },
   "outputs": [],
   "source": [
    "#\"\"\"Enter your answer here.\"\"\"\n",
    "# YOUR CODE HERE\n",
    "#raise NotImplementedError()"
   ]
  },
  {
   "cell_type": "code",
   "execution_count": null,
   "metadata": {
    "collapsed": false,
    "jupyter": {
     "outputs_hidden": false
    }
   },
   "outputs": [],
   "source": [
    "\"\"\" \n",
    "Create a chart with four subplots showing the temperature for Amsterdam,\n",
    "Amersfoort, Ede and Deventer. The respective coordinates are (10, 20), (25, 40),\n",
    "(40, 50) and (20, 70). Add to each subplot a title and labels for the x- and y-axes\n",
    "and grid lines. Now you can learn how to make a simple quadratic fitting to this\n",
    "curve using the function np.polyfit().\n",
    "\n",
    "The function np.polyfit() will automatically fit a polynomial of degree 2 to\n",
    "your data and will return, in this case, the three coefficients (i.e., x2, x and the\n",
    "intercept) of the polynomial. If you now use the function np.poly1d() and you\n",
    "pass to it the coefficients, it will prepare a variable to receive an artificial x-axis\n",
    "created with np.linspace() and provide the values of your polynomial in each\n",
    "particular point. Check the example of np.poly1d() in the documentation of\n",
    "np.polyfit().\n",
    "\n",
    "Add to each of the four subplots corresponding to each city, a second line\n",
    "with the curve fitting that you just created, and study whether there are strong\n",
    "differences between cities.\n",
    "\n",
    "https://numpy.org/doc/stable/reference/generated/numpy.polyfit.html\n",
    "\n",
    "\"\"\""
   ]
  },
  {
   "cell_type": "code",
   "execution_count": 100,
   "metadata": {
    "collapsed": false,
    "jupyter": {
     "outputs_hidden": false
    }
   },
   "outputs": [],
   "source": [
    "import numpy as np\n",
    "import matplotlib.pyplot as plt\n",
    "\n",
    "path_in = r\"C:\\Users\\Zako3\\Downloads\\Handouts\\exercise_data_numpy\""
   ]
  },
  {
   "cell_type": "code",
   "execution_count": 93,
   "metadata": {
    "collapsed": false,
    "jupyter": {
     "outputs_hidden": false
    }
   },
   "outputs": [
    {
     "data": {
      "image/png": "[encoded data removed]",
      "text/plain": [
       "<Figure size 640x480 with 4 Axes>"
      ]
     },
     "metadata": {},
     "output_type": "display_data"
    }
   ],
   "source": [
    "xlinspace = np.linspace(0, 364, 365)\n",
    "canvas = np.zeros((50, 100))\n",
    "stack = read_many(path_in)\n",
    "ams = stack[10, 20, :]\n",
    "ame = stack[25, 40, :]\n",
    "ede = stack[40, 50, :]\n",
    "dev = stack[20, 70, :]\n",
    "fit_ams = np.polyfit(xlinspace, ams, deg=2)\n",
    "fit_ame = np.polyfit(xlinspace, ame, deg=2)\n",
    "fit_ede = np.polyfit(xlinspace, ede, deg=2)\n",
    "fit_dev = np.polyfit(xlinspace, dev, deg=2)\n",
    "p_ams = np.poly1d(fit_ams)\n",
    "p_ame = np.poly1d(fit_ame)\n",
    "p_ede = np.poly1d(fit_ede)\n",
    "p_dev = np.poly1d(fit_dev)\n",
    "yams = p_ams(xlinspace)\n",
    "yame = p_ame(xlinspace)\n",
    "yede = p_ede(xlinspace)\n",
    "ydev = p_dev(xlinspace)\n",
    "\n",
    "plt.subplot(2, 2, 1)\n",
    "plt.title(\"Amsterdam\")\n",
    "plt.plot(xlinspace, ams)\n",
    "plt.plot(xlinspace, yams, linewidth=2, color=\"red\")\n",
    "\n",
    "plt.subplot(2, 2, 2)\n",
    "plt.title(\"Amersfoort\")\n",
    "plt.plot(xlinspace, ame)\n",
    "plt.plot(xlinspace, yame, linewidth=2, color=\"red\")\n",
    "\n",
    "plt.subplot(2, 2, 3)\n",
    "plt.title(\"Ede\")\n",
    "plt.plot(xlinspace, ede)\n",
    "plt.plot(xlinspace, yede, linewidth=2, color=\"yellow\")\n",
    "\n",
    "plt.subplot(2, 2, 4)\n",
    "plt.title(\"Deventer\")\n",
    "plt.plot(xlinspace, dev)\n",
    "plt.plot(xlinspace, ydev, linewidth=2, color=\"black\")\n",
    "\n",
    "plt.show()\n"
   ]
  },
  {
   "cell_type": "markdown",
   "metadata": {
    "collapsed": false,
    "jupyter": {
     "outputs_hidden": false
    }
   },
   "source": []
  }
 ],
 "metadata": {
  "kernelspec": {
   "display_name": "Python 3 (ipykernel)",
   "language": "python",
   "name": "python3"
  },
  "language_info": {
   "codemirror_mode": {
    "name": "ipython",
    "version": 3
   },
   "file_extension": ".py",
   "mimetype": "text/x-python",
   "name": "python",
   "nbconvert_exporter": "python",
   "pygments_lexer": "ipython3",
   "version": "3.11.5"
  },
  "nbgrader": {
   "__altered": false,
   "__hash": 31818076,
   "_root": {
    "entries": [
     [
      "size",
      1
     ],
     [
      "_root",
      {
       "entries": [
        [
         "cocalc_minimal_stubs",
         false
        ]
       ],
       "ownerID": {}
      }
     ],
     [
      "__ownerID",
      null
     ],
     [
      "__hash",
      -335098374
     ],
     [
      "__altered",
      false
     ],
     [
      "cocalc_minimal_stubs",
      false
     ]
    ],
    "ownerID": {}
   },
   "cocalc_minimal_stubs": false,
   "size": 6
  }
 },
 "nbformat": 4,
 "nbformat_minor": 4
}
