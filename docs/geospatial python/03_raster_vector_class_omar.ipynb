{
 "cells": [
  {
   "cell_type": "markdown",
   "metadata": {
    "collapsed": false,
    "jupyter": {
     "outputs_hidden": false
    }
   },
   "source": [
    "# Integerating Vector and Raster"
   ]
  },
  {
   "cell_type": "markdown",
   "metadata": {
    "collapsed": false,
    "jupyter": {
     "outputs_hidden": false
    }
   },
   "source": [
    "## References \n",
    "\n",
    "https://gdal.org/programs/gdal_polygonize.html \n"
   ]
  },
  {
   "cell_type": "markdown",
   "metadata": {
    "collapsed": false,
    "jupyter": {
     "outputs_hidden": false
    }
   },
   "source": [
    "## Prerequisites"
   ]
  },
  {
   "cell_type": "markdown",
   "metadata": {
    "collapsed": false,
    "jupyter": {
     "outputs_hidden": false
    }
   },
   "source": [
    "Is GDAL installed?"
   ]
  },
  {
   "cell_type": "code",
   "execution_count": 1,
   "metadata": {
    "collapsed": false,
    "jupyter": {
     "outputs_hidden": false
    }
   },
   "outputs": [
    {
     "name": "stdout",
     "output_type": "stream",
     "text": [
      "Installed!\n"
     ]
    }
   ],
   "source": [
    "import sys\n",
    "try:\n",
    "    from osgeo import ogr, osr, gdal, gdal_array as gdarr\n",
    "    print(\"Installed!\")\n",
    "except:\n",
    "    sys.exit('ERROR: cannot find GDAL/OGR modules')"
   ]
  },
  {
   "cell_type": "code",
   "execution_count": 2,
   "metadata": {
    "collapsed": false,
    "jupyter": {
     "outputs_hidden": false
    }
   },
   "outputs": [
    {
     "name": "stdout",
     "output_type": "stream",
     "text": [
      "C:\\Users\\Zako3\\Downloads\\Handouts\\exercise_data_raster_vector\\2014.tif\n",
      "\n",
      "/home/user/Handouts/exercise_data_raster_vector/NL_provinces.shp\n",
      "\n",
      "/home/user/Handouts/exercise_data_raster_vector/ovRoads.geojson\n"
     ]
    }
   ],
   "source": [
    "dsPath = path_to_2014_tiff = r\"C:\\Users\\Zako3\\Downloads\\Handouts\\exercise_data_raster_vector\\2014.tif\"\n",
    "nlprovPath = r\"/home/user/Handouts/exercise_data_raster_vector/NL_provinces.shp\"\n",
    "roadsVectorDsPath = r'/home/user/Handouts/exercise_data_raster_vector/ovRoads.geojson'\n",
    "\n",
    "print(dsPath)\n",
    "print()\n",
    "print(nlprovPath)\n",
    "print()\n",
    "print(roadsVectorDsPath)"
   ]
  },
  {
   "cell_type": "markdown",
   "metadata": {
    "collapsed": false,
    "jupyter": {
     "outputs_hidden": false
    }
   },
   "source": [
    "## Extracting raster pixels intersecting polygons"
   ]
  },
  {
   "cell_type": "markdown",
   "metadata": {
    "collapsed": false,
    "jupyter": {
     "outputs_hidden": false
    }
   },
   "source": [
    "\r\n",
    "Subsetting a raster based on a polygon\r\n",
    "\r\n",
    "Determine temperature pixels inside Overijssel province only."
   ]
  },
  {
   "cell_type": "code",
   "execution_count": 13,
   "metadata": {
    "collapsed": false,
    "jupyter": {
     "outputs_hidden": false
    }
   },
   "outputs": [],
   "source": [
    "import os\n",
    "\n",
    "overTemperatureDsPath = 'temOverijssel.tif'\n",
    "\n",
    "ds = gdal.Open(dsPath)\n",
    "\n",
    "overTemperatureDs = gdal.Warp(overTemperatureDsPath,\n",
    "                              ds,\n",
    "                              format='GTiff',\n",
    "                              dstSRS='EPSG:28992',\n",
    "                              cutlineDSName=nlprovPath,\n",
    "                              cutlineWhere=\"NAME_1 = 'Overijssel'\",\n",
    "                              cropToCutline=True)\n",
    "\n",
    "# we determined temperature pixels inside Overijssel province only."
   ]
  },
  {
   "cell_type": "code",
   "execution_count": 14,
   "metadata": {
    "collapsed": false,
    "jupyter": {
     "outputs_hidden": false
    }
   },
   "outputs": [
    {
     "ename": "AttributeError",
     "evalue": "'NoneType' object has no attribute 'RasterXSize'",
     "output_type": "error",
     "traceback": [
      "\u001b[1;31m---------------------------------------------------------------------------\u001b[0m",
      "\u001b[1;31mAttributeError\u001b[0m                            Traceback (most recent call last)",
      "Cell \u001b[1;32mIn[14], line 6\u001b[0m\n\u001b[0;32m      1\u001b[0m \u001b[38;5;66;03m#To confirm lets show the temperature for the first day\u001b[39;00m\n\u001b[0;32m      3\u001b[0m \u001b[38;5;28;01mfrom\u001b[39;00m \u001b[38;5;21;01mmatplotlib\u001b[39;00m \u001b[38;5;28;01mimport\u001b[39;00m pyplot \u001b[38;5;28;01mas\u001b[39;00m plt\n\u001b[0;32m      5\u001b[0m overTempArray\u001b[38;5;241m=\u001b[39mgdarr\u001b[38;5;241m.\u001b[39mDatasetReadAsArray(overTemperatureDs, \u001b[38;5;241m0\u001b[39m, \u001b[38;5;241m0\u001b[39m, \n\u001b[1;32m----> 6\u001b[0m                                        \u001b[43moverTemperatureDs\u001b[49m\u001b[38;5;241;43m.\u001b[39;49m\u001b[43mRasterXSize\u001b[49m, \n\u001b[0;32m      7\u001b[0m                                        overTemperatureDs\u001b[38;5;241m.\u001b[39mRasterYSize)\n\u001b[0;32m      9\u001b[0m overTempArray[overTempArray \u001b[38;5;241m==\u001b[39m \u001b[38;5;241m-\u001b[39m\u001b[38;5;241m9999\u001b[39m] \u001b[38;5;241m=\u001b[39m \u001b[38;5;28;01mNone\u001b[39;00m\n\u001b[0;32m     10\u001b[0m plt\u001b[38;5;241m.\u001b[39mimshow(overTempArray[\u001b[38;5;241m0\u001b[39m,:,:])\n",
      "\u001b[1;31mAttributeError\u001b[0m: 'NoneType' object has no attribute 'RasterXSize'"
     ]
    }
   ],
   "source": [
    "#To confirm lets show the temperature for the first day\n",
    "\n",
    "from matplotlib import pyplot as plt\n",
    "\n",
    "overTempArray=gdarr.DatasetReadAsArray(overTemperatureDs, 0, 0, \n",
    "                                       overTemperatureDs.RasterXSize, \n",
    "                                       overTemperatureDs.RasterYSize)\n",
    "\n",
    "overTempArray[overTempArray == -9999] = None\n",
    "plt.imshow(overTempArray[0,:,:])\n",
    "plt.show()\n",
    "plt.tight_layout()\n"
   ]
  },
  {
   "cell_type": "markdown",
   "metadata": {
    "collapsed": false,
    "jupyter": {
     "outputs_hidden": false
    }
   },
   "source": [
    "Extract temperature inside Utrecht province - **Exercise 1**"
   ]
  },
  {
   "cell_type": "code",
   "execution_count": 39,
   "metadata": {
    "collapsed": false,
    "deletable": false,
    "jupyter": {
     "outputs_hidden": false
    },
    "nbgrader": {
     "cell_type": "code",
     "checksum": "4e6cd8fa7955d30ee74365dda6fce6e5",
     "grade": true,
     "grade_id": "4add2f",
     "locked": false,
     "points": 5,
     "schema_version": 3,
     "solution": true,
     "task": false
    }
   },
   "outputs": [
    {
     "ename": "AttributeError",
     "evalue": "'NoneType' object has no attribute 'RasterXSize'",
     "output_type": "error",
     "traceback": [
      "\u001b[1;31m---------------------------------------------------------------------------\u001b[0m",
      "\u001b[1;31mAttributeError\u001b[0m                            Traceback (most recent call last)",
      "Cell \u001b[1;32mIn[39], line 14\u001b[0m\n\u001b[0;32m      5\u001b[0m \u001b[38;5;66;03m# YOUR CODE HERE\u001b[39;00m\n\u001b[0;32m      6\u001b[0m utrechtTemperatureDs \u001b[38;5;241m=\u001b[39m gdal\u001b[38;5;241m.\u001b[39mWarp(utrechtTemperatureDsPath,\n\u001b[0;32m      7\u001b[0m                               ds,\n\u001b[0;32m      8\u001b[0m                               \u001b[38;5;28mformat\u001b[39m\u001b[38;5;241m=\u001b[39m\u001b[38;5;124m'\u001b[39m\u001b[38;5;124mGTiff\u001b[39m\u001b[38;5;124m'\u001b[39m,\n\u001b[1;32m   (...)\u001b[0m\n\u001b[0;32m     11\u001b[0m                               cutlineWhere\u001b[38;5;241m=\u001b[39m\u001b[38;5;124m\"\u001b[39m\u001b[38;5;124mNAME_1 = \u001b[39m\u001b[38;5;124m'\u001b[39m\u001b[38;5;124mUtrecht\u001b[39m\u001b[38;5;124m'\u001b[39m\u001b[38;5;124m\"\u001b[39m,\n\u001b[0;32m     12\u001b[0m                               cropToCutline\u001b[38;5;241m=\u001b[39m\u001b[38;5;28;01mTrue\u001b[39;00m)\n\u001b[1;32m---> 14\u001b[0m utrechtTempArray\u001b[38;5;241m=\u001b[39mgdarr\u001b[38;5;241m.\u001b[39mDatasetReadAsArray(utrechtTemperatureDs, \u001b[38;5;241m0\u001b[39m, \u001b[38;5;241m0\u001b[39m, \u001b[43mutrechtTemperatureDs\u001b[49m\u001b[38;5;241;43m.\u001b[39;49m\u001b[43mRasterXSize\u001b[49m, utrechtTemperatureDs\u001b[38;5;241m.\u001b[39mRasterYSize)\n\u001b[0;32m     15\u001b[0m utrechtTempArray[utrechtTempArray \u001b[38;5;241m==\u001b[39m \u001b[38;5;241m-\u001b[39m\u001b[38;5;241m9999\u001b[39m] \u001b[38;5;241m=\u001b[39m \u001b[38;5;28;01mNone\u001b[39;00m\n\u001b[0;32m     16\u001b[0m plt\u001b[38;5;241m.\u001b[39mimshow(utrechtTempArray[\u001b[38;5;241m0\u001b[39m,:,:])\n",
      "\u001b[1;31mAttributeError\u001b[0m: 'NoneType' object has no attribute 'RasterXSize'"
     ]
    }
   ],
   "source": [
    "utrechtTemperatureDsPath = 'tempUtrecht.tif'\n",
    "\n",
    "utrechtTemperatureDs = None\n",
    "\n",
    "# YOUR CODE HERE\n",
    "utrechtTemperatureDs = gdal.Warp(utrechtTemperatureDsPath,\n",
    "                              ds,\n",
    "                              format='GTiff',\n",
    "                              dstSRS='EPSG:28992',\n",
    "                              cutlineDSName=nlprovPath,\n",
    "                              cutlineWhere=\"NAME_1 = 'Utrecht'\",\n",
    "                              cropToCutline=True)\n",
    "\n",
    "utrechtTempArray=gdarr.DatasetReadAsArray(utrechtTemperatureDs, 0, 0, utrechtTemperatureDs.RasterXSize, utrechtTemperatureDs.RasterYSize)\n",
    "utrechtTempArray[utrechtTempArray == -9999] = None\n",
    "plt.imshow(utrechtTempArray[0,:,:])\n",
    "plt.show()\n",
    "utrechtTemperatureDs = None"
   ]
  },
  {
   "cell_type": "markdown",
   "metadata": {
    "collapsed": false,
    "jupyter": {
     "outputs_hidden": false
    }
   },
   "source": [
    "## Rasterize a vector layer\r\n",
    "\r\n",
    "### How to rasterize all the roads using number of cars per hour?"
   ]
  },
  {
   "cell_type": "markdown",
   "metadata": {
    "collapsed": false,
    "jupyter": {
     "outputs_hidden": false
    }
   },
   "source": [
    "1. Subset only Overijssel Temperatures, ***in memory***, to use later as a reference"
   ]
  },
  {
   "cell_type": "code",
   "execution_count": 12,
   "metadata": {
    "collapsed": false,
    "jupyter": {
     "outputs_hidden": false
    }
   },
   "outputs": [],
   "source": [
    "from osgeo import ogr, gdal, gdal_array\n",
    "from matplotlib import pyplot as plt\n",
    "import numpy as np\n",
    "import os\n",
    "\n",
    "overTemperatureDs=gdal.Warp('', dsPath, \n",
    "    format=\"Mem\",\n",
    "    dstSRS='EPSG:28992',\n",
    "    cutlineDSName=nlprovPath,\n",
    "    cutlineWhere=\"NAME_1='Overijssel'\", \n",
    "    dstNodata=-9999,\n",
    "    cropToCutline = True, \n",
    "    outputType=gdal.GDT_Float32)\n",
    "\n",
    "overTempArray=gdarr.DatasetReadAsArray(overTemperatureDs, 0, 0, overTemperatureDs.RasterXSize, overTemperatureDs.RasterYSize)\n"
   ]
  },
  {
   "cell_type": "markdown",
   "metadata": {
    "collapsed": false,
    "jupyter": {
     "outputs_hidden": false
    }
   },
   "source": [
    "2. Create an empty raster in memory to carry the rasterized version of the road layer \\- **Exercise 2**  \n",
    "\n"
   ]
  },
  {
   "cell_type": "code",
   "execution_count": 13,
   "metadata": {
    "collapsed": false,
    "deletable": false,
    "jupyter": {
     "outputs_hidden": false
    },
    "nbgrader": {
     "cell_type": "code",
     "checksum": "d9f918c486e7e95b764812e189240e14",
     "grade": true,
     "grade_id": "741c03",
     "locked": false,
     "points": 5,
     "schema_version": 3,
     "solution": true,
     "task": false
    }
   },
   "outputs": [
    {
     "name": "stdout",
     "output_type": "stream",
     "text": [
      "Finish\n"
     ]
    }
   ],
   "source": [
    "# YOUR CODE HERE\n",
    "\n",
    "# 1- Create a driver\n",
    "driver = gdal.GetDriverByName('Mem')\n",
    "\n",
    "# 2- Create a new raster\n",
    "roadsRasterDs = driver.Create('', overTemperatureDs.RasterXSize, overTemperatureDs.RasterYSize, 1, gdal.GDT_Float32)\n",
    "\n",
    "\n",
    "# C3- Assign a projection\n",
    "prj = overTemperatureDs.GetProjection()\n",
    "roadsRasterDs.SetProjection(prj)\n",
    "\n",
    "# 4- Set the GeoTransform\n",
    "t = overTemperatureDs.GetGeoTransform()\n",
    "roadsRasterDs.SetGeoTransform(t)\n",
    "\n",
    "band = roadsRasterDs.GetRasterBand(1)\n",
    "band.SetNoDataValue(0)\n",
    "band.FlushCache()\n",
    "print('Finish')\n"
   ]
  },
  {
   "cell_type": "markdown",
   "metadata": {
    "collapsed": false,
    "jupyter": {
     "outputs_hidden": false
    }
   },
   "source": [
    "3. Rasteriation"
   ]
  },
  {
   "cell_type": "code",
   "execution_count": 14,
   "metadata": {
    "collapsed": false,
    "jupyter": {
     "outputs_hidden": false
    }
   },
   "outputs": [
    {
     "data": {
      "text/plain": [
       "0"
      ]
     },
     "execution_count": 14,
     "metadata": {},
     "output_type": "execute_result"
    }
   ],
   "source": [
    "roadsVectorDs = ogr.Open(roadsVectorDsPath)\n",
    "roadsLayer = roadsVectorDs.GetLayer()\n",
    "\n",
    "#  rasterize A1 road in Overijssel\n",
    "gdal.RasterizeLayer(roadsRasterDs, [1], roadsLayer,\n",
    "                        options =[ 'ATTRIBUTE=vehic_p_hour'])\n",
    "# Check slides page 9 \n",
    "# gdal.RasterizeLayer(dataset, [bands], layer, burn_values, options)"
   ]
  },
  {
   "cell_type": "markdown",
   "metadata": {
    "collapsed": false,
    "jupyter": {
     "outputs_hidden": false
    }
   },
   "source": [
    "4. Plot the output raster - **Exercise 3**"
   ]
  },
  {
   "cell_type": "code",
   "execution_count": 15,
   "metadata": {
    "collapsed": false,
    "deletable": false,
    "jupyter": {
     "outputs_hidden": false
    },
    "nbgrader": {
     "cell_type": "code",
     "checksum": "4027455636b2989ee10d425e0a5297a9",
     "grade": true,
     "grade_id": "095d93",
     "locked": false,
     "points": 5,
     "schema_version": 3,
     "solution": true,
     "task": false
    }
   },
   "outputs": [
    {
     "name": "stdout",
     "output_type": "stream",
     "text": [
      "(80, 87)\n"
     ]
    },
    {
     "data": {
      "image/png": "[encoded data removed]",
      "text/plain": [
       "<Figure size 864x504 with 2 Axes>"
      ]
     },
     "execution_count": 15,
     "metadata": {
      "image/png": {
       "height": 412,
       "width": 533
      },
      "needs_background": "light"
     },
     "output_type": "execute_result"
    }
   ],
   "source": [
    "roadsArray = gdarr.DatasetReadAsArray(roadsRasterDs,0, 0, roadsRasterDs.RasterXSize, roadsRasterDs.RasterYSize)\n",
    "print(roadsArray.shape)\n",
    "roadsArray[roadsArray==0] = None\n",
    "\n",
    "plt.imshow(roadsArray)\n",
    "plt.colorbar()\n",
    "plt.show()"
   ]
  },
  {
   "cell_type": "markdown",
   "metadata": {
    "collapsed": false,
    "jupyter": {
     "outputs_hidden": false
    }
   },
   "source": [
    "## A Sample Analysis\n",
    "\n",
    "How to rasterize only one road out of a dataset of the main roads of Overijssel using 0 and 1 as pixel values?\n",
    "\n",
    "Example:\n",
    "What were the lowest temperatures felt in 2014 on motorway A1 in the province of Overijssel?"
   ]
  },
  {
   "cell_type": "markdown",
   "metadata": {
    "collapsed": false,
    "jupyter": {
     "outputs_hidden": false
    }
   },
   "source": [
    "1- Subset the temperatures of Overijssel "
   ]
  },
  {
   "cell_type": "code",
   "execution_count": 46,
   "metadata": {
    "collapsed": false,
    "jupyter": {
     "outputs_hidden": false
    }
   },
   "outputs": [
    {
     "name": "stdout",
     "output_type": "stream",
     "text": [
      "already done\n"
     ]
    }
   ],
   "source": [
    "print('already done')"
   ]
  },
  {
   "cell_type": "markdown",
   "metadata": {
    "collapsed": false,
    "jupyter": {
     "outputs_hidden": false
    }
   },
   "source": [
    "2-Open road dataset and filter A1 road from the roads dataset"
   ]
  },
  {
   "cell_type": "code",
   "execution_count": 16,
   "metadata": {
    "collapsed": false,
    "jupyter": {
     "outputs_hidden": false
    }
   },
   "outputs": [
    {
     "data": {
      "text/plain": [
       "0"
      ]
     },
     "execution_count": 16,
     "metadata": {},
     "output_type": "execute_result"
    }
   ],
   "source": [
    "roadsVectorDs = ogr.Open(roadsVectorDsPath)\n",
    "roadsLayer = roadsVectorDs.GetLayer()\n",
    "roadsLayer.SetAttributeFilter(\"id='A1'\")"
   ]
  },
  {
   "cell_type": "markdown",
   "metadata": {
    "collapsed": false,
    "jupyter": {
     "outputs_hidden": false
    }
   },
   "source": [
    "3-Rasterize roads dataset\n",
    "- Create an empty raster dataset for A1 road"
   ]
  },
  {
   "cell_type": "code",
   "execution_count": 21,
   "metadata": {
    "collapsed": false,
    "jupyter": {
     "outputs_hidden": false
    }
   },
   "outputs": [
    {
     "data": {
      "text/plain": [
       "0"
      ]
     },
     "execution_count": 21,
     "metadata": {},
     "output_type": "execute_result"
    }
   ],
   "source": [
    "# Create the dataset\n",
    "memDriver = gdal.GetDriverByName('Mem')\n",
    "roadsRasterDs = memDriver.Create('', overTemperatureDs.RasterXSize, overTemperatureDs.RasterYSize,1,gdal.GDT_Float32)\n",
    "\n",
    "# Set projection and geotransform\n",
    "roadsRasterDs.SetProjection(overTemperatureDs.GetProjection())\n",
    "roadsRasterDs.SetGeoTransform(overTemperatureDs.GetGeoTransform())\n",
    "\n",
    "# Create 1 band and set the nodata\n",
    "outband1 = roadsRasterDs.GetRasterBand(1)\n",
    "outband1.SetNoDataValue(0)"
   ]
  },
  {
   "cell_type": "markdown",
   "metadata": {
    "collapsed": false,
    "jupyter": {
     "outputs_hidden": false
    }
   },
   "source": [
    "- Rasterize - **Exercise 4**"
   ]
  },
  {
   "cell_type": "code",
   "execution_count": 22,
   "metadata": {
    "collapsed": false,
    "deletable": false,
    "jupyter": {
     "outputs_hidden": false
    },
    "nbgrader": {
     "cell_type": "code",
     "checksum": "e99b08c56646f0dc0ce03d19ee72141b",
     "grade": true,
     "grade_id": "a5afe5",
     "locked": false,
     "points": 5,
     "schema_version": 3,
     "solution": true,
     "task": false
    }
   },
   "outputs": [
    {
     "data": {
      "text/plain": [
       "0"
      ]
     },
     "execution_count": 22,
     "metadata": {},
     "output_type": "execute_result"
    }
   ],
   "source": [
    "# YOUR CODE HERE\n",
    "# raise NotImplementedError()\n",
    "\n",
    "roadsRaster = ogr.Open(roadsVectorDsPath)\n",
    "roadsRaster = roadsVectorDs.GetLayer()\n",
    "\n",
    "#  rasterize A1 road in Overijssel\n",
    "gdal.RasterizeLayer(roadsRasterDs, [1], roadsLayer, burn_values = [1],\n",
    "                        options =[ 'ALL_TOUCHED = FALSE'])\n"
   ]
  },
  {
   "cell_type": "markdown",
   "metadata": {
    "collapsed": false,
    "jupyter": {
     "outputs_hidden": false
    }
   },
   "source": [
    "4-Convert rasterized dataset to numpy"
   ]
  },
  {
   "cell_type": "code",
   "execution_count": 23,
   "metadata": {
    "collapsed": false,
    "jupyter": {
     "outputs_hidden": false
    }
   },
   "outputs": [],
   "source": [
    "import numpy as np\n",
    "\n",
    "roadsArray=gdarr.DatasetReadAsArray(roadsRasterDs, 0, 0, roadsRasterDs.RasterXSize, roadsRasterDs.RasterYSize)\n"
   ]
  },
  {
   "cell_type": "code",
   "execution_count": 24,
   "metadata": {
    "collapsed": false,
    "jupyter": {
     "outputs_hidden": false
    }
   },
   "outputs": [
    {
     "data": {
      "image/png": "[encoded data removed]",
      "text/plain": [
       "<Figure size 864x504 with 1 Axes>"
      ]
     },
     "execution_count": 24,
     "metadata": {
      "image/png": {
       "height": 412,
       "width": 448
      },
      "needs_background": "light"
     },
     "output_type": "execute_result"
    }
   ],
   "source": [
    "from matplotlib import pyplot as plt\n",
    "roadsArray[roadsArray==0] = None\n",
    "plt.imshow(roadsArray)\n",
    "plt.show()"
   ]
  },
  {
   "cell_type": "markdown",
   "metadata": {
    "collapsed": false,
    "jupyter": {
     "outputs_hidden": false
    }
   },
   "source": [
    "5- Multiply A1 numpy array by the temperature array - **Exercise 5**"
   ]
  },
  {
   "cell_type": "code",
   "execution_count": null,
   "metadata": {
    "collapsed": false,
    "deletable": false,
    "jupyter": {
     "outputs_hidden": false
    },
    "nbgrader": {
     "cell_type": "code",
     "checksum": "ff82c3ffe18ab7353488f47da9e09137",
     "grade": true,
     "grade_id": "6598e0",
     "locked": false,
     "points": 5,
     "schema_version": 3,
     "solution": true,
     "task": false
    }
   },
   "outputs": [],
   "source": [
    "# YOUR CODE HERE\n",
    "#raise NotImplementedError()\n",
    "\n"
   ]
  },
  {
   "cell_type": "code",
   "execution_count": 56,
   "metadata": {
    "collapsed": false,
    "jupyter": {
     "outputs_hidden": false
    }
   },
   "outputs": [
    {
     "name": "stdout",
     "output_type": "stream",
     "text": [
      "shape of the filter: (80, 87)\n",
      "shape of the temprature array: (365, 80, 87)\n"
     ]
    }
   ],
   "source": [
    "print(f\"shape of the filter: {roadsArray.shape}\")\n",
    "print(f\"shape of the temprature array: {overTempArray.shape}\")"
   ]
  },
  {
   "cell_type": "code",
   "execution_count": 25,
   "metadata": {
    "collapsed": false,
    "jupyter": {
     "outputs_hidden": false
    }
   },
   "outputs": [
    {
     "name": "stdout",
     "output_type": "stream",
     "text": [
      "A1 road temperatures shape: (365, 80, 87)\n"
     ]
    }
   ],
   "source": [
    "roadsTemperature = None\n",
    "\n",
    "### BEGIN SOLUTION\n",
    "\n",
    "roadsTemperature = roadsArray * overTempArray\n",
    "roadsTemperature[roadsTemperature == -9999] = None\n",
    "print('A1 road temperatures shape:', roadsTemperature.shape)\n",
    "\n",
    "### END SOLUTION"
   ]
  },
  {
   "cell_type": "markdown",
   "metadata": {
    "collapsed": false,
    "jupyter": {
     "outputs_hidden": false
    }
   },
   "source": [
    "- Visualize road A1 temperature for day number 150 - **Exercise 6**\n",
    "\n"
   ]
  },
  {
   "cell_type": "code",
   "execution_count": 26,
   "metadata": {
    "collapsed": false,
    "deletable": false,
    "jupyter": {
     "outputs_hidden": false
    },
    "nbgrader": {
     "cell_type": "code",
     "checksum": "9b566f2e07dec5e0f1a2ba95d739fd8d",
     "grade": true,
     "grade_id": "a43652",
     "locked": false,
     "points": 5,
     "schema_version": 3,
     "solution": true,
     "task": false
    }
   },
   "outputs": [
    {
     "data": {
      "text/plain": [
       "<matplotlib.image.AxesImage at 0x7f42e002b0a0>"
      ]
     },
     "execution_count": 26,
     "metadata": {},
     "output_type": "execute_result"
    },
    {
     "data": {
      "image/png": "[encoded data removed]",
      "text/plain": [
       "<Figure size 864x504 with 1 Axes>"
      ]
     },
     "execution_count": 26,
     "metadata": {
      "image/png": {
       "height": 412,
       "width": 448
      },
      "needs_background": "light"
     },
     "output_type": "execute_result"
    }
   ],
   "source": [
    "# YOUR CODE HERE\n",
    "#raise NotImplementedError()\n",
    "\n",
    "plt.imshow(roadsTemperature[149])"
   ]
  },
  {
   "cell_type": "markdown",
   "metadata": {
    "collapsed": false,
    "jupyter": {
     "outputs_hidden": false
    }
   },
   "source": [
    "6-Compute lower temperature for every pixel on the road - **Exercise 7**"
   ]
  },
  {
   "cell_type": "code",
   "execution_count": 28,
   "metadata": {
    "collapsed": false,
    "deletable": false,
    "jupyter": {
     "outputs_hidden": false
    },
    "nbgrader": {
     "cell_type": "code",
     "checksum": "16c23d62691639d68279b31b63f430c6",
     "grade": true,
     "grade_id": "5bff50",
     "locked": false,
     "points": 5,
     "schema_version": 3,
     "solution": true,
     "task": false
    }
   },
   "outputs": [
    {
     "name": "stderr",
     "output_type": "stream",
     "text": [
      "/tmp/ipykernel_4193/1352116402.py:4: RuntimeWarning: All-NaN slice encountered\n",
      "  np.nanmin(roadsTemperature, axis=0).shape\n"
     ]
    },
    {
     "data": {
      "text/plain": [
       "(80, 87)"
      ]
     },
     "execution_count": 28,
     "metadata": {},
     "output_type": "execute_result"
    }
   ],
   "source": [
    "# YOUR CODE HERE\n",
    "#raise NotImplementedError()\n",
    "\n",
    "np.nanmin(roadsTemperature, axis=0).shape"
   ]
  },
  {
   "cell_type": "markdown",
   "metadata": {
    "collapsed": false,
    "jupyter": {
     "outputs_hidden": false
    }
   },
   "source": [
    "7-Extract min and max from the previous numpy array (lowest temperatures) - **Exercise 8**"
   ]
  },
  {
   "cell_type": "code",
   "execution_count": 31,
   "metadata": {
    "collapsed": false,
    "deletable": false,
    "jupyter": {
     "outputs_hidden": false
    },
    "nbgrader": {
     "cell_type": "code",
     "checksum": "08e4bf586cce874e2e10d4b4452047e8",
     "grade": true,
     "grade_id": "1ffd50",
     "locked": false,
     "points": 5,
     "schema_version": 3,
     "solution": true,
     "task": false
    }
   },
   "outputs": [
    {
     "name": "stderr",
     "output_type": "stream",
     "text": [
      "/tmp/ipykernel_4193/3196786966.py:5: RuntimeWarning: All-NaN slice encountered\n",
      "  np.nanmax(roadsTemperature, axis=0).shape\n"
     ]
    },
    {
     "data": {
      "text/plain": [
       "(80, 87)"
      ]
     },
     "execution_count": 31,
     "metadata": {},
     "output_type": "execute_result"
    }
   ],
   "source": [
    "# YOUR CODE HERE\n",
    "# raise NotImplementedError()\n",
    "\n",
    "\n",
    "np.nanmax(roadsTemperature, axis=0).shape"
   ]
  }
 ],
 "metadata": {
  "kernelspec": {
   "display_name": "Python 3 (ipykernel)",
   "language": "python",
   "name": "python3"
  },
  "language_info": {
   "codemirror_mode": {
    "name": "ipython",
    "version": 3
   },
   "file_extension": ".py",
   "mimetype": "text/x-python",
   "name": "python",
   "nbconvert_exporter": "python",
   "pygments_lexer": "ipython3",
   "version": "3.11.5"
  },
  "nbgrader": {
   "__altered": false,
   "__hash": -335098374,
   "_root": {
    "entries": [
     [
      "cocalc_minimal_stubs",
      false
     ]
    ],
    "ownerID": {}
   },
   "cocalc_minimal_stubs": false,
   "size": 1
  }
 },
 "nbformat": 4,
 "nbformat_minor": 4
}
