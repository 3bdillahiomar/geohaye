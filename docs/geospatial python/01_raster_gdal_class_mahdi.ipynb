{
 "cells": [
  {
   "cell_type": "code",
   "execution_count": null,
   "metadata": {
    "collapsed": false,
    "jupyter": {
     "outputs_hidden": false
    }
   },
   "outputs": [],
   "source": []
  },
  {
   "cell_type": "markdown",
   "metadata": {
    "collapsed": false,
    "jupyter": {
     "outputs_hidden": false
    }
   },
   "source": [
    "# Raster Processing with GDAL\n",
    "\n"
   ]
  },
  {
   "cell_type": "code",
   "execution_count": 7,
   "metadata": {
    "collapsed": false,
    "jupyter": {
     "outputs_hidden": false
    },
    "scrolled": true
   },
   "outputs": [
    {
     "name": "stdout",
     "output_type": "stream",
     "text": [
      "Installed!\n"
     ]
    }
   ],
   "source": [
    "import sys\n",
    "try:\n",
    "    from osgeo import ogr, osr, gdal\n",
    "    print(\"Installed!\") \n",
    "except:\n",
    "    sys.exit('ERROR: cannot find GDAL/OGR modules')"
   ]
  },
  {
   "cell_type": "markdown",
   "metadata": {
    "collapsed": false,
    "jupyter": {
     "outputs_hidden": false
    }
   },
   "source": [
    "## Open a dataset\n",
    "\n"
   ]
  },
  {
   "cell_type": "code",
   "execution_count": 4,
   "metadata": {
    "collapsed": false,
    "jupyter": {
     "outputs_hidden": false
    }
   },
   "outputs": [
    {
     "data": {
      "text/plain": [
       "'/home/user/Handouts/exercise_data_raster/2014.tif'"
      ]
     },
     "execution_count": 4,
     "metadata": {},
     "output_type": "execute_result"
    }
   ],
   "source": [
    "import os\n",
    "\n",
    "dir = 'data'\n",
    "dir = r'/home/user/Handouts/exercise_data_raster'\n",
    "\n",
    "dsPath = os.path.join(dir, '2014.tif')\n",
    "dsPath"
   ]
  },
  {
   "cell_type": "code",
   "execution_count": 10,
   "metadata": {
    "collapsed": false,
    "jupyter": {
     "outputs_hidden": false
    }
   },
   "outputs": [
    {
     "name": "stdout",
     "output_type": "stream",
     "text": [
      "File was opened!\n"
     ]
    }
   ],
   "source": [
    "raster = gdal.Open(dsPath)\n",
    "if raster is not None:\n",
    "    print(\"File was opened!\")\n",
    "else:\n",
    "    print(\"Could not open the file!\")"
   ]
  },
  {
   "cell_type": "markdown",
   "metadata": {
    "collapsed": false,
    "jupyter": {
     "outputs_hidden": false
    }
   },
   "source": [
    "## Access to metadata\n",
    "\n"
   ]
  },
  {
   "cell_type": "code",
   "execution_count": 11,
   "metadata": {
    "collapsed": false,
    "jupyter": {
     "outputs_hidden": false
    }
   },
   "outputs": [
    {
     "name": "stdout",
     "output_type": "stream",
     "text": [
      "Raster size X: 300\n"
     ]
    }
   ],
   "source": [
    "print(\"Raster size X:\", raster.RasterXSize)"
   ]
  },
  {
   "cell_type": "code",
   "execution_count": 12,
   "metadata": {
    "collapsed": false,
    "jupyter": {
     "outputs_hidden": false
    }
   },
   "outputs": [
    {
     "data": {
      "text/plain": [
       "350"
      ]
     },
     "execution_count": 12,
     "metadata": {},
     "output_type": "execute_result"
    }
   ],
   "source": [
    "raster.RasterYSize"
   ]
  },
  {
   "cell_type": "code",
   "execution_count": 13,
   "metadata": {
    "collapsed": false,
    "jupyter": {
     "outputs_hidden": false
    }
   },
   "outputs": [
    {
     "data": {
      "text/plain": [
       "365"
      ]
     },
     "execution_count": 13,
     "metadata": {},
     "output_type": "execute_result"
    }
   ],
   "source": [
    "raster.Min"
   ]
  },
  {
   "cell_type": "code",
   "execution_count": 14,
   "metadata": {
    "collapsed": false,
    "jupyter": {
     "outputs_hidden": false
    }
   },
   "outputs": [
    {
     "data": {
      "text/plain": [
       "{'AREA_OR_POINT': 'Area'}"
      ]
     },
     "execution_count": 14,
     "metadata": {},
     "output_type": "execute_result"
    }
   ],
   "source": [
    "raster.GetMetadata()"
   ]
  },
  {
   "cell_type": "code",
   "execution_count": 15,
   "metadata": {
    "collapsed": false,
    "jupyter": {
     "outputs_hidden": false
    }
   },
   "outputs": [
    {
     "data": {
      "text/plain": [
       "'PROJCS[\"Amersfoort / RD New\",GEOGCS[\"Amersfoort\",DATUM[\"Amersfoort\",SPHEROID[\"Bessel 1841\",6377397.155,299.1528128,AUTHORITY[\"EPSG\",\"7004\"]],TOWGS84[565.4171,50.3319,465.5524,-0.398957,0.343988,-1.8774,4.0725],AUTHORITY[\"EPSG\",\"6289\"]],PRIMEM[\"Greenwich\",0,AUTHORITY[\"EPSG\",\"8901\"]],UNIT[\"degree\",0.0174532925199433,AUTHORITY[\"EPSG\",\"9122\"]],AUTHORITY[\"EPSG\",\"4289\"]],PROJECTION[\"Oblique_Stereographic\"],PARAMETER[\"latitude_of_origin\",52.1561605555556],PARAMETER[\"central_meridian\",5.38763888888889],PARAMETER[\"scale_factor\",0.9999079],PARAMETER[\"false_easting\",155000],PARAMETER[\"false_northing\",463000],UNIT[\"metre\",1,AUTHORITY[\"EPSG\",\"9001\"]],AXIS[\"Easting\",EAST],AXIS[\"Northing\",NORTH],AUTHORITY[\"EPSG\",\"28992\"]]'"
      ]
     },
     "execution_count": 15,
     "metadata": {},
     "output_type": "execute_result"
    }
   ],
   "source": [
    "raster.GetProjection()"
   ]
  },
  {
   "cell_type": "code",
   "execution_count": 17,
   "metadata": {
    "collapsed": false,
    "jupyter": {
     "outputs_hidden": false
    }
   },
   "outputs": [
    {
     "name": "stdout",
     "output_type": "stream",
     "text": [
      "top left x:  0.0\n",
      "top left y: 640000.0\n",
      "Scale x: 1000.0\n",
      "Scale y: -1000.0\n",
      "Rotation 1: 0.0\n",
      "Rotation 2: 0.0\n"
     ]
    }
   ],
   "source": [
    "g  = raster.GetGeoTransform()\n",
    "print(\"top left x: \", g[0])\n",
    "print(\"top left y:\", g[3])\n",
    "print(\"Scale x:\", g[1])\n",
    "print(\"Scale y:\", g[5])\n",
    "print(\"Rotation 1:\", g[2])\n",
    "int(\"Rotation 2:\", g[4])"
   ]
  },
  {
   "cell_type": "code",
   "execution_count": 1,
   "metadata": {
    "collapsed": false,
    "jupyter": {
     "outputs_hidden": false
    }
   },
   "outputs": [],
   "source": [
    "def min_pixel_value(raster, n):\n",
    "    \"\"\"\n",
    "    Return the minimum of pixel values in band number `n` from the `raster`.\n",
    "    To see the methods that a band object provide, see https://gdal.org/python/index.html\n",
    "    \"\"\"\n",
    "    # YOUR CODE HERE\n",
    "    band = raster.GetRasterBand(n)\n",
    "    stat = band.GetStatistics(False, True)\n",
    "    print(stat)\n",
    "    return stat[0]\n",
    "\n",
    "\n",
    "def std_pixel_value(raster, n):\n",
    "    \"\"\"\n",
    "    Return the standard deviation of pixel values in band number `n` from the `raster`.\n",
    "    To see the methods that a band object provide, see https://gdal.org/python/index.html\n",
    "    \"\"\"\n",
    "    # YOUR CODE HERE\n",
    "    band = raster.GetRasterBand(n)\n",
    "    stat = band.GetStatistics(False, True)\n",
    "    print(stat)\n",
    "    return stat[3]"
   ]
  },
  {
   "cell_type": "markdown",
   "metadata": {
    "collapsed": false,
    "jupyter": {
     "outputs_hidden": false
    }
   },
   "source": [
    "## Convert to NumPy\n",
    "\n"
   ]
  },
  {
   "cell_type": "code",
   "execution_count": 23,
   "metadata": {
    "collapsed": false,
    "jupyter": {
     "outputs_hidden": false
    }
   },
   "outputs": [
    {
     "name": "stdout",
     "output_type": "stream",
     "text": [
      "(10, 10)\n",
      "float32\n",
      "2\n"
     ]
    }
   ],
   "source": [
    "from osgeo import gdal_array as gdarr\n",
    "\n",
    "band = raster.GetRasterBand(1)\n",
    "offset_x = 100\n",
    "offset_y = 150\n",
    "win_width = 10\n",
    "win_height = 10\n",
    "\n",
    "px = gdarr.BandReadAsArray(band, offset_x, offset_y, win_width, win_height)\n",
    "print(px.shape)\n",
    "print(px.dtype)\n",
    "print(px.ndim)"
   ]
  },
  {
   "cell_type": "code",
   "execution_count": 30,
   "metadata": {
    "collapsed": false,
    "jupyter": {
     "outputs_hidden": false
    },
    "scrolled": true
   },
   "outputs": [
    {
     "data": {
      "text/plain": [
       "<matplotlib.image.AxesImage at 0x7f1506e25c40>"
      ]
     },
     "execution_count": 30,
     "metadata": {},
     "output_type": "execute_result"
    },
    {
     "data": {
      "image/png": "[encoded data removed]",
      "text/plain": [
       "<Figure size 864x504 with 1 Axes>"
      ]
     },
     "execution_count": 30,
     "metadata": {
      "image/png": {
       "height": 278,
       "width": 703
      },
      "needs_background": "light"
     },
     "output_type": "execute_result"
    }
   ],
   "source": [
    "from osgeo import gdal_array as gdarr\n",
    "import matplotlib.pyplot as plt\n",
    "\n",
    "band = raster.GetRasterBand(1)\n",
    "offset_x = 0\n",
    "offset_y = 0\n",
    "win_width = 273\n",
    "win_height = 100\n",
    "\n",
    "arr = gdarr.BandReadAsArray(band, offset_x, offset_y, win_width, win_height)\n",
    "\n",
    "arr[arr == -9999] = None\n",
    "\n",
    "plt.imshow(arr)"
   ]
  },
  {
   "cell_type": "code",
   "execution_count": null,
   "metadata": {
    "collapsed": false,
    "jupyter": {
     "outputs_hidden": false
    }
   },
   "outputs": [],
   "source": []
  },
  {
   "cell_type": "code",
   "execution_count": 46,
   "metadata": {
    "collapsed": false,
    "jupyter": {
     "outputs_hidden": false
    }
   },
   "outputs": [
    {
     "name": "stdout",
     "output_type": "stream",
     "text": [
      "(365, 100, 273)\n",
      "3\n",
      "(100, 273)\n",
      "2\n"
     ]
    }
   ],
   "source": [
    "from osgeo import gdal_array as gdarr\n",
    "import matplotlib.pyplot as plt\n",
    "\n",
    "offset_x = 0\n",
    "offset_y = 0\n",
    "win_width = 273\n",
    "win_height = 100\n",
    "\n",
    "arr = gdarr.DatasetReadAsArray(raster, offset_x, offset_y, win_width, win_height)\n",
    "\n",
    "print(arr.shape)\n",
    "print(arr.ndim)\n",
    "\n",
    "first_band = arr[0]\n",
    "print(first_band.shape)\n",
    "print(first_band.ndim)\n",
    "\n",
    "# first_band[first_band == -9999] = None\n",
    "\n",
    "# plt.imshow(arr)"
   ]
  },
  {
   "cell_type": "code",
   "execution_count": null,
   "metadata": {
    "collapsed": false,
    "jupyter": {
     "outputs_hidden": false
    }
   },
   "outputs": [],
   "source": []
  },
  {
   "cell_type": "markdown",
   "metadata": {
    "collapsed": false,
    "jupyter": {
     "outputs_hidden": false
    }
   },
   "source": [
    "## Save the raster\n",
    "\n"
   ]
  },
  {
   "cell_type": "code",
   "execution_count": 47,
   "metadata": {
    "collapsed": false,
    "jupyter": {
     "outputs_hidden": false
    }
   },
   "outputs": [
    {
     "name": "stdout",
     "output_type": "stream",
     "text": [
      "Finish\n"
     ]
    }
   ],
   "source": [
    "# 1- Create a driver\n",
    "driver = raster.GetDriver()\n",
    "# or\n",
    "# driver = dgal.GetDriverByName('GTiff')\n",
    "\n",
    "# 2- Create a new raster\n",
    "new_raster = driver.Create('new.tiff', win_width, win_height, 1, gdal.GDT_Float32)\n",
    "\n",
    "\n",
    "# C3- Assign a projection\n",
    "prj = raster.GetProjection()\n",
    "new_raster.SetProjection(prj)\n",
    "\n",
    "# 4- Set the GeoTransform\n",
    "t = raster.GetGeoTransform()\n",
    "new_raster.SetGeoTransform(t)\n",
    "\n",
    "band = new_raster.GetRasterBand(1)\n",
    "band.WriteArray(first_band)\n",
    "band.SetNoDataValue(-9999)\n",
    "band.FlushCache()\n",
    "band = None\n",
    "\n",
    "new_raster = None\n",
    "print('Finish')"
   ]
  }
 ],
 "metadata": {
  "kernelspec": {
   "display_name": "Python 3 (ipykernel)",
   "language": "python",
   "name": "python3"
  },
  "language_info": {
   "codemirror_mode": {
    "name": "ipython",
    "version": 3
   },
   "file_extension": ".py",
   "mimetype": "text/x-python",
   "name": "python",
   "nbconvert_exporter": "python",
   "pygments_lexer": "ipython3",
   "version": "3.11.5"
  }
 },
 "nbformat": 4,
 "nbformat_minor": 4
}
