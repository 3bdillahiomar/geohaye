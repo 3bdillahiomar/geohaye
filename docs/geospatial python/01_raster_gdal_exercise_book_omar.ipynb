{
 "cells": [
  {
   "cell_type": "markdown",
   "metadata": {
    "collapsed": false,
    "deletable": false,
    "editable": false,
    "jupyter": {
     "outputs_hidden": false
    },
    "nbgrader": {
     "grade": false,
     "grade_id": "2c5885",
     "locked": true,
     "schema_version": 3,
     "solution": false,
     "task": false
    }
   },
   "source": [
    "# Gdal raster operations"
   ]
  },
  {
   "cell_type": "markdown",
   "metadata": {},
   "source": [
    "### GDAL Raster \n",
    "### Abdillahi Osman Omar December, 2023"
   ]
  },
  {
   "cell_type": "markdown",
   "metadata": {
    "collapsed": false,
    "jupyter": {
     "outputs_hidden": false
    }
   },
   "source": [
    "## NOTE BEFORE STARTING THE EXERCISES"
   ]
  },
  {
   "cell_type": "markdown",
   "metadata": {
    "collapsed": false,
    "jupyter": {
     "outputs_hidden": false
    }
   },
   "source": [
    "The goal of this practical session is to learn using the gdal package and handle\n",
    "raster data. These exercises come in two parts: the first part in which you will\n",
    "get in touch with the gdal Python library to work with raster datasets and the\n",
    "second part were you should use the gdal executables and scripts. \n",
    "\n",
    "Naturally, these exercises cannot be used in isolation as they relate to you have previously learned.\n",
    "Our intention is that you spend most of your time with the first exercises, and\n",
    "use this session a starting point in the use of gdal in Python. Thus, we keep\n",
    "following an incremental approach of the exercises, by gradually increasing its\n",
    "complexity."
   ]
  },
  {
   "cell_type": "markdown",
   "metadata": {
    "collapsed": false,
    "jupyter": {
     "outputs_hidden": false
    }
   },
   "source": [
    "In this section, you will learn the basic handling of raster data with gdal. It is\n",
    "not possible to cover all the functionalities and functions available in this package,\n",
    "thus, we encourage you to keep checking the gdal documentation in the website\n",
    "to find out how to properly use them."
   ]
  },
  {
   "cell_type": "markdown",
   "metadata": {
    "collapsed": false,
    "jupyter": {
     "outputs_hidden": false
    }
   },
   "source": [
    "#### Check these resources for GDAL: \n",
    "##### Explore by your own step by step !\n",
    "https://gdal.org/gdal.pdf ---- GDAL Documentation \n",
    "\n",
    "https://gdal.org/drivers/raster/index.html \n",
    "\n",
    "https://gdal.org/tutorials/index.html ---- GDALTutorials\n",
    "\n",
    "https://gdal.org/programs/index.html ---- GDAL Programs"
   ]
  },
  {
   "cell_type": "code",
   "execution_count": 1,
   "metadata": {
    "collapsed": false,
    "deletable": false,
    "editable": false,
    "jupyter": {
     "outputs_hidden": false
    },
    "nbgrader": {
     "grade": false,
     "grade_id": "e6a7b1",
     "locked": true,
     "schema_version": 3,
     "solution": false,
     "task": false
    }
   },
   "outputs": [
    {
     "name": "stdout",
     "output_type": "stream",
     "text": [
      "File is not available\n"
     ]
    }
   ],
   "source": [
    "import numpy as np\n",
    "import os\n",
    "\n",
    "path_to_2014_tiff =r'/home/user/Handouts/exercise_data_raster/2014.tif'\n",
    "if os.path.exists(path_to_2014_tiff):\n",
    "    print(\"File is avaiable\")\n",
    "else:\n",
    "    print(\"File is not available\")"
   ]
  },
  {
   "cell_type": "code",
   "execution_count": 2,
   "metadata": {},
   "outputs": [
    {
     "name": "stdout",
     "output_type": "stream",
     "text": [
      "File is avaiable\n"
     ]
    }
   ],
   "source": [
    "import numpy as np\n",
    "import os\n",
    "\n",
    "path_to_2014_tiff =r\"C:\\Users\\Zako3\\Downloads\\Handouts\\exercise_data_raster\\2014.tif\"\n",
    "if os.path.exists(path_to_2014_tiff):\n",
    "    print(\"File is avaiable\")\n",
    "else:\n",
    "    print(\"File is not available\")"
   ]
  },
  {
   "cell_type": "markdown",
   "metadata": {
    "collapsed": false,
    "jupyter": {
     "outputs_hidden": false
    }
   },
   "source": [
    "## 9.1"
   ]
  },
  {
   "cell_type": "code",
   "execution_count": 6,
   "metadata": {
    "collapsed": false,
    "deletable": false,
    "jupyter": {
     "outputs_hidden": false
    },
    "nbgrader": {
     "cell_type": "code",
     "checksum": "52936ce026e543d0566c0c22ea45126c",
     "grade": true,
     "grade_id": "ac4f73",
     "locked": false,
     "points": 1,
     "remove": false,
     "schema_version": 3,
     "solution": true,
     "task": false
    }
   },
   "outputs": [],
   "source": [
    "#\"\"\"Enter your answer here.\"\"\"\n",
    "# YOUR CODE HERE\n",
    "#raise NotImplementedError()"
   ]
  },
  {
   "cell_type": "code",
   "execution_count": 7,
   "metadata": {
    "collapsed": false,
    "jupyter": {
     "outputs_hidden": false
    }
   },
   "outputs": [
    {
     "data": {
      "text/plain": [
       "' Open the file 2014.tif that represents the daily maximum temperature of\\n2014, and obtain the following pieces of information about the file:\\n1.1 Driver name\\n1.2 Raster size\\n1.3 Geo transform information:\\n1.3.1 Top left coordinates\\n1.3.2 Pixel size\\n1.3.3 Rotation\\n1.4 Number of bands\\n'"
      ]
     },
     "execution_count": 7,
     "metadata": {},
     "output_type": "execute_result"
    }
   ],
   "source": [
    "\"\"\" Open the file 2014.tif that represents the daily maximum temperature of 2014, \n",
    "and obtain the following pieces of information about the file:\n",
    "1.1 Driver name\n",
    "1.2 Raster size\n",
    "1.3 Geo transform information:\n",
    "1.3.1 Top left coordinates\n",
    "1.3.2 Pixel size\n",
    "1.3.3 Rotation\n",
    "1.4 Number of bands\n",
    "\"\"\""
   ]
  },
  {
   "cell_type": "code",
   "execution_count": 3,
   "metadata": {
    "collapsed": false,
    "jupyter": {
     "outputs_hidden": false
    }
   },
   "outputs": [
    {
     "name": "stdout",
     "output_type": "stream",
     "text": [
      "C:\\Users\\Zako3\\Downloads\\Handouts\\exercise_data_raster\\2014.tif\n",
      "\n",
      "Driver name: GeoTIFF\n",
      "\n",
      "x size: 300 y size: 350\n",
      "\n",
      "Top-left x: 0.0 Top-left y: 640000.0\n",
      "Pixel-size w-e: 1000.0 Pixel-size n-s: -1000.0\n",
      "Rotation x: 0.0 Rotation y: 0.0\n",
      "\n",
      "There are 365 bands\n",
      "\n"
     ]
    },
    {
     "name": "stderr",
     "output_type": "stream",
     "text": [
      "C:\\Users\\Zako3\\anaconda3\\envs\\python_foundation\\Lib\\site-packages\\osgeo\\gdal.py:287: FutureWarning: Neither gdal.UseExceptions() nor gdal.DontUseExceptions() has been explicitly called. In GDAL 4.0, exceptions will be enabled by default.\n",
      "  warnings.warn(\n"
     ]
    }
   ],
   "source": [
    "from osgeo import gdal\n",
    "\n",
    "dataDirectory = r'C:\\Users\\Zako3\\Downloads\\Handouts\\exercise_data_raster\\2014.tif'\n",
    "print(dataDirectory)\n",
    "print()\n",
    "\n",
    "# Open dataset without changing the working directory\n",
    "raster = gdal.Open(dataDirectory)\n",
    "\n",
    "# Getting driver name\n",
    "driver = raster.GetDriver().LongName\n",
    "print(\"Driver name:\", driver)\n",
    "print()\n",
    "\n",
    "# Getting raster size\n",
    "x = raster.RasterXSize\n",
    "y = raster.RasterYSize\n",
    "print(\"x size:\", x, \"y size:\", y)\n",
    "print()\n",
    "\n",
    "# Getting geotransform info\n",
    "g = raster.GetGeoTransform()\n",
    "if g is not None:\n",
    "    print(\"Top-left x:\", g[0], \"Top-left y:\", g[3])\n",
    "    print(\"Pixel-size w-e:\", g[1], \"Pixel-size n-s:\", g[5])\n",
    "    print(\"Rotation x:\", g[2], \"Rotation y:\", g[4])\n",
    "    print()\n",
    "\n",
    "# Getting bands\n",
    "count = raster.RasterCount\n",
    "print(\"There are \" + str(count) + \" bands\")\n",
    "print()"
   ]
  },
  {
   "cell_type": "markdown",
   "metadata": {
    "collapsed": false,
    "deletable": false,
    "editable": false,
    "jupyter": {
     "outputs_hidden": false
    },
    "nbgrader": {
     "grade": false,
     "grade_id": "2f95dd",
     "locked": true,
     "schema_version": 3,
     "solution": false,
     "task": false
    }
   },
   "source": [
    "## 9.2"
   ]
  },
  {
   "cell_type": "code",
   "execution_count": null,
   "metadata": {
    "collapsed": false,
    "deletable": false,
    "jupyter": {
     "outputs_hidden": false
    },
    "nbgrader": {
     "cell_type": "code",
     "checksum": "2df93bb0e84cdd735805e8946f6fcc40",
     "grade": true,
     "grade_id": "3c1a3b",
     "locked": false,
     "points": 5,
     "schema_version": 3,
     "solution": true,
     "task": false
    }
   },
   "outputs": [],
   "source": [
    "#\"\"\"Enter your answer here.\"\"\"\n",
    "# YOUR CODE HERE\n",
    "#raise NotImplementedError()"
   ]
  },
  {
   "cell_type": "code",
   "execution_count": null,
   "metadata": {
    "collapsed": false,
    "jupyter": {
     "outputs_hidden": false
    }
   },
   "outputs": [],
   "source": [
    "\"\"\"\n",
    "Within the dataset 2014.tif, access the first day of measurements (i.e., the\n",
    "first band) and obtain the statistics of those measurements. Also to better\n",
    "understand this data, determine the no data value (if defined) and check the\n",
    "number of overviews.\n",
    "\"\"\""
   ]
  },
  {
   "cell_type": "code",
   "execution_count": 4,
   "metadata": {
    "collapsed": false,
    "jupyter": {
     "outputs_hidden": false
    }
   },
   "outputs": [
    {
     "name": "stdout",
     "output_type": "stream",
     "text": [
      "C:\\Users\\Zako3\\Downloads\\Handouts\\exercise_data_raster\\2014.tif\n",
      "\n",
      "min=7.73 max=10.50, mean=9.19 std=0.61\n",
      "\n",
      "no data value: -9999.0\n",
      "\n",
      "number of overviews: 0\n",
      "\n",
      "6\n"
     ]
    }
   ],
   "source": [
    "from osgeo import gdal\n",
    "import os\n",
    "\n",
    "dataDirectory = r'C:\\Users\\Zako3\\Downloads\\Handouts\\exercise_data_raster\\2014.tif'\n",
    "print(dataDirectory)\n",
    "print()\n",
    "\n",
    "# open dataset\n",
    "\n",
    "raster = gdal.Open(dataDirectory)\n",
    "band = raster.GetRasterBand(1)\n",
    "min_val = band.GetMinimum()\n",
    "max_val = band.GetMaximum()\n",
    "#print(\"min value:\", min_val, \"max value\", max_val)\n",
    "\n",
    "stats = band.GetStatistics(False, True)\n",
    "print('min=%.2f max=%.2f, mean=%.2f std=%.2f' % (stats[0], stats[1], stats[2], stats[3]))\n",
    "print()\n",
    "print(\"no data value:\", band.GetNoDataValue())\n",
    "print()\n",
    "print(\"number of overviews:\", band.GetOverviewCount())\n",
    "print()\n",
    "\n",
    "data_type = band.DataType\n",
    "print(data_type)\n"
   ]
  },
  {
   "cell_type": "markdown",
   "metadata": {},
   "source": [
    "### NOTE"
   ]
  },
  {
   "cell_type": "markdown",
   "metadata": {},
   "source": [
    "When you get a value of 6, it means the data type of the raster band is Float32, which is a 32-bit floating-point data type.\n",
    "\n",
    "A return value of 6 from band.DataType in GDAL corresponds to a 16-bit unsigned integer data type. The numerical values returned by band.DataType represent various raster data types, and the mapping is defined in the GDAL documentation.\n",
    "\n",
    "In GDAL, the most common data types and their corresponding numerical values are:\n",
    "\n",
    "1: Byte (8-bit unsigned integer)\n",
    "\n",
    "2: UInt16 (16-bit unsigned integer)\n",
    "\n",
    "3: Int16 (16-bit signed integer)\n",
    "\n",
    "4: UInt32 (32-bit unsigned integer)\n",
    "\n",
    "5: Int32 (32-bit signed integer)\n",
    "\n",
    "6: Float32 (32-bit floating-point)\n",
    "\n",
    "7: Float64 (64-bit floating-point)\n",
    "\n",
    "So, when you get a value of 6, it means the data type of the raster band is Float32, which is a 32-bit floating-point data type.\n",
    "\n"
   ]
  },
  {
   "attachments": {
    "14d29680-f7ae-4175-b41a-3b93787c15b7.png": {
     "image/png": "[encoded data removed]"
    }
   },
   "cell_type": "markdown",
   "metadata": {},
   "source": [
    "![image.png](attachment:14d29680-f7ae-4175-b41a-3b93787c15b7.png)"
   ]
  },
  {
   "cell_type": "markdown",
   "metadata": {
    "collapsed": false,
    "deletable": false,
    "editable": false,
    "jupyter": {
     "outputs_hidden": false
    },
    "nbgrader": {
     "grade": false,
     "grade_id": "cf089f",
     "locked": true,
     "schema_version": 3,
     "solution": false,
     "task": false
    }
   },
   "source": [
    "## 9.3"
   ]
  },
  {
   "cell_type": "code",
   "execution_count": null,
   "metadata": {
    "collapsed": false,
    "deletable": false,
    "jupyter": {
     "outputs_hidden": false
    },
    "nbgrader": {
     "cell_type": "code",
     "checksum": "0b275eed59868f62f99b8edab6cd5578",
     "grade": true,
     "grade_id": "9f6f95",
     "locked": false,
     "points": 5,
     "schema_version": 3,
     "solution": true,
     "task": false
    }
   },
   "outputs": [],
   "source": [
    "#\"\"\"Enter your answer here.\"\"\"\n",
    "# YOUR CODE HERE\n",
    "#raise NotImplementedError()"
   ]
  },
  {
   "cell_type": "code",
   "execution_count": 32,
   "metadata": {
    "collapsed": false,
    "jupyter": {
     "outputs_hidden": false
    }
   },
   "outputs": [
    {
     "data": {
      "text/plain": [
       "'\\nWithin the dataset 2014.tif, access the first day of measurements again,\\nand determine the temperature for position (x; y) = (200, 137).\\n'"
      ]
     },
     "execution_count": 32,
     "metadata": {},
     "output_type": "execute_result"
    }
   ],
   "source": [
    "\"\"\"\n",
    "Within the dataset 2014.tif, access the first day of measurements again,\n",
    "and determine the temperature for position (x; y) = (200, 137).\n",
    "\"\"\""
   ]
  },
  {
   "cell_type": "code",
   "execution_count": 5,
   "metadata": {
    "collapsed": false,
    "jupyter": {
     "outputs_hidden": false
    }
   },
   "outputs": [
    {
     "name": "stdout",
     "output_type": "stream",
     "text": [
      "Pixel value: 8.982155\n"
     ]
    }
   ],
   "source": [
    "from osgeo import gdal\n",
    "from osgeo import gdal_array as gdarr\n",
    "import os\n",
    "\n",
    "dataDirectory = r\"C:\\Users\\Zako3\\Downloads\\Handouts\\exercise_data_raster\"\n",
    "\n",
    "# change to the data directory\n",
    "os.chdir(dataDirectory)\n",
    "\n",
    "# open dataset\n",
    "\n",
    "raster = gdal.Open('2014.tif')\n",
    "band = raster.GetRasterBand(1)\n",
    "xoff = 200\n",
    "yoff = 137\n",
    "\n",
    "# Use 1-1 to extract a single pixel,\n",
    "# otherwise extract multiple pixels\n",
    "win_xsize = 1\n",
    "win_ysize = 1\n",
    "\n",
    "## Convert to NumPy\n",
    "px = gdarr.BandReadAsArray(band, xoff, yoff, win_xsize, win_ysize) # Convert to NumPy\n",
    "# gdarr.BandReadAsArray(band, xoff, yoff, win_xsize, win_ysize): \n",
    "# Reads pixel values from the specified window in the raster band.\n",
    "# \n",
    "print('Pixel value:', px[0, 0])\n"
   ]
  },
  {
   "attachments": {},
   "cell_type": "markdown",
   "metadata": {
    "collapsed": false,
    "deletable": false,
    "editable": false,
    "jupyter": {
     "outputs_hidden": false
    },
    "nbgrader": {
     "grade": false,
     "grade_id": "675a79",
     "locked": true,
     "schema_version": 3,
     "solution": false,
     "task": false
    }
   },
   "source": [
    "## 9.4"
   ]
  },
  {
   "cell_type": "code",
   "execution_count": null,
   "metadata": {
    "collapsed": false,
    "deletable": false,
    "jupyter": {
     "outputs_hidden": false
    },
    "nbgrader": {
     "cell_type": "code",
     "checksum": "6419e770e4e944df753742627b39ff8e",
     "grade": true,
     "grade_id": "1d3ef4",
     "locked": false,
     "points": 5,
     "schema_version": 3,
     "solution": true,
     "task": false
    }
   },
   "outputs": [],
   "source": [
    "#\"\"\"Enter your answer here.\"\"\"\n",
    "# YOUR CODE HERE\n",
    "#raise NotImplementedError()"
   ]
  },
  {
   "cell_type": "code",
   "execution_count": null,
   "metadata": {
    "collapsed": false,
    "jupyter": {
     "outputs_hidden": false
    }
   },
   "outputs": [],
   "source": [
    "\"\"\"\n",
    "With the same dataset and that first day, extract a subset for the Amsterdam area, \n",
    "and save it as a raster file named 2014_amsterdam.tif using the GTiff driver.\n",
    "\n",
    "Data for the Amsterdam area can be extracted using the function\n",
    "gdarr.BandReadAsArray(band, xoff, yoff, win_xsize, win_ysize)\n",
    "with the following parameter values: xoff= 0, yoff=0, win_xsize=200, win_ysize=200. \n",
    "\n",
    "Verify whether these values make sense to you.\n",
    "\"\"\""
   ]
  },
  {
   "cell_type": "code",
   "execution_count": 6,
   "metadata": {
    "collapsed": false,
    "jupyter": {
     "outputs_hidden": false
    }
   },
   "outputs": [
    {
     "name": "stdout",
     "output_type": "stream",
     "text": [
      "8.975358\n",
      "File closed!\n"
     ]
    }
   ],
   "source": [
    "from osgeo import gdal\n",
    "from osgeo import gdal_array as gdarr\n",
    "import os\n",
    "\n",
    "dataDirectory = r\"C:\\Users\\Zako3\\Downloads\\Handouts\\exercise_data_raster\"\n",
    "\n",
    "# change to the data directory\n",
    "os.chdir(dataDirectory)\n",
    "\n",
    "# open dataset\n",
    "\n",
    "raster = gdal.Open('2014.tif')\n",
    "band = raster.GetRasterBand(1)\n",
    "xoff = 200\n",
    "yoff = 200\n",
    "\n",
    "px = gdarr.BandReadAsArray(band, xoff, yoff, win_xsize, win_ysize)\n",
    "print(px[0,0])\n",
    "\n",
    "# Saving the file \n",
    "driver = gdal.GetDriverByName('GTiff')\n",
    "\n",
    "\n",
    "outraster = driver.Create('2014_amsterdam.tif', \n",
    "                          px.shape[1], px.shape[0], 1, \n",
    "                          gdal.GDT_Float32) # \n",
    "\n",
    "# Define the new raster dataset projection and geotransform\n",
    "prj = raster.GetProjection()\n",
    "outraster.SetProjection(prj)\n",
    "gt = raster.GetGeoTransform()\n",
    "outraster.SetGeoTransform(gt)\n",
    "\n",
    "# Create a band\n",
    "outband = outraster.GetRasterBand(1)\n",
    "\n",
    "# Write the array to the band\n",
    "outband.WriteArray(px)\n",
    "\n",
    "# Set a pixel nodata value\n",
    "outband.SetNoDataValue(band.GetNoDataValue())\n",
    "\n",
    "# Flush the cache and clean memory\n",
    "if outband is not None:\n",
    "    outband.FlushCache()\n",
    "    outband = None\n",
    "\n",
    "if outraster is not None:\n",
    "    outraster = None\n",
    "\n",
    "if band is not None:\n",
    "    band = None\n",
    "\n",
    "if raster is not None:\n",
    "    raster = None\n",
    "\n",
    "print(\"File closed!\")\n"
   ]
  },
  {
   "attachments": {},
   "cell_type": "markdown",
   "metadata": {
    "collapsed": false,
    "jupyter": {
     "outputs_hidden": false
    }
   },
   "source": [
    "## 9.5"
   ]
  },
  {
   "cell_type": "code",
   "execution_count": null,
   "metadata": {
    "collapsed": false,
    "deletable": false,
    "jupyter": {
     "outputs_hidden": false
    },
    "nbgrader": {
     "cell_type": "code",
     "checksum": "95b2008e0743cd3640f6db3ea85e2e07",
     "grade": true,
     "grade_id": "8f22cc",
     "locked": false,
     "points": 5,
     "schema_version": 3,
     "solution": true,
     "task": false
    }
   },
   "outputs": [],
   "source": [
    "#\"\"\"Enter your answer here.\"\"\"\n",
    "# YOUR CODE HERE\n",
    "#raise NotImplementedError()\n",
    "\n",
    "\n",
    "\"\"\"\n",
    "Transform dataset 2014.tif into a numpy array, then next determine temperature\n",
    "values for the following day/location combinations.\n",
    "You may use function gdarr.DatasetReadAsArray(dataset, xoff, yoff,\n",
    "win_xsize, win_ysize) for the transformation. \n",
    "\n",
    "Do not forget that in numpy X represents columns and Y represents rows.\n",
    "\n",
    "\"\"\""
   ]
  },
  {
   "cell_type": "code",
   "execution_count": 7,
   "metadata": {
    "collapsed": false,
    "jupyter": {
     "outputs_hidden": false
    }
   },
   "outputs": [
    {
     "name": "stdout",
     "output_type": "stream",
     "text": [
      "Shape: (365, 200, 200)\n",
      "Line 1 Temperature: -9999.0\n",
      "Line 2 Temperature: 5.843884\n",
      "Line 3 Temperature: -9999.0\n",
      "Line 4 Temperature: 19.864407\n",
      "Line 5 Temperature: -9999.0\n",
      "Line 6 Temperature: 16.898111\n",
      "Line 7 Temperature: -9999.0\n"
     ]
    }
   ],
   "source": [
    "from osgeo import gdal\n",
    "from osgeo import gdal_array as gdarr\n",
    "import os\n",
    "\n",
    "dataDirectory = r\"C:\\Users\\Zako3\\Downloads\\Handouts\\exercise_data_raster\"\n",
    "\n",
    "# change to the data directory\n",
    "os.chdir(dataDirectory)\n",
    "\n",
    "# open dataset\n",
    "\n",
    "raster = gdal.Open('2014.tif')\n",
    "band = raster.GetRasterBand(1)\n",
    "xoff = 0\n",
    "yoff = 0\n",
    "\n",
    "win_xsize = 200\n",
    "win_ysize = 200\n",
    "\n",
    "# Read all bands as a 3D array\n",
    "px = gdarr.DatasetReadAsArray(raster, xoff, yoff, win_xsize, win_ysize)\n",
    "print('Shape:', px.shape)\n",
    "\n",
    "# The order is px[Days, Y, X]\n",
    "print('Line 1 Temperature:', px[0, 0, 0])\n",
    "print('Line 2 Temperature:', px[30, 100, 100])\n",
    "print('Line 3 Temperature:', px[58, 150, 78])\n",
    "print('Line 4 Temperature:', px[89, 180, 186])\n",
    "print('Line 5 Temperature:', px[119, 160, 20])\n",
    "print('Line 6 Temperature:', px[150, 100, 100])\n",
    "print('Line 7 Temperature:', px[364, 150, 78])\n",
    "\n"
   ]
  },
  {
   "cell_type": "markdown",
   "metadata": {
    "collapsed": false,
    "deletable": false,
    "editable": false,
    "jupyter": {
     "outputs_hidden": false
    },
    "nbgrader": {
     "grade": false,
     "grade_id": "4469a9",
     "locked": true,
     "schema_version": 3,
     "solution": false,
     "task": false
    }
   },
   "source": [
    "## 9.6"
   ]
  },
  {
   "cell_type": "code",
   "execution_count": null,
   "metadata": {
    "collapsed": false,
    "deletable": false,
    "jupyter": {
     "outputs_hidden": false
    },
    "nbgrader": {
     "cell_type": "code",
     "checksum": "2c5d0ad566a642f815b335f3a89f62d9",
     "grade": true,
     "grade_id": "1738fc",
     "locked": false,
     "points": 5,
     "schema_version": 3,
     "solution": true,
     "task": false
    }
   },
   "outputs": [],
   "source": [
    "#\"\"\"Enter your answer here.\"\"\"\n",
    "# YOUR CODE HERE\n",
    "#raise NotImplementedError()"
   ]
  },
  {
   "cell_type": "code",
   "execution_count": null,
   "metadata": {
    "collapsed": false,
    "jupyter": {
     "outputs_hidden": false
    }
   },
   "outputs": [],
   "source": [
    "\"\"\"\n",
    "With the same dataset and the first day measurements, extract a subset of Ex 9.6\n",
    "Enschede area and save it into a raster file named 2014_enschede.tif using\n",
    "the GTiff driver.\n",
    "The Enschede area can be extracted using the function using parameters:\n",
    "xoff= 100, yoff=40, win_xsize=200, win_ysize=200. \n",
    "\n",
    "Hint: you will need a new geotransform using pixel offset calculations. \n",
    "Check the slides how to do this.\n",
    "\n",
    "\"\"\""
   ]
  },
  {
   "cell_type": "code",
   "execution_count": 43,
   "metadata": {
    "collapsed": false,
    "jupyter": {
     "outputs_hidden": false
    }
   },
   "outputs": [
    {
     "name": "stdout",
     "output_type": "stream",
     "text": [
      "File closed!\n"
     ]
    }
   ],
   "source": [
    "from osgeo import gdal\n",
    "from osgeo import gdal_array as gdarr\n",
    "import os\n",
    "\n",
    "dataDirectory = r\"C:\\Users\\Zako3\\Downloads\\Handouts\\exercise_data_raster\"\n",
    "\n",
    "# change to the data directory\n",
    "os.chdir(dataDirectory)\n",
    "\n",
    "# open dataset\n",
    "\n",
    "raster = gdal.Open('2014.tif')\n",
    "band = raster.GetRasterBand(1)\n",
    "xoff = 100\n",
    "yoff = 40\n",
    "win_xsize = 200\n",
    "win_ysize = 200\n",
    "\n",
    "# Read a single band as a two-dimensional array\n",
    "px = gdarr.BandReadAsArray(band, xoff, yoff, win_xsize, win_ysize)\n",
    "driver = gdal.GetDriverByName('GTiff')\n",
    "outraster = driver.Create('2014_enschede.tif', px.shape[1], px.shape[0], 1, gdal.GDT_Float32)\n",
    "\n",
    "# Define the new raster dataset projection and geotransform\n",
    "prj = raster.GetProjection()\n",
    "outraster.SetProjection(prj)\n",
    "gt = raster.GetGeoTransform()\n",
    "\n",
    "# Getting new top-left value\n",
    "newTL = gdal.ApplyGeoTransform(gt, 100, 150)  # 100 and 150 are the assumed original pixel values. \n",
    "outraster.SetGeoTransform([newTL[0], 1000, 0, newTL[1], 0, -1000])\n",
    "# Comment on here \n",
    "# Sometimes we need to compute a new geotransform to save a new\n",
    "#raster image. For such, we need to transform rows/columns into\n",
    "# coordinates, and vice versa.\n",
    "\n",
    "# Create a band\n",
    "outband = outraster.GetRasterBand(1)\n",
    "\n",
    "# Write the array to the band\n",
    "outband.WriteArray(px)\n",
    "\n",
    "# Set a pixel nodata value\n",
    "outband.SetNoDataValue(band.GetNoDataValue())\n",
    "\n",
    "# Flush the cache and clean memory\n",
    "if outband is not None:\n",
    "    outband.FlushCache()\n",
    "    outband = None\n",
    "\n",
    "if outraster is not None:\n",
    "    outraster = None\n",
    "\n",
    "if band is not None:\n",
    "    band = None\n",
    "\n",
    "if raster is not None:\n",
    "    raster = None\n",
    "\n",
    "print(\"File closed!\")"
   ]
  },
  {
   "cell_type": "markdown",
   "metadata": {},
   "source": [
    "### NOTE "
   ]
  },
  {
   "cell_type": "raw",
   "metadata": {},
   "source": [
    "The GeoTransform parameters define the relationship between pixel coordinates and geographic coordinates. \n",
    "\n",
    "The GeoTransform is typically a tuple of six values:\n",
    "\n",
    "(gt[0], gt[1], gt[2], gt[3], gt[4], gt[5])\n",
    "\n",
    "gt[0]: Top left x-coordinate of the top left pixel\n",
    "gt[1]: W-E pixel resolution\n",
    "gt[2]: Rotation (typically zero)\n",
    "gt[3]: Top left y-coordinate of the top left pixel\n",
    "gt[4]: Rotation (typically zero)\n",
    "gt[5]: N-S pixel resolution (negative value for north-up)-up)"
   ]
  },
  {
   "cell_type": "markdown",
   "metadata": {},
   "source": [
    "The pair **(gt[0], gt[3])** provides the coordinates of the top-left corner of the raster in the original coordinate system. \n",
    "\n",
    "The other elements **(gt[1], gt[2], gt[4], gt[5])** define the pixel resolution and potential rotation."
   ]
  },
  {
   "cell_type": "markdown",
   "metadata": {
    "collapsed": false,
    "deletable": false,
    "editable": false,
    "jupyter": {
     "outputs_hidden": false
    },
    "nbgrader": {
     "grade": false,
     "grade_id": "a9aaaa",
     "locked": true,
     "schema_version": 3,
     "solution": false,
     "task": false
    }
   },
   "source": [
    "## 9.7"
   ]
  },
  {
   "cell_type": "markdown",
   "metadata": {
    "collapsed": false,
    "jupyter": {
     "outputs_hidden": false
    }
   },
   "source": [
    "### The use of .Translate() and .Warp() methods"
   ]
  },
  {
   "cell_type": "markdown",
   "metadata": {
    "collapsed": false,
    "jupyter": {
     "outputs_hidden": false
    }
   },
   "source": [
    "### References for .Translate() and .Warp() methods\n",
    "\n",
    "\n",
    "https://gdal.org/programs/gdal_translate.html\n",
    "\n",
    "Converts raster data between different formats.\n",
    "\n",
    "https://gdal.org/programs/gdalwarp.html\n",
    "\n",
    "Image reprojection and warping utility"
   ]
  },
  {
   "cell_type": "code",
   "execution_count": null,
   "metadata": {
    "collapsed": false,
    "deletable": false,
    "jupyter": {
     "outputs_hidden": false
    },
    "nbgrader": {
     "cell_type": "code",
     "checksum": "86eec7cd53fcfd4899d88299ae47af5a",
     "grade": true,
     "grade_id": "c3f4b3",
     "locked": false,
     "points": 5,
     "schema_version": 3,
     "solution": true,
     "task": false
    }
   },
   "outputs": [],
   "source": [
    "#\"\"\"Enter your answer here.\"\"\"\n",
    "# YOUR CODE HERE\n",
    "#raise NotImplementedError()"
   ]
  },
  {
   "cell_type": "code",
   "execution_count": null,
   "metadata": {
    "collapsed": false,
    "jupyter": {
     "outputs_hidden": false
    }
   },
   "outputs": [],
   "source": [
    "\"\"\"\n",
    "In this block of exercises, you learn how to run the gdal.Translate and\n",
    "gdal.Warp methods.\n",
    "\n",
    "You should have a folder called 2014_csv. This folder has 31 csv files, one \n",
    "per day, each of which represents the maximum temperature in the month\n",
    "of January 2014. \n",
    "\n",
    "With the method gdal.Translate you should create new raster tif files based on the csv files. \n",
    "The coordinate system of the csv files is EPSG code 28992. \n",
    "Ensure that you specify the nodata value as -9999.\n",
    "\n",
    "You will need to create a loop using the os.listdir(directory) function.\n",
    "For example, you can use the following code to loop over files in a directory:\n",
    "\n",
    "\n",
    "\"\"\""
   ]
  },
  {
   "cell_type": "code",
   "execution_count": 38,
   "metadata": {
    "collapsed": false,
    "jupyter": {
     "outputs_hidden": false
    }
   },
   "outputs": [
    {
     "name": "stdout",
     "output_type": "stream",
     "text": [
      "Finished\n"
     ]
    }
   ],
   "source": [
    "from osgeo import gdal\n",
    "from osgeo import gdal_array as gdarr\n",
    "import os\n",
    "\n",
    "directory = r\"C:\\Users\\Zako3\\Downloads\\Handouts\\exercise_data_raster\\2014_csv\"\n",
    "\n",
    "# change to the data directory\n",
    "os.chdir(directory)\n",
    "\n",
    "for filename in os.listdir(directory):\n",
    "    if filename.endswith(\".csv\"):\n",
    "        filename_simple = filename.split('.')[0]\n",
    "        new_dataset = gdal.Translate(filename_simple + '.tif',\n",
    "                                     filename, format=\"GTiff\", noData='-9999', outputSRS='EPSG:28992')\n",
    "    else:\n",
    "        continue\n",
    "\n",
    "print('Finished')\n",
    "\n",
    "\n",
    "### Both 2014_CSV and 2014.tiff are saved in the same folder \n",
    "### Follow more details in the directory"
   ]
  },
  {
   "cell_type": "markdown",
   "metadata": {
    "collapsed": false,
    "deletable": false,
    "editable": false,
    "jupyter": {
     "outputs_hidden": false
    },
    "nbgrader": {
     "grade": false,
     "grade_id": "79c831",
     "locked": true,
     "schema_version": 3,
     "solution": false,
     "task": false
    }
   },
   "source": [
    "## 9.8"
   ]
  },
  {
   "cell_type": "code",
   "execution_count": 58,
   "metadata": {
    "collapsed": false,
    "deletable": false,
    "jupyter": {
     "outputs_hidden": false
    },
    "nbgrader": {
     "cell_type": "code",
     "checksum": "a1d57b047cbaf2e077b0744b8de1d8c1",
     "grade": true,
     "grade_id": "98962e",
     "locked": false,
     "points": 5,
     "schema_version": 3,
     "solution": true,
     "task": false
    }
   },
   "outputs": [],
   "source": [
    "#\"\"\"Enter your answer here.\"\"\"\n",
    "# YOUR CODE HERE\n",
    "#raise NotImplementedError()\n",
    "\n",
    "\"\"\"Try to work out Exercise 4 and 6 above with gdal.Translate().\"\"\""
   ]
  },
  {
   "cell_type": "code",
   "execution_count": 9,
   "metadata": {
    "collapsed": false,
    "jupyter": {
     "outputs_hidden": false
    }
   },
   "outputs": [
    {
     "data": {
      "image/png": "[encoded data removed]",
      "text/plain": [
       "<Figure size 640x480 with 1 Axes>"
      ]
     },
     "metadata": {},
     "output_type": "display_data"
    },
    {
     "name": "stdout",
     "output_type": "stream",
     "text": [
      "\n",
      "\n",
      "\n"
     ]
    },
    {
     "data": {
      "image/png": "[encoded data removed]",
      "text/plain": [
       "<Figure size 640x480 with 1 Axes>"
      ]
     },
     "metadata": {},
     "output_type": "display_data"
    },
    {
     "name": "stdout",
     "output_type": "stream",
     "text": [
      "Finished\n"
     ]
    }
   ],
   "source": [
    "from osgeo import gdal\n",
    "from osgeo import gdal_array as gdarr\n",
    "import os\n",
    "import matplotlib . pyplot as plt\n",
    "\n",
    "dataDirectory = r\"C:\\Users\\Zako3\\Downloads\\Handouts\\exercise_data_raster\"\n",
    "\n",
    "# change to the data directory\n",
    "os.chdir(dataDirectory)\n",
    "\n",
    "# open dataset\n",
    "\n",
    "raster = gdal.Open('2014.tif')\n",
    "\n",
    "# Exercise 4\n",
    "AmsDataset = gdal.Translate(\"2014_amsterdam2.tif\", raster, format=\"GTiff\", srcWin=[0, 0, 200, 200])\n",
    "\n",
    "# Show the raster image to confirm\n",
    "newBand = AmsDataset.GetRasterBand(1)\n",
    "px = gdarr.BandReadAsArray(newBand, 0, 0, AmsDataset.RasterXSize, AmsDataset.RasterYSize)\n",
    "px[px == -9999] = None\n",
    "plt.imshow(px)\n",
    "plt.show()\n",
    "print()\n",
    "print()\n",
    "print()\n",
    "\n",
    "# Exercise 6\n",
    "EnsDataset = gdal.Translate(\"2014_enschede2.tif\", \n",
    "                            raster, \n",
    "                            format=\"GTiff\", \n",
    "                            srcWin=[100, 40, 200, 200])\n",
    "\n",
    "# Show the raster image to confirm\n",
    "newBand = EnsDataset.GetRasterBand(1)\n",
    "px = gdarr.BandReadAsArray(newBand, 0, 0, EnsDataset.RasterXSize, EnsDataset.RasterYSize)\n",
    "px[px == -9999] = None\n",
    "plt.imshow(px)\n",
    "plt.show()\n",
    "\n",
    "plt.tight_layout\n",
    "print('Finished')"
   ]
  },
  {
   "cell_type": "markdown",
   "metadata": {
    "collapsed": false,
    "deletable": false,
    "editable": false,
    "jupyter": {
     "outputs_hidden": false
    },
    "nbgrader": {
     "grade": false,
     "grade_id": "680f25",
     "locked": true,
     "schema_version": 3,
     "solution": false,
     "task": false
    }
   },
   "source": [
    "## 9.9"
   ]
  },
  {
   "cell_type": "code",
   "execution_count": null,
   "metadata": {
    "collapsed": false,
    "deletable": false,
    "editable": false,
    "jupyter": {
     "outputs_hidden": false
    },
    "nbgrader": {
     "grade": true,
     "grade_id": "63260f",
     "locked": true,
     "points": 5,
     "schema_version": 3,
     "solution": false,
     "task": false
    }
   },
   "outputs": [],
   "source": [
    "\"\"\"Enter your answer here.\"\"\"\n",
    "### BEGIN SOLUTION\n",
    "\n",
    "### END SOLUTION"
   ]
  },
  {
   "cell_type": "code",
   "execution_count": null,
   "metadata": {
    "collapsed": false,
    "jupyter": {
     "outputs_hidden": false
    }
   },
   "outputs": [],
   "source": [
    "\"\"\"\n",
    "\n",
    "In Exercise 7, we should have created 31 tif files, one per day. These files\n",
    "make use of the spatial reference system known as EPSG code 28992. \n",
    "\n",
    "Now, reproject these files into new tif files, that make use of spatial reference system\n",
    "known as EPSG code 4326 (WGS84), through the use of gdal.Warp().\n",
    "\n",
    "Please check the presentation slides for more information on how to do this.\n",
    "And do also check Warp options for the list of available gdal.Warp options.\n",
    "\n",
    "\"\"\""
   ]
  },
  {
   "cell_type": "code",
   "execution_count": 42,
   "metadata": {
    "collapsed": false,
    "jupyter": {
     "outputs_hidden": false
    }
   },
   "outputs": [
    {
     "name": "stdout",
     "output_type": "stream",
     "text": [
      "Finished\n"
     ]
    }
   ],
   "source": [
    "from osgeo import gdal\n",
    "import os\n",
    "\n",
    "directory = r\"C:\\Users\\Zako3\\Downloads\\Handouts\\exercise_data_raster\\2014_csv\"\n",
    "\n",
    "# change to the data directory\n",
    "os.chdir(directory)\n",
    "\n",
    "for filename in os.listdir(directory):\n",
    "    if filename.endswith(\".tif\"):\n",
    "        raster = gdal.Open(filename)\n",
    "        new_dataset = gdal.Warp(\"\", raster, format=\"Mem\", dstSRS='EPSG:4326')\n",
    "    else:\n",
    "        continue\n",
    "\n",
    "print('Finished')"
   ]
  }
 ],
 "metadata": {
  "kernelspec": {
   "display_name": "Python 3 (ipykernel)",
   "language": "python",
   "name": "python3"
  },
  "language_info": {
   "codemirror_mode": {
    "name": "ipython",
    "version": 3
   },
   "file_extension": ".py",
   "mimetype": "text/x-python",
   "name": "python",
   "nbconvert_exporter": "python",
   "pygments_lexer": "ipython3",
   "version": "3.11.5"
  },
  "nbgrader": {
   "__altered": false,
   "__hash": -3618366,
   "_root": {
    "entries": [
     [
      "__altered",
      false
     ],
     [
      "__hash",
      1043241747
     ],
     [
      "_root",
      {
       "entries": [
        [
         "size",
         1
        ],
        [
         "_root",
         {
          "entries": [
           [
            "cocalc_minimal_stubs",
            false
           ]
          ],
          "ownerID": {}
         }
        ],
        [
         "__hash",
         -335098374
        ],
        [
         "__altered",
         false
        ],
        [
         "cocalc_minimal_stubs",
         false
        ]
       ],
       "ownerID": {}
      }
     ],
     [
      "cocalc_minimal_stubs",
      false
     ],
     [
      "size",
      5
     ]
    ],
    "ownerID": {}
   },
   "cocalc_minimal_stubs": false,
   "size": 5
  }
 },
 "nbformat": 4,
 "nbformat_minor": 4
}
