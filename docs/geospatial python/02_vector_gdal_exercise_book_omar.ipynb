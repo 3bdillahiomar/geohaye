{
 "cells": [
  {
   "cell_type": "markdown",
   "metadata": {
    "collapsed": false,
    "jupyter": {
     "outputs_hidden": false
    },
    "nbgrader": {
     "grade": false,
     "grade_id": "2c5885",
     "locked": true,
     "schema_version": 3,
     "solution": false,
     "task": false
    }
   },
   "source": [
    "# Gdal vector operations"
   ]
  },
  {
   "cell_type": "markdown",
   "metadata": {},
   "source": [
    "In many geospatial projects, vector data is common and their operational functionality is fundamental to achieve success.\n",
    "\n",
    "For the next exercises, we will work in part with vector data on the island of Texel (pronounce ‘Tessel’), \n",
    "the largest inhabited island of The Netherlands."
   ]
  },
  {
   "cell_type": "markdown",
   "metadata": {
    "collapsed": false,
    "jupyter": {
     "outputs_hidden": false
    }
   },
   "source": [
    "The goal of this practical session is to learn using the ogr package and handle vector data."
   ]
  },
  {
   "cell_type": "markdown",
   "metadata": {
    "collapsed": false,
    "jupyter": {
     "outputs_hidden": false
    }
   },
   "source": [
    "### Reference\n",
    "\n",
    "https://pcjericks.github.io/py-gdalogr-cookbook/#\n",
    "\n",
    "#### Exercise 10.1 - 10.7 Access to vector data and simple spatial analysis\n",
    "#### Exercise 10.8 - 10.11 Calculation of distances between vector features\n"
   ]
  },
  {
   "cell_type": "code",
   "execution_count": 1,
   "metadata": {
    "collapsed": false,
    "jupyter": {
     "outputs_hidden": false
    },
    "nbgrader": {
     "grade": false,
     "grade_id": "e6a7b1",
     "locked": true,
     "schema_version": 3,
     "solution": false,
     "task": false
    }
   },
   "outputs": [
    {
     "name": "stdout",
     "output_type": "stream",
     "text": [
      "The folder is accessible\n"
     ]
    }
   ],
   "source": [
    "import numpy as np\n",
    "import os\n",
    "\n",
    "datasource_folder_path =r\"C:\\Users\\Zako3\\Downloads\\Handouts\\exercise_data_vector\"\n",
    "if os.path.exists(datasource_folder_path):\n",
    "    print(\"The folder is accessible\")"
   ]
  },
  {
   "cell_type": "markdown",
   "metadata": {
    "collapsed": false,
    "jupyter": {
     "outputs_hidden": false
    }
   },
   "source": [
    "## 10.1"
   ]
  },
  {
   "cell_type": "code",
   "execution_count": 5,
   "metadata": {
    "collapsed": false,
    "jupyter": {
     "outputs_hidden": false
    },
    "nbgrader": {
     "grade": true,
     "grade_id": "ac4f73",
     "locked": false,
     "points": 1,
     "remove": false,
     "schema_version": 3,
     "solution": true,
     "task": false
    }
   },
   "outputs": [],
   "source": [
    "#\"\"\"Enter your answer here.\"\"\"\n",
    "### BEGIN SOLUTION\n",
    "\n",
    "### END SOLUTION"
   ]
  },
  {
   "cell_type": "code",
   "execution_count": 6,
   "metadata": {
    "collapsed": false,
    "jupyter": {
     "outputs_hidden": false
    }
   },
   "outputs": [
    {
     "data": {
      "text/plain": [
       "'\\nIn this block of exercises you follow the steps taken in the theory slides. \\nYou will open a vector data source, and extract its layer and features. \\nYou will also perform simple spatial analysis, and in the end save the results to disk.\\n'"
      ]
     },
     "execution_count": 6,
     "metadata": {},
     "output_type": "execute_result"
    }
   ],
   "source": [
    "\"\"\"\n",
    "In this block of exercises you follow the steps taken in the theory slides. \n",
    "You will open a vector data source, and extract its layer and features. \n",
    "You will also perform simple spatial analysis, and in the end save the results to disk.\n",
    "\"\"\""
   ]
  },
  {
   "cell_type": "code",
   "execution_count": 7,
   "metadata": {
    "collapsed": false,
    "jupyter": {
     "outputs_hidden": false
    }
   },
   "outputs": [
    {
     "data": {
      "text/plain": [
       "'\\nUsing the ogr library, open file NL_provinces.shp and print the following\\ninformation:\\n• Driver name\\n• Data source metadata\\n• Number of layers\\n\\n'"
      ]
     },
     "execution_count": 7,
     "metadata": {},
     "output_type": "execute_result"
    }
   ],
   "source": [
    "\"\"\"\n",
    "Using the ogr library, open file NL_provinces.shp and print the following\n",
    "information:\n",
    "• Driver name\n",
    "• Data source metadata\n",
    "• Number of layers\n",
    "\n",
    "\"\"\""
   ]
  },
  {
   "cell_type": "code",
   "execution_count": 4,
   "metadata": {
    "collapsed": false,
    "jupyter": {
     "outputs_hidden": false
    }
   },
   "outputs": [
    {
     "name": "stdout",
     "output_type": "stream",
     "text": [
      "Driver name: ESRI Shapefile\n",
      "Vector metadata: {}\n",
      "Number of layers: 1\n"
     ]
    }
   ],
   "source": [
    "from osgeo import ogr\n",
    "import os\n",
    "\n",
    "dataDirectory = datasource_folder_path\n",
    "\n",
    "# change to the data directory\n",
    "os.chdir(dataDirectory)\n",
    "\n",
    "datasource = ogr.Open(\"NL_provinces.shp\")\n",
    "\n",
    "# get driver\n",
    "driverType = datasource.GetDriver().GetName()\n",
    "print(\"Driver name: \" + driverType)\n",
    "\n",
    "# get metadata\n",
    "meta = datasource.GetMetadata()\n",
    "print(\"Vector metadata:\", meta)\n",
    "\n",
    "# get layer count\n",
    "layerCount = datasource.GetLayerCount()\n",
    "print(\"Number of layers:\", layerCount)\n"
   ]
  },
  {
   "cell_type": "code",
   "execution_count": 6,
   "metadata": {
    "collapsed": false,
    "jupyter": {
     "outputs_hidden": false
    }
   },
   "outputs": [
    {
     "name": "stdout",
     "output_type": "stream",
     "text": [
      "Driver name: ESRI Shapefile\n",
      "Vector metadata: {}\n",
      "Number of layers: 1\n"
     ]
    }
   ],
   "source": [
    "from osgeo import ogr \n",
    "import os\n",
    "\n",
    "# Explicitly enable exceptions\n",
    "ogr.UseExceptions()\n",
    "\n",
    "dataDirectory = datasource_folder_path \n",
    "\n",
    "os.chdir(dataDirectory)\n",
    "\n",
    "datasource = ogr.Open('NL_provinces.shp')\n",
    "driverType = datasource.GetDriver().GetName()\n",
    "print(\"Driver name: \" + driverType)\n",
    "\n",
    "meta = datasource.GetMetadata()\n",
    "print(\"Vector metadata:\", meta)\n",
    "\n",
    "# get layer count\n",
    "layerCount = datasource.GetLayerCount()\n",
    "print(\"Number of layers:\", layerCount)"
   ]
  },
  {
   "cell_type": "markdown",
   "metadata": {
    "collapsed": false,
    "jupyter": {
     "outputs_hidden": false
    },
    "nbgrader": {
     "grade": false,
     "grade_id": "2f95dd",
     "locked": true,
     "schema_version": 3,
     "solution": false,
     "task": false
    }
   },
   "source": [
    "## 10.2"
   ]
  },
  {
   "cell_type": "code",
   "execution_count": 10,
   "metadata": {
    "collapsed": false,
    "jupyter": {
     "outputs_hidden": false
    },
    "nbgrader": {
     "grade": true,
     "grade_id": "3c1a3b",
     "locked": false,
     "points": 5,
     "schema_version": 3,
     "solution": true,
     "task": false
    }
   },
   "outputs": [],
   "source": [
    "#\"\"\"Enter your answer here.\"\"\"\n",
    "### BEGIN SOLUTION\n",
    "\n",
    "### END SOLUTION"
   ]
  },
  {
   "cell_type": "code",
   "execution_count": 7,
   "metadata": {
    "collapsed": false,
    "jupyter": {
     "outputs_hidden": false
    }
   },
   "outputs": [
    {
     "name": "stdout",
     "output_type": "stream",
     "text": [
      "Number of fields: 4\n",
      "Attribute field: OBJECTID\n",
      "Attribute field: NAME_1\n",
      "Attribute field: HASC_1\n",
      "Attribute field: ENGTYPE_1\n",
      "\n",
      "x_min = 13895.64 x_max = 277998.54 y_min = 303925.34 y_max = 619270.21\n",
      "\n",
      "Number of features: 12\n",
      "\n",
      "Spatial Reference System (SRS): PROJCS[\"Amersfoort / RD New\",\n",
      "    GEOGCS[\"Amersfoort\",\n",
      "        DATUM[\"Amersfoort\",\n",
      "            SPHEROID[\"Bessel 1841\",6377397.155,299.1528128,\n",
      "                AUTHORITY[\"EPSG\",\"7004\"]],\n",
      "            AUTHORITY[\"EPSG\",\"6289\"]],\n",
      "        PRIMEM[\"Greenwich\",0,\n",
      "            AUTHORITY[\"EPSG\",\"8901\"]],\n",
      "        UNIT[\"degree\",0.0174532925199433,\n",
      "            AUTHORITY[\"EPSG\",\"9122\"]],\n",
      "        AUTHORITY[\"EPSG\",\"4289\"]],\n",
      "    PROJECTION[\"Oblique_Stereographic\"],\n",
      "    PARAMETER[\"latitude_of_origin\",52.1561605555556],\n",
      "    PARAMETER[\"central_meridian\",5.38763888888889],\n",
      "    PARAMETER[\"scale_factor\",0.9999079],\n",
      "    PARAMETER[\"false_easting\",155000],\n",
      "    PARAMETER[\"false_northing\",463000],\n",
      "    UNIT[\"metre\",1,\n",
      "        AUTHORITY[\"EPSG\",\"9001\"]],\n",
      "    AXIS[\"Easting\",EAST],\n",
      "    AXIS[\"Northing\",NORTH],\n",
      "    AUTHORITY[\"EPSG\",\"28992\"]]\n"
     ]
    }
   ],
   "source": [
    "\"\"\"\n",
    "With file NL_provinces . shp access the first layer data source using\n",
    ".GetLayer() and print the following information :\n",
    "The number of attribute table fields\n",
    "Iterate over the attribute table fields , and print all their names\n",
    "Layer extents\n",
    "Number of features\n",
    "Spatial reference system\n",
    "\n",
    "\"\"\"\n",
    "from osgeo import ogr\n",
    "import os\n",
    "\n",
    "dataDirectory = datasource_folder_path\n",
    "os.chdir(dataDirectory)\n",
    "\n",
    "datasource = ogr.Open(\"NL_provinces.shp\")\n",
    "layer = datasource.GetLayer(0)\n",
    "\n",
    "# get the first layer (shapefile has only 1 layer)\n",
    "# Layer definition/attribute table fields\n",
    "\n",
    "layerDefinition = layer.GetLayerDefn()\n",
    "fieldCount = layerDefinition.GetFieldCount()\n",
    "print('Number of fields:', fieldCount)\n",
    "\n",
    "for i in range(fieldCount):\n",
    "    print('Attribute field:', layerDefinition.GetFieldDefn(i).GetName())\n",
    "print()\n",
    "\n",
    "\n",
    "# Layer extents \n",
    "layerExtents = layer.GetExtent()\n",
    "print('x_min = %.2f x_max = %.2f y_min = %.2f y_max = %.2f' % \n",
    "      (layerExtents[0], layerExtents[1], layerExtents[2], layerExtents[3]))\n",
    "print()\n",
    "\n",
    "# Number of features\n",
    "layerFeatureNum = layer.GetFeatureCount()\n",
    "print('Number of features:', layerFeatureNum)\n",
    "print()\n",
    "\n",
    "# Spatial reference system\n",
    "layerSRS = layer.GetSpatialRef()\n",
    "print('Spatial Reference System (SRS):', layerSRS)"
   ]
  },
  {
   "cell_type": "markdown",
   "metadata": {
    "collapsed": false,
    "jupyter": {
     "outputs_hidden": false
    },
    "nbgrader": {
     "grade": false,
     "grade_id": "cf089f",
     "locked": true,
     "schema_version": 3,
     "solution": false,
     "task": false
    }
   },
   "source": [
    "## 10.3"
   ]
  },
  {
   "cell_type": "code",
   "execution_count": 12,
   "metadata": {
    "collapsed": false,
    "jupyter": {
     "outputs_hidden": false
    },
    "nbgrader": {
     "grade": true,
     "grade_id": "9f6f95",
     "locked": false,
     "points": 5,
     "schema_version": 3,
     "solution": true,
     "task": false
    }
   },
   "outputs": [],
   "source": [
    "#\"\"\"Enter your answer here.\"\"\"\n",
    "### BEGIN SOLUTION\n",
    "\n",
    "### END SOLUTION5"
   ]
  },
  {
   "cell_type": "code",
   "execution_count": 8,
   "metadata": {
    "collapsed": false,
    "jupyter": {
     "outputs_hidden": false
    }
   },
   "outputs": [
    {
     "name": "stdout",
     "output_type": "stream",
     "text": [
      "Iteration 0 feature NAME_1: Utrecht\n",
      "Iteration 1 feature NAME_1: Zeeland\n",
      "Iteration 2 feature NAME_1: Zuid-Holland\n",
      "Iteration 3 feature NAME_1: Drenthe\n",
      "Iteration 4 feature NAME_1: Flevoland\n",
      "Iteration 5 feature NAME_1: Friesland\n",
      "Iteration 6 feature NAME_1: Gelderland\n",
      "Iteration 7 feature NAME_1: Groningen\n",
      "Iteration 8 feature NAME_1: Limburg\n",
      "Iteration 9 feature NAME_1: Noord-Brabant\n",
      "Iteration 10 feature NAME_1: Noord-Holland\n",
      "Iteration 11 feature NAME_1: Overijssel\n"
     ]
    }
   ],
   "source": [
    "\"\"\"\n",
    "Iterate over the features , and print their value for the\n",
    "field NAME_1 . You can access such value with the command\n",
    ". GetFieldAsString () method inside the loop .\n",
    "\"\"\"\n",
    "\n",
    "from osgeo import ogr\n",
    "import os\n",
    "\n",
    "dataDirectory = datasource_folder_path\n",
    "os.chdir(dataDirectory)\n",
    "\n",
    "datasource = ogr.Open(\"NL_provinces.shp\")\n",
    "layer = datasource.GetLayer(0)\n",
    "\n",
    "# get the first layer (shapefile has only 1 layer)\n",
    "    \n",
    "for i in range (layer.GetFeatureCount()):\n",
    "    feature = layer.GetFeature(i)\n",
    "    nameFeature = feature.GetFieldAsString('NAME_1')\n",
    "    print('Iteration', i, 'feature NAME_1:', nameFeature)\n",
    "    \n",
    "# the entire loop is going through each feature in the dataset, \n",
    "# getting the name of that feature, and printing it out along with the iteration number."
   ]
  },
  {
   "cell_type": "code",
   "execution_count": 9,
   "metadata": {},
   "outputs": [
    {
     "name": "stdout",
     "output_type": "stream",
     "text": [
      "Iteration 0 feature NAME_1: NL.UT\n",
      "Iteration 1 feature NAME_1: NL.ZE\n",
      "Iteration 2 feature NAME_1: NL.ZH\n",
      "Iteration 3 feature NAME_1: NL.DR\n",
      "Iteration 4 feature NAME_1: NL.FL\n",
      "Iteration 5 feature NAME_1: NL.FR\n",
      "Iteration 6 feature NAME_1: NL.GE\n",
      "Iteration 7 feature NAME_1: NL.GR\n",
      "Iteration 8 feature NAME_1: NL.LI\n",
      "Iteration 9 feature NAME_1: NL.NB\n",
      "Iteration 10 feature NAME_1: NL.NH\n",
      "Iteration 11 feature NAME_1: NL.OV\n"
     ]
    }
   ],
   "source": [
    "from osgeo import ogr\n",
    "import os\n",
    "\n",
    "dataDirectory = datasource_folder_path\n",
    "os.chdir(dataDirectory)\n",
    "\n",
    "datasource = ogr.Open(\"NL_provinces.shp\")\n",
    "layer = datasource.GetLayer(0)\n",
    "\n",
    "# get the first layer (shapefile has only 1 layer)\n",
    "    \n",
    "for i in range (layer.GetFeatureCount()):\n",
    "    feature = layer.GetFeature(i)\n",
    "    nameFeature = feature.GetFieldAsString('HASC_1')\n",
    "    print('Iteration', i, 'feature NAME_1:', nameFeature)"
   ]
  },
  {
   "attachments": {},
   "cell_type": "markdown",
   "metadata": {
    "collapsed": false,
    "jupyter": {
     "outputs_hidden": false
    },
    "nbgrader": {
     "grade": false,
     "grade_id": "675a79",
     "locked": true,
     "schema_version": 3,
     "solution": false,
     "task": false
    }
   },
   "source": [
    "## 10.4"
   ]
  },
  {
   "cell_type": "code",
   "execution_count": 14,
   "metadata": {
    "collapsed": false,
    "jupyter": {
     "outputs_hidden": false
    },
    "nbgrader": {
     "grade": true,
     "grade_id": "1d3ef4",
     "locked": false,
     "points": 5,
     "schema_version": 3,
     "solution": true,
     "task": false
    }
   },
   "outputs": [],
   "source": [
    "#\"\"\"Enter your answer here.\"\"\"\n",
    "### BEGIN SOLUTION\n",
    "\n",
    "### END SOLUTION"
   ]
  },
  {
   "cell_type": "code",
   "execution_count": 10,
   "metadata": {
    "collapsed": false,
    "jupyter": {
     "outputs_hidden": false
    }
   },
   "outputs": [
    {
     "name": "stdout",
     "output_type": "stream",
     "text": [
      "Name_1 for selected feature: Overijssel\n",
      "Type of Geometry: POLYGON\n",
      "Area is: 3372864375\n",
      "Feature extent: x_min=181922.20  x_max=269798.68  y_min=459839.00  y_max=540983.45\n"
     ]
    }
   ],
   "source": [
    "\"\"\"\n",
    "With a filter on the layer, using the method .SetAttributeFilter(), extract\n",
    "the feature for the province of Overijssel (mark correct spelling) and print the\n",
    "following for this feature:\n",
    "• NAME_1 value\n",
    "• Type of geometry\n",
    "• Geometry in well-known text format\n",
    "• Area\n",
    "• Extent\n",
    "\"\"\"\n",
    "\n",
    "from osgeo import ogr\n",
    "import os\n",
    "\n",
    "dataDirectory = datasource_folder_path\n",
    "os.chdir(dataDirectory)\n",
    "\n",
    "datasource = ogr.Open(\"NL_provinces.shp\")\n",
    "layer = datasource.GetLayer(0)\n",
    "\n",
    "layer.SetAttributeFilter(\"NAME_1 = 'Overijssel'\")\n",
    "for feature in layer:\n",
    "    OverijsselFeature = feature  # extract into a variable\n",
    "\n",
    "    # NAME_1 field value\n",
    "    name = OverijsselFeature.GetField('NAME_1')\n",
    "    print('Name_1 for selected feature:', name)\n",
    "\n",
    "    # Type of geometry\n",
    "    OverijsselGeometry = OverijsselFeature.GetGeometryRef()  # extract the geometry\n",
    "    print('Type of Geometry:', OverijsselGeometry.GetGeometryName())\n",
    "\n",
    "    # Area\n",
    "    area = OverijsselGeometry.Area()  # get the area in projection units\n",
    "    print('Area is: %.0f' % area)\n",
    "\n",
    "    # Feature extents\n",
    "    env = OverijsselGeometry.GetEnvelope()  # get the envelope (bbox)\n",
    "    print(\"Feature extent: x_min=%.2f  x_max=%.2f  y_min=%.2f  y_max=%.2f\" % (env[0], env[1], env[2], env[3]))\n",
    "    \n",
    "    # Geometry in WKT\n",
    "    #print('Buffer Geometry WKT:', OverijsselGeometry.ExportToWkt())  # geometry"
   ]
  },
  {
   "attachments": {},
   "cell_type": "markdown",
   "metadata": {
    "collapsed": false,
    "jupyter": {
     "outputs_hidden": false
    }
   },
   "source": [
    "## 10.5\n",
    "\n"
   ]
  },
  {
   "cell_type": "code",
   "execution_count": 16,
   "metadata": {
    "collapsed": false,
    "jupyter": {
     "outputs_hidden": false
    },
    "nbgrader": {
     "grade": true,
     "grade_id": "8f22cc",
     "locked": false,
     "points": 5,
     "schema_version": 3,
     "solution": true,
     "task": false
    }
   },
   "outputs": [],
   "source": [
    "#\"\"\"Enter your answer here.\"\"\"\n",
    "### BEGIN SOLUTION\n",
    "\n",
    "### END SOLUTION"
   ]
  },
  {
   "cell_type": "code",
   "execution_count": 11,
   "metadata": {
    "collapsed": false,
    "jupyter": {
     "outputs_hidden": false
    },
    "scrolled": true
   },
   "outputs": [
    {
     "name": "stdout",
     "output_type": "stream",
     "text": [
      "Buffer Geometry WKT: POLYGON ((180018.951756548 530899.844476256,179907.317339296 531016.137172313,179721.850533896 531220.331139595,179547.92706953 531434.442654286,179386.076321307 531657.820019924,179236.790918312 531889.783337352,178634.635790974 532884.704241152,178502.970956212 533115.92295644,178383.792658313 533353.818429963,178277.438399361 533597.716963406,178184.209364933 533846.927858337,178104.369571162 534100.7453722,178038.145117071 534358.450716912,177985.723544285 534619.314094409,177947.253305921 5\n",
      "\n",
      "Buffer Geometry Json: { \"type\": \"Polygon\", \"coordinates\": [ [ [ 180018.951756548311096, 530899.844476255704649 ], [ 179907.31733929621987, 531016.137172313407063 ], [ 179721.850533895601984, 531220.33113959536422 ], [ 179547.927069530065637, 531434.44265428557992 ], [ 179386.076321307045873, 531657.820019923849031 ], [ 179236.79091831218102, 531889.783337352448143 ], [ 178634.63579097436741, 532884.704241151921451 ], [ 178502.970956211851444, 533115.922956440481357 ], [ 178383.792658312537242, 533353.818429963197559 \n"
     ]
    }
   ],
   "source": [
    "\"\"\"\n",
    "Access the feature geometry of Overijssel province and then create a buffer of\n",
    "5,000 meters for this province. Print its geometry in WKT and also as a JSON object.\n",
    "\"\"\"\n",
    "\n",
    "from osgeo import ogr\n",
    "import os\n",
    "\n",
    "dataDirectory = datasource_folder_path\n",
    "os.chdir(dataDirectory)\n",
    "\n",
    "datasource = ogr.Open(\"NL_provinces.shp\")\n",
    "layer = datasource.GetLayer(0)\n",
    "\n",
    "layer.SetAttributeFilter(\"NAME_1 = 'Overijssel'\")\n",
    "\n",
    "for feature in layer:\n",
    "    OverijsselFeature = feature  # extract into a variable\n",
    "    OverijsselGeometry = OverijsselFeature.GetGeometryRef()  # extract the geometry\n",
    "\n",
    "    # Create a buffer of 5000 m\n",
    "    OverijsselBuffer = OverijsselGeometry.Buffer(5000)\n",
    "\n",
    "    # Geometry in WKT\n",
    "    print('Buffer Geometry WKT:', OverijsselBuffer.ExportToWkt()[:500])\n",
    "    print()\n",
    "    # Geometry as text\n",
    "    print('Buffer Geometry Json:', OverijsselBuffer.ExportToJson()[:500])"
   ]
  },
  {
   "cell_type": "markdown",
   "metadata": {
    "collapsed": false,
    "jupyter": {
     "outputs_hidden": false
    },
    "nbgrader": {
     "grade": false,
     "grade_id": "4469a9",
     "locked": true,
     "schema_version": 3,
     "solution": false,
     "task": false
    }
   },
   "source": [
    "## 10.6"
   ]
  },
  {
   "cell_type": "code",
   "execution_count": 18,
   "metadata": {
    "collapsed": false,
    "jupyter": {
     "outputs_hidden": false
    },
    "nbgrader": {
     "grade": true,
     "grade_id": "1738fc",
     "locked": false,
     "points": 5,
     "schema_version": 3,
     "solution": true,
     "task": false
    }
   },
   "outputs": [],
   "source": [
    "#\"\"\"Enter your answer here.\"\"\"\n",
    "### BEGIN SOLUTION\n",
    "\n",
    "### END SOLUTION"
   ]
  },
  {
   "cell_type": "code",
   "execution_count": 19,
   "metadata": {
    "collapsed": false,
    "jupyter": {
     "outputs_hidden": false
    }
   },
   "outputs": [
    {
     "data": {
      "text/plain": [
       "' Save the calculated buffer as a new shapefile, and name it properly. \\nNext, open it in either QGis or ArcGis. Perform a visual inspection.\\n'"
      ]
     },
     "execution_count": 19,
     "metadata": {},
     "output_type": "execute_result"
    }
   ],
   "source": [
    "\"\"\" Save the calculated buffer as a new shapefile, and name it properly. \n",
    "Next, open it in either QGis or ArcGis. Perform a visual inspection.\n",
    "\"\"\""
   ]
  },
  {
   "cell_type": "code",
   "execution_count": 19,
   "metadata": {
    "collapsed": false,
    "jupyter": {
     "outputs_hidden": false
    }
   },
   "outputs": [],
   "source": [
    "from osgeo import osr\n",
    "from osgeo import ogr\n",
    "\n",
    "# Steps;\n",
    "# 1. Define driver (file type) --- ogr.GetDriverByName\n",
    "# 2. Create data source ---------- driver.CreateDataSource\n",
    "# 3. Create SRS ----------------- srs = osr.SpatialReference() / srs.ImportFromEPSG(28992)\n",
    "# 4. Add fields in attribute table and we can create new one  ---- \n",
    "#    ogr.FieldDefn / field_name.SetWidth(24)/ layer.CreateField(field_name)\n",
    "# 5. Create and close the file. \n",
    "\n",
    "\n",
    "\n",
    "# Set up the shapefile driver\n",
    "driver = ogr.GetDriverByName(\"ESRI Shapefile\")\n",
    "\n",
    "# Create the data source\n",
    "data_source = driver.CreateDataSource(\"OverijsselBuffer.shp\")\n",
    "\n",
    "# Create the spatial reference, EPSG 28992\n",
    "srs = osr.SpatialReference()\n",
    "srs.ImportFromEPSG(28992)\n",
    "\n",
    "# Create the layer\n",
    "layer = data_source.CreateLayer(\"province_buffer\", srs, ogr.wkbPolygon)\n",
    "\n",
    "# Add fields and create one field called Name\n",
    "field_name = ogr.FieldDefn(\"Name\", ogr.OFTString)\n",
    "field_name.SetWidth(24)\n",
    "layer.CreateField(field_name)\n",
    "\n",
    "# Add one more field called Area with type real\n",
    "field_area = ogr.FieldDefn(\"Area\", ogr.OFTReal)\n",
    "field_area.SetWidth(32)\n",
    "field_area.SetPrecision(2)  # Added line to set precision\n",
    "layer.CreateField(field_area)\n",
    "\n",
    "feature = ogr.Feature(layer.GetLayerDefn())\n",
    "feature.SetField(\"Name\", 'Overijssel Buffer')\n",
    "feature.SetField(\"Area\", OverijsselBuffer.Area())\n",
    "feature.SetGeometry(OverijsselBuffer)\n",
    "layer.CreateFeature(feature)\n",
    "\n",
    "feature = None  # Dereference the feature\n",
    "data_source = None  # Save and close the data source\n"
   ]
  },
  {
   "cell_type": "markdown",
   "metadata": {
    "collapsed": false,
    "jupyter": {
     "outputs_hidden": false
    },
    "nbgrader": {
     "grade": false,
     "grade_id": "a9aaaa",
     "locked": true,
     "schema_version": 3,
     "solution": false,
     "task": false
    }
   },
   "source": [
    "## 10.7"
   ]
  },
  {
   "cell_type": "code",
   "execution_count": 21,
   "metadata": {
    "collapsed": false,
    "jupyter": {
     "outputs_hidden": false
    },
    "nbgrader": {
     "grade": true,
     "grade_id": "c3f4b3",
     "locked": false,
     "points": 5,
     "schema_version": 3,
     "solution": true,
     "task": false
    }
   },
   "outputs": [],
   "source": [
    "#\"\"\"Enter your answer here.\"\"\"\n",
    "### BEGIN SOLUTION\n",
    "\n",
    "### END SOLUTION"
   ]
  },
  {
   "cell_type": "code",
   "execution_count": 21,
   "metadata": {
    "collapsed": false,
    "jupyter": {
     "outputs_hidden": false
    }
   },
   "outputs": [
    {
     "data": {
      "text/plain": [
       "'C:\\\\Users\\\\Zako3\\\\Downloads\\\\Handouts\\\\exercise_data_vector'"
      ]
     },
     "execution_count": 21,
     "metadata": {},
     "output_type": "execute_result"
    }
   ],
   "source": [
    "\"\"\"\n",
    "Extract the feature geometry of Drenthe province, and with the previous buffer\n",
    "from the Overijssel geometry, check whether this it intersects Drenthe. \n",
    "If they do, calculate the intersection geometry, and save it too as a new shapefile. \n",
    "Open the shapefile in QGis or ArcGis. Perform a visual inspection again.\n",
    "\n",
    "\"\"\"\n",
    "\n",
    "from osgeo import ogr\n",
    "import os\n",
    "\n",
    "dataDirectory = datasource_folder_path\n",
    "os.chdir(dataDirectory)\n",
    "\n",
    "datasource = ogr.Open(\"NL_provinces.shp\")\n",
    "layer = datasource.GetLayer(0)\n",
    "layer.SetAttributeFilter(\"NAME_1 = 'Overijssel'\")\n",
    "\n",
    "dataDirectory"
   ]
  },
  {
   "cell_type": "code",
   "execution_count": 12,
   "metadata": {
    "collapsed": false,
    "jupyter": {
     "outputs_hidden": false
    }
   },
   "outputs": [
    {
     "name": "stdout",
     "output_type": "stream",
     "text": [
      "Geometry WKT: POLYGON ((209012.779188867 543833.359551189,209199.838749011 543637.291174885,209376.001074768 543431.376332749,209540.748713353 543216.21987152,209693.597741069 542992.453783931,209834.09918476 542760.73535232,209961.840340618 542521.745217946,210002.237894689 542435.187381361,210547.266291181 541811.033726958,210566.31470101 541792.176745845,210572.40512794 541786.137173026,210655.802642881 541703.294018251,210711.844758537 541647.750393761,211022.151417984 541339.822050814,211195.213441775 54\n"
     ]
    }
   ],
   "source": [
    "for feature in layer:\n",
    "    OverijsselFeature = feature  # Extract into a variable\n",
    "    OverijsselGeometry = OverijsselFeature.GetGeometryRef()\n",
    "\n",
    "    # Create a buffer of 5000 m\n",
    "    OverijsselBuffer = OverijsselGeometry.Buffer(5000)\n",
    "\n",
    "    # Get feature’s geometry for Drenthe\n",
    "    layer.SetAttributeFilter(\"NAME_1 = 'Drenthe'\")\n",
    "    for feature in layer:\n",
    "        DrentheFeature = feature  # Extract into a variable\n",
    "        DrentheGeometry = DrentheFeature.GetGeometryRef()\n",
    "\n",
    "        # Check if Overijssel buffer intersects with Drenthe geometry\n",
    "        if OverijsselBuffer.Intersects(DrentheGeometry):\n",
    "            DOIntersection = OverijsselBuffer.Intersection(DrentheGeometry)\n",
    "\n",
    "            # Calculate intersection geometry\n",
    "            print('Geometry WKT: ' + DOIntersection.ExportToWkt()[:500])\n",
    "\n",
    "            # Save intersection as shp\n",
    "            from osgeo import osr\n",
    "\n",
    "            # Set up the shapefile driver\n",
    "            driver = ogr.GetDriverByName(\"ESRI Shapefile\")\n",
    "\n",
    "            # Create the data source\n",
    "            data_source = driver.CreateDataSource(\"DOIntersection.shp\")\n",
    "\n",
    "            # Create the spatial reference, EPSG 28992\n",
    "            srs = osr.SpatialReference()\n",
    "            srs.ImportFromEPSG(28992)\n",
    "\n",
    "            # Create the layer\n",
    "            layer = data_source.CreateLayer(\"DOIntersection\", srs, ogr.wkbPolygon)\n",
    "\n",
    "            # Add fields and create one field called Name\n",
    "            field_name = ogr.FieldDefn(\"Name\", ogr.OFTString)\n",
    "            field_name.SetWidth(24)\n",
    "            layer.CreateField(field_name)\n",
    "\n",
    "            # Add one more field called Area with type real\n",
    "            field_area = ogr.FieldDefn(\"Area\", ogr.OFTReal)\n",
    "            field_area.SetWidth(32)\n",
    "            field_area.SetPrecision(2)  # Added line to set precision\n",
    "            layer.CreateField(field_area)\n",
    "\n",
    "            feature = ogr.Feature(layer.GetLayerDefn())\n",
    "            feature.SetField(\"Name\", 'DO Intersection')\n",
    "            feature.SetField(\"Area\", DOIntersection.Area())\n",
    "            feature.SetGeometry(DOIntersection)\n",
    "            layer.CreateFeature(feature)\n",
    "\n",
    "            feature = None  # Dereference the feature\n",
    "            data_source = None  # Save and close the data source"
   ]
  },
  {
   "cell_type": "markdown",
   "metadata": {
    "collapsed": false,
    "jupyter": {
     "outputs_hidden": false
    }
   },
   "source": [
    "## Calculation of distances between vector features\n",
    "\n",
    "## Exercise 10.8, 10.9, 10.10, 10.11\n",
    "\n",
    "## Advanced Vector Spatial Analysis using OGR\n"
   ]
  },
  {
   "cell_type": "markdown",
   "metadata": {},
   "source": [
    "In the next exercises, you will learn to perform a basic operation in the field of\n",
    "GIS: the distance between a point and a polygon. \n",
    "\n",
    "For this purpose, you will use\n",
    "the vector feature located in the island of Texel, the westernmost of the Wadden\n",
    "Islands along the northern coast of The Netherlands."
   ]
  },
  {
   "cell_type": "markdown",
   "metadata": {
    "collapsed": false,
    "jupyter": {
     "outputs_hidden": false
    },
    "nbgrader": {
     "grade": false,
     "grade_id": "79c831",
     "locked": true,
     "schema_version": 3,
     "solution": false,
     "task": false
    }
   },
   "source": [
    "## 10.8"
   ]
  },
  {
   "cell_type": "code",
   "execution_count": 9,
   "metadata": {
    "collapsed": false,
    "jupyter": {
     "outputs_hidden": false
    },
    "nbgrader": {
     "grade": true,
     "grade_id": "98962e",
     "locked": false,
     "points": 5,
     "schema_version": 3,
     "solution": true,
     "task": false
    }
   },
   "outputs": [
    {
     "data": {
      "text/plain": [
       "'Enter your answer here.'"
      ]
     },
     "execution_count": 9,
     "metadata": {},
     "output_type": "execute_result"
    }
   ],
   "source": [
    "\"\"\"Enter your answer here.\"\"\"\n",
    "### BEGIN SOLUTION\n",
    "\n",
    "### END SOLUTION"
   ]
  },
  {
   "cell_type": "code",
   "execution_count": 24,
   "metadata": {
    "collapsed": false,
    "jupyter": {
     "outputs_hidden": false
    }
   },
   "outputs": [
    {
     "data": {
      "text/plain": [
       "'\\nOpen two datasets ( Texel_Polygons .shp and Texel_Points .shp)\\nprint their respective number of features and spatial reference\\nidentifiers\\n'"
      ]
     },
     "execution_count": 24,
     "metadata": {},
     "output_type": "execute_result"
    }
   ],
   "source": [
    "\"\"\" \n",
    "In the next exercises, you will learn to perform a basic operation in the field of\n",
    "GIS: the distance between a point and a polygon. For this purpose, you will use\n",
    "the vector feature located in the island of Texel, the westernmost of the Wadden\n",
    "Islands along the northern coast of The Netherlands.\n",
    "\"\"\"\n",
    "\n",
    "\"\"\"\n",
    "Open two datasets ( Texel_Polygons .shp and Texel_Points .shp)\n",
    "print their respective number of features and spatial reference\n",
    "identifiers\n",
    "\"\"\"\n"
   ]
  },
  {
   "cell_type": "code",
   "execution_count": 13,
   "metadata": {
    "collapsed": false,
    "jupyter": {
     "outputs_hidden": false
    }
   },
   "outputs": [
    {
     "name": "stdout",
     "output_type": "stream",
     "text": [
      "Point Features - Number of features: 179\n",
      "Point Features - Coordinate system is: PROJCS[\"Amersfoort / RD New\",\n",
      "    GEOGCS[\"Amersfoort\",\n",
      "        DATUM[\"Amersfoort\",\n",
      "            SPHEROID[\"Bessel 1841\",6377397.155,299.1528128,\n",
      "                AUTHORITY[\"EPSG\",\"7004\"]],\n",
      "            AUTHORITY[\"EPSG\",\"6289\"]],\n",
      "        PRIMEM[\"Greenwich\",0,\n",
      "            AUTHORITY[\"EPSG\",\"8901\"]],\n",
      "        UNIT[\"degree\",0.0174532925199433,\n",
      "            AUTHORITY[\"EPSG\",\"9122\"]],\n",
      "        AUTHORITY[\"EPSG\",\"4289\"]],\n",
      "    PROJECTION[\"Oblique_Stereographic\"],\n",
      "    PARAMETER[\"latitude_of_origin\",52.1561605555556],\n",
      "    PARAMETER[\"central_meridian\",5.38763888888889],\n",
      "    PARAMETER[\"scale_factor\",0.9999079],\n",
      "    PARAMETER[\"false_easting\",155000],\n",
      "    PARAMETER[\"false_northing\",463000],\n",
      "    UNIT[\"metre\",1,\n",
      "        AUTHORITY[\"EPSG\",\"9001\"]],\n",
      "    AXIS[\"Easting\",EAST],\n",
      "    AXIS[\"Northing\",NORTH],\n",
      "    AUTHORITY[\"EPSG\",\"28992\"]]\n",
      "\n",
      "Polygon Features - Number of features: 3\n",
      "Polygon Features - Coordinate system is: PROJCS[\"Amersfoort / RD New\",\n",
      "    GEOGCS[\"Amersfoort\",\n",
      "        DATUM[\"Amersfoort\",\n",
      "            SPHEROID[\"Bessel 1841\",6377397.155,299.1528128,\n",
      "                AUTHORITY[\"EPSG\",\"7004\"]],\n",
      "            AUTHORITY[\"EPSG\",\"6289\"]],\n",
      "        PRIMEM[\"Greenwich\",0,\n",
      "            AUTHORITY[\"EPSG\",\"8901\"]],\n",
      "        UNIT[\"degree\",0.0174532925199433,\n",
      "            AUTHORITY[\"EPSG\",\"9122\"]],\n",
      "        AUTHORITY[\"EPSG\",\"4289\"]],\n",
      "    PROJECTION[\"Oblique_Stereographic\"],\n",
      "    PARAMETER[\"latitude_of_origin\",52.1561605555556],\n",
      "    PARAMETER[\"central_meridian\",5.38763888888889],\n",
      "    PARAMETER[\"scale_factor\",0.9999079],\n",
      "    PARAMETER[\"false_easting\",155000],\n",
      "    PARAMETER[\"false_northing\",463000],\n",
      "    UNIT[\"metre\",1,\n",
      "        AUTHORITY[\"EPSG\",\"9001\"]],\n",
      "    AXIS[\"Easting\",EAST],\n",
      "    AXIS[\"Northing\",NORTH],\n",
      "    AUTHORITY[\"EPSG\",\"28992\"]]\n"
     ]
    }
   ],
   "source": [
    "from osgeo import ogr\n",
    "import os\n",
    "\n",
    "dataDirectory = r\"C:\\Users\\Zako3\\Downloads\\Handouts\\exercise_data_vector\"\n",
    "\n",
    "os.chdir(dataDirectory)\n",
    "\n",
    "PointsDataset = ogr.Open(\"Texel_Points.shp\")\n",
    "PolygonsDataset = ogr.Open(\"Texel_Polygons.shp\")\n",
    "\n",
    "# Get layer\n",
    "PointsLayer = PointsDataset.GetLayer(0)\n",
    "PolygonsLayer = PolygonsDataset.GetLayer(0)\n",
    "\n",
    "# Point features Count and CRS\n",
    "print('Point Features - Number of features:', PointsLayer.GetFeatureCount())\n",
    "print('Point Features - Coordinate system is:', PointsLayer.GetSpatialRef())\n",
    "print()\n",
    "# Polygon features Count and CRS\n",
    "print('Polygon Features - Number of features:', PolygonsLayer.GetFeatureCount())\n",
    "print('Polygon Features - Coordinate system is:', PolygonsLayer.GetSpatialRef())\n"
   ]
  },
  {
   "cell_type": "markdown",
   "metadata": {
    "collapsed": false,
    "jupyter": {
     "outputs_hidden": false
    },
    "nbgrader": {
     "grade": false,
     "grade_id": "680f251",
     "locked": true,
     "schema_version": 3,
     "solution": false,
     "task": false
    }
   },
   "source": [
    "## 10.9"
   ]
  },
  {
   "cell_type": "code",
   "execution_count": 26,
   "metadata": {
    "collapsed": false,
    "jupyter": {
     "outputs_hidden": false
    },
    "nbgrader": {
     "grade": true,
     "grade_id": "63260f0",
     "locked": true,
     "points": 5,
     "schema_version": 3,
     "solution": false,
     "task": false
    }
   },
   "outputs": [],
   "source": [
    "#\"\"\"Enter your answer here.\"\"\"\n",
    "### BEGIN SOLUTION\n",
    "\n",
    "### END SOLUTION"
   ]
  },
  {
   "cell_type": "code",
   "execution_count": 28,
   "metadata": {
    "collapsed": false,
    "jupyter": {
     "outputs_hidden": false
    }
   },
   "outputs": [
    {
     "data": {
      "text/plain": [
       "' Fetch the 25 th point feature and the 2nd polygon feature from the\\nvector layers and then print their geometry .\\nCalculate the distance between the point and polygon features\\n'"
      ]
     },
     "execution_count": 28,
     "metadata": {},
     "output_type": "execute_result"
    }
   ],
   "source": [
    "\"\"\" Fetch the 25 th point feature and the 2nd polygon feature from the\n",
    "vector layers and then print their geometry .\n",
    "Calculate the distance between the point and polygon features\n",
    "\"\"\""
   ]
  },
  {
   "cell_type": "code",
   "execution_count": 14,
   "metadata": {
    "collapsed": false,
    "jupyter": {
     "outputs_hidden": false
    }
   },
   "outputs": [
    {
     "name": "stdout",
     "output_type": "stream",
     "text": [
      "POINT (113190.111104601 558511.26265893)\n",
      "3766\n"
     ]
    }
   ],
   "source": [
    "# Get 25th point Feature and Geometry\n",
    "PointsFeature = PointsLayer.GetFeature(24)\n",
    "PointsGeometry = PointsFeature.GetGeometryRef()\n",
    "\n",
    "# Get 2nd polygon Feature and Geometry\n",
    "PolygonsFeature = PolygonsLayer.GetFeature(1)\n",
    "PolygonsGeometry = PolygonsFeature.GetGeometryRef()\n",
    "\n",
    "# Print both geometries\n",
    "print(PointsGeometry)\n",
    "#print(PolygonsGeometry)\n",
    "\n",
    "# Calculate distance\n",
    "Distance = PointsGeometry.Distance(PolygonsGeometry)\n",
    "print('%.0f' % Distance)\n"
   ]
  },
  {
   "cell_type": "markdown",
   "metadata": {
    "collapsed": false,
    "jupyter": {
     "outputs_hidden": false
    },
    "nbgrader": {
     "grade": false,
     "grade_id": "680f25",
     "locked": true,
     "schema_version": 3,
     "solution": false,
     "task": false
    }
   },
   "source": [
    "## 10.10"
   ]
  },
  {
   "cell_type": "code",
   "execution_count": 27,
   "metadata": {
    "collapsed": false,
    "jupyter": {
     "outputs_hidden": false
    },
    "nbgrader": {
     "grade": true,
     "grade_id": "63260f1",
     "locked": true,
     "points": 5,
     "schema_version": 3,
     "solution": false,
     "task": false
    }
   },
   "outputs": [],
   "source": [
    "#\"\"\"Enter your answer here.\"\"\"\n",
    "### BEGIN SOLUTION\n",
    "\n",
    "### END SOLUTION\n",
    "\n",
    "# Use a for loop to iterate over the polygon layer and print field\n",
    "# 'Hoofdgroep' ( Main group .)"
   ]
  },
  {
   "cell_type": "code",
   "execution_count": 15,
   "metadata": {
    "collapsed": false,
    "jupyter": {
     "outputs_hidden": false
    }
   },
   "outputs": [
    {
     "name": "stdout",
     "output_type": "stream",
     "text": [
      "Bebouwd\n",
      "Bos\n",
      "Recreatie\n"
     ]
    }
   ],
   "source": [
    "from osgeo import ogr\n",
    "import os\n",
    "\n",
    "dataDirectory = r\"C:\\Users\\Zako3\\Downloads\\Handouts\\exercise_data_vector\"\n",
    "\n",
    "os.chdir(dataDirectory)\n",
    "# Change data directory\n",
    "os.chdir(dataDirectory)\n",
    "PolygonsDataset = ogr.Open(\"Texel_Polygons.shp\")\n",
    "\n",
    "# Get layer\n",
    "PolygonsLayer = PolygonsDataset.GetLayer(0)\n",
    "\n",
    "for feature in PolygonsLayer:\n",
    "    print(feature.GetField('Hoofdgroep'))"
   ]
  },
  {
   "cell_type": "markdown",
   "metadata": {
    "collapsed": false,
    "jupyter": {
     "outputs_hidden": false
    },
    "nbgrader": {
     "grade": false,
     "grade_id": "680f250",
     "locked": true,
     "schema_version": 3,
     "solution": false,
     "task": false
    }
   },
   "source": [
    "## 10.11"
   ]
  },
  {
   "cell_type": "code",
   "execution_count": 36,
   "metadata": {
    "collapsed": false,
    "jupyter": {
     "outputs_hidden": false
    },
    "nbgrader": {
     "grade": true,
     "grade_id": "63260f",
     "locked": true,
     "points": 5,
     "schema_version": 3,
     "solution": false,
     "task": false
    }
   },
   "outputs": [
    {
     "data": {
      "text/plain": [
       "' Using the 25 th point used in Exercise 9, calculate distances between\\nthis point and each land use feature on the island of Texel \\n'"
      ]
     },
     "execution_count": 36,
     "metadata": {},
     "output_type": "execute_result"
    }
   ],
   "source": [
    "#\"\"\"Enter your answer here.\"\"\"\n",
    "### BEGIN SOLUTION\n",
    "\n",
    "### END SOLUTION\n",
    "\n",
    "\"\"\" Using the 25 th point used in Exercise 9, calculate distances between\n",
    "this point and each land use feature on the island of Texel \n",
    "\"\"\""
   ]
  },
  {
   "cell_type": "code",
   "execution_count": 16,
   "metadata": {
    "collapsed": false,
    "jupyter": {
     "outputs_hidden": false
    }
   },
   "outputs": [
    {
     "name": "stdout",
     "output_type": "stream",
     "text": [
      "Bebouwd\n",
      "4621\n",
      "\n",
      "Bos\n",
      "3766\n",
      "\n",
      "Recreatie\n",
      "16141\n",
      "\n"
     ]
    }
   ],
   "source": [
    "from osgeo import ogr\n",
    "import os\n",
    "\n",
    "dataDirectory = r\"C:\\Users\\Zako3\\Downloads\\Handouts\\exercise_data_vector\"\n",
    "\n",
    "os.chdir(dataDirectory)\n",
    "\n",
    "PointsDataset = ogr.Open(\"Texel_Points.shp\")\n",
    "PolygonsDataset = ogr.Open(\"Texel_Polygons.shp\")\n",
    "\n",
    "# Get layer\n",
    "PointsLayer = PointsDataset.GetLayer(0)\n",
    "PolygonsLayer = PolygonsDataset.GetLayer(0)\n",
    "\n",
    "# Get 25th point Feature and Geometry\n",
    "PointsFeature = PointsLayer.GetFeature(24)\n",
    "PointsGeometry = PointsFeature.GetGeometryRef()\n",
    "\n",
    "for feature in PolygonsLayer:\n",
    "    print(feature.GetField('Hoofdgroep'))\n",
    "    HoofdgroepGeometry = feature.GetGeometryRef()\n",
    "    Distance = PointsGeometry.Distance(HoofdgroepGeometry)\n",
    "    print('%.0f' % Distance)\n",
    "    print()\n"
   ]
  },
  {
   "cell_type": "code",
   "execution_count": null,
   "metadata": {},
   "outputs": [],
   "source": []
  }
 ],
 "metadata": {
  "kernelspec": {
   "display_name": "Python 3 (ipykernel)",
   "language": "python",
   "name": "python3"
  },
  "language_info": {
   "codemirror_mode": {
    "name": "ipython",
    "version": 3
   },
   "file_extension": ".py",
   "mimetype": "text/x-python",
   "name": "python",
   "nbconvert_exporter": "python",
   "pygments_lexer": "ipython3",
   "version": "3.11.5"
  },
  "nbgrader": {
   "__altered": false,
   "__hash": -335098374,
   "_root": {
    "entries": [
     [
      "cocalc_minimal_stubs",
      false
     ]
    ],
    "ownerID": {}
   },
   "cocalc_minimal_stubs": false,
   "size": 1
  }
 },
 "nbformat": 4,
 "nbformat_minor": 4
}
