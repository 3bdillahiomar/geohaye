{
 "cells": [
  {
   "cell_type": "markdown",
   "metadata": {
    "collapsed": false,
    "deletable": false,
    "editable": false,
    "jupyter": {
     "outputs_hidden": false
    },
    "nbgrader": {
     "grade": false,
     "grade_id": "c90dee",
     "locked": true,
     "schema_version": 3,
     "solution": false,
     "task": false
    }
   },
   "source": [
    "# OGR for Vector Processing: In\\-class live coding and exercises\n",
    "\n"
   ]
  },
  {
   "cell_type": "markdown",
   "metadata": {
    "collapsed": false,
    "deletable": false,
    "editable": false,
    "jupyter": {
     "outputs_hidden": false
    },
    "nbgrader": {
     "grade": false,
     "grade_id": "ec639c",
     "locked": true,
     "schema_version": 3,
     "solution": false,
     "task": false
    }
   },
   "source": [
    "## Prerequisites\n",
    "\n"
   ]
  },
  {
   "cell_type": "markdown",
   "metadata": {
    "collapsed": false,
    "deletable": false,
    "editable": false,
    "jupyter": {
     "outputs_hidden": false
    },
    "nbgrader": {
     "grade": false,
     "grade_id": "3a1087",
     "locked": true,
     "schema_version": 3,
     "solution": false,
     "task": false
    }
   },
   "source": [
    "### Is GDAL installed"
   ]
  },
  {
   "cell_type": "code",
   "execution_count": 1,
   "metadata": {
    "collapsed": false,
    "deletable": false,
    "editable": false,
    "jupyter": {
     "outputs_hidden": false
    },
    "nbgrader": {
     "grade": false,
     "grade_id": "553000",
     "locked": true,
     "schema_version": 3,
     "solution": false,
     "task": false
    }
   },
   "outputs": [
    {
     "name": "stdout",
     "output_type": "stream",
     "text": [
      "Installed!\n"
     ]
    }
   ],
   "source": [
    "import sys\n",
    "try:\n",
    "    from osgeo import ogr, osr, gdal\n",
    "    print(\"Installed!\")\n",
    "except:\n",
    "    sys.exit('ERROR: cannot find GDAL/OGR modules')"
   ]
  },
  {
   "cell_type": "markdown",
   "metadata": {
    "collapsed": false,
    "deletable": false,
    "editable": false,
    "jupyter": {
     "outputs_hidden": false
    },
    "nbgrader": {
     "grade": false,
     "grade_id": "3848e4",
     "locked": true,
     "schema_version": 3,
     "solution": false,
     "task": false
    }
   },
   "source": [
    "## Visualization of vector data"
   ]
  },
  {
   "cell_type": "code",
   "execution_count": 2,
   "metadata": {
    "collapsed": false,
    "deletable": false,
    "editable": false,
    "jupyter": {
     "outputs_hidden": false
    },
    "nbgrader": {
     "grade": false,
     "grade_id": "1b444c",
     "locked": true,
     "schema_version": 3,
     "solution": false,
     "task": false
    }
   },
   "outputs": [],
   "source": [
    "\n",
    "import os\n",
    "import matplotlib.pyplot as plt\n",
    "from osgeo import ogr\n",
    "\n",
    "# This is the function from listing 11.2.\n",
    "def plot_polygon(poly, symbol='k-', fig=None, ax=None, fill=False, **kwargs):\n",
    "    \"\"\"Plots a polygon using the given symbol.\"\"\"\n",
    "    if fig is None or ax is None:\n",
    "        fig = plt.figure()\n",
    "        ax = fig.add_subplot(1, 1, 1)\n",
    "    \n",
    "    if not fill:\n",
    "        for i in range(poly.GetGeometryCount()):\n",
    "            subgeom = poly.GetGeometryRef(i)\n",
    "            x, y = zip(*subgeom.GetPoints())\n",
    "            ax.plot(x, y, symbol, **kwargs)\n",
    "    else:\n",
    "        for i in range(poly.GetGeometryCount()):\n",
    "            x, y = zip(*poly.GetGeometryRef(i).GetPoints())\n",
    "            plt.fill(x, y, symbol, **kwargs)\n",
    "\n",
    "# This function is new.\n",
    "def plot_line(line, symbol='k-', fig=None, ax=None, fill=False, **kwargs):\n",
    "    \"\"\"Plots a line using the given symbol.\"\"\"\n",
    "    if fig is None or ax is None:\n",
    "        fig = plt.figure()\n",
    "        ax = fig.add_subplot(1, 1, 1)\n",
    "    \n",
    "    x, y = zip(*line.GetPoints())\n",
    "    ax.plot(x, y, symbol, **kwargs)\n",
    "\n",
    "# This function is new.\n",
    "def plot_point(point, fig=None, ax=None, symbol='ko', **kwargs):\n",
    "    \"\"\"Plots a point using the given symbol.\"\"\"\n",
    "    \n",
    "    if fig is None or ax is None:\n",
    "        fig = plt.figure()\n",
    "        ax = fig.add_subplot(1, 1, 1)\n",
    "\n",
    "    x, y = point.GetX(), point.GetY()\n",
    "    ax.plot(x, y, symbol, **kwargs)\n",
    "\n",
    "\n",
    "def plot_feature(feature, symbol, fig=None, ax=None, fill=False, **kwargs):\n",
    "    \"\"\"Plots an OGR feature using the given symbol.\"\"\"\n",
    "\n",
    "    if fig is None or ax is None:\n",
    "        fig = plt.figure()\n",
    "        ax = fig.add_subplot(1, 1, 1)\n",
    "\n",
    "    geom = feature.geometry()\n",
    "    geom_type = geom.GetGeometryType()\n",
    "\n",
    "    # Polygons\n",
    "    if geom_type == ogr.wkbPolygon:\n",
    "        plot_polygon(geom, symbol, fig=fig, ax=ax, fill=fill, **kwargs)\n",
    "\n",
    "    # Multipolygons\n",
    "    elif geom_type == ogr.wkbMultiPolygon:\n",
    "        for i in range(geom.GetGeometryCount()):\n",
    "            subgeom = geom.GetGeometryRef(i)\n",
    "            plot_polygon(subgeom, symbol, fig=fig, ax=ax, fill=fill, **kwargs)\n",
    "\n",
    "    # Lines\n",
    "    elif geom_type == ogr.wkbLineString:\n",
    "        plot_line(geom, symbol, fig=fig, ax=ax, **kwargs)\n",
    "\n",
    "    # Multilines\n",
    "    elif geom_type == ogr.wkbMultiLineString:\n",
    "        for i in range(geom.GetGeometryCount()):\n",
    "            subgeom = geom.GetGeometryRef(i)\n",
    "            plot_line(subgeom, symbol, fig=fig, ax=ax, **kwargs)\n",
    "\n",
    "    # Points\n",
    "    elif geom_type == ogr.wkbPoint:\n",
    "        plot_point(geom, symbol, fig=fig, ax=ax, **kwargs)\n",
    "\n",
    "    # Multipoints\n",
    "    elif geom_type == ogr.wkbMultiPoint:\n",
    "        for i in range(geom.GetGeometryCount()):\n",
    "            subgeom = geom.GetGeometryRef(i)\n",
    "            plot_point(subgeom, symbol, fig=fig, ax=ax, **kwargs)\n",
    "\n",
    "def plot_layer(layer, symbol, fig=None, ax=None, **kwargs):\n",
    "    \"\"\"Plots an OGR layer using the given symbol.\"\"\"\n",
    "    if fig is None or ax is None:\n",
    "        fig = plt.figure()\n",
    "        ax = fig.add_subplot(1, 1, 1)\n",
    "    for feature in layer:\n",
    "        plot_feature(feature, symbol, fig, ax, kwargs)\n",
    "\n",
    "        "
   ]
  },
  {
   "cell_type": "markdown",
   "metadata": {
    "collapsed": false,
    "deletable": false,
    "editable": false,
    "jupyter": {
     "outputs_hidden": false
    },
    "nbgrader": {
     "grade": false,
     "grade_id": "b45cd0",
     "locked": true,
     "schema_version": 3,
     "solution": false,
     "task": false
    }
   },
   "source": [
    "## Datasource"
   ]
  },
  {
   "cell_type": "markdown",
   "metadata": {
    "collapsed": false,
    "deletable": false,
    "editable": false,
    "jupyter": {
     "outputs_hidden": false
    },
    "nbgrader": {
     "grade": false,
     "grade_id": "e41525",
     "locked": true,
     "schema_version": 3,
     "solution": false,
     "task": false
    }
   },
   "source": [
    "### How to open a vector datasource"
   ]
  },
  {
   "cell_type": "code",
   "execution_count": 3,
   "metadata": {
    "collapsed": false,
    "deletable": false,
    "editable": false,
    "jupyter": {
     "outputs_hidden": false
    },
    "nbgrader": {
     "grade": false,
     "grade_id": "3c295b",
     "locked": true,
     "schema_version": 3,
     "solution": false,
     "task": false
    }
   },
   "outputs": [
    {
     "name": "stdout",
     "output_type": "stream",
     "text": [
      "File is not available\n"
     ]
    }
   ],
   "source": [
    "import os\n",
    "\n",
    "datasource_path =r'/home/user/Handouts/exercise_data_vector/NL_provinces.shp'\n",
    "if os.path.exists(datasource_path):\n",
    "    print(\"File is avaiable\")\n",
    "else:\n",
    "    print(\"File is not available\")"
   ]
  },
  {
   "cell_type": "code",
   "execution_count": 6,
   "metadata": {},
   "outputs": [
    {
     "name": "stdout",
     "output_type": "stream",
     "text": [
      "File is avaiable\n"
     ]
    }
   ],
   "source": [
    "import os\n",
    "\n",
    "datasource_path =r\"C:\\Users\\Zako3\\Downloads\\Handouts\\exercise_data_vector\\NL_provinces.shp\"\n",
    "if os.path.exists(datasource_path):\n",
    "    print(\"File is avaiable\")\n",
    "else:\n",
    "    print(\"File is not available\")"
   ]
  },
  {
   "cell_type": "markdown",
   "metadata": {
    "collapsed": false,
    "deletable": false,
    "editable": false,
    "jupyter": {
     "outputs_hidden": false
    },
    "nbgrader": {
     "grade": false,
     "grade_id": "ccfdcf",
     "locked": true,
     "schema_version": 3,
     "solution": false,
     "task": false
    }
   },
   "source": [
    "**Exercise 1: Load the shapefile**"
   ]
  },
  {
   "cell_type": "code",
   "execution_count": 7,
   "metadata": {
    "collapsed": false,
    "deletable": false,
    "jupyter": {
     "outputs_hidden": false
    },
    "nbgrader": {
     "cell_type": "code",
     "checksum": "9701dbd0ebe5f1891a1b78e7fd6ee3d7",
     "grade": true,
     "grade_id": "53c58b",
     "locked": false,
     "points": 5,
     "schema_version": 3,
     "solution": true,
     "task": false
    }
   },
   "outputs": [
    {
     "name": "stdout",
     "output_type": "stream",
     "text": [
      "file opened!\n"
     ]
    },
    {
     "name": "stderr",
     "output_type": "stream",
     "text": [
      "C:\\Users\\Zako3\\anaconda3\\envs\\python_foundation\\Lib\\site-packages\\osgeo\\ogr.py:560: FutureWarning: Neither ogr.UseExceptions() nor ogr.DontUseExceptions() has been explicitly called. In GDAL 4.0, exceptions will be enabled by default.\n",
      "  warnings.warn(\n"
     ]
    }
   ],
   "source": [
    "from osgeo import ogr\n",
    "import os\n",
    "\n",
    "datasource_path =r\"C:\\Users\\Zako3\\Downloads\\Handouts\\exercise_data_vector\\NL_provinces.shp\"\n",
    "\n",
    "datasource = ogr.Open(datasource_path)\n",
    "\n",
    "if datasource is not None:\n",
    "    print(\"file opened!\")\n",
    "else:\n",
    "    print('No data source!')"
   ]
  },
  {
   "cell_type": "markdown",
   "metadata": {
    "collapsed": false,
    "deletable": false,
    "editable": false,
    "jupyter": {
     "outputs_hidden": false
    },
    "nbgrader": {
     "grade": false,
     "grade_id": "1c3e1a",
     "locked": true,
     "schema_version": 3,
     "solution": false,
     "task": false
    }
   },
   "source": [
    "### Access to datasource properties"
   ]
  },
  {
   "cell_type": "markdown",
   "metadata": {
    "collapsed": false,
    "deletable": false,
    "editable": false,
    "jupyter": {
     "outputs_hidden": false
    },
    "nbgrader": {
     "grade": false,
     "grade_id": "62564b",
     "locked": true,
     "schema_version": 3,
     "solution": false,
     "task": false
    }
   },
   "source": [
    "What type of driver? ShapeFile? Idrisi? PostgreSQL?"
   ]
  },
  {
   "cell_type": "code",
   "execution_count": 8,
   "metadata": {
    "collapsed": false,
    "deletable": false,
    "editable": false,
    "jupyter": {
     "outputs_hidden": false
    },
    "nbgrader": {
     "grade": false,
     "grade_id": "e85bce",
     "locked": true,
     "schema_version": 3,
     "solution": false,
     "task": false
    }
   },
   "outputs": [
    {
     "name": "stdout",
     "output_type": "stream",
     "text": [
      "Driver name: ESRI Shapefile\n"
     ]
    }
   ],
   "source": [
    "\n",
    "driverType = datasource.GetDriver().GetName()\n",
    "print(\"Driver name:\", driverType)"
   ]
  },
  {
   "cell_type": "markdown",
   "metadata": {
    "collapsed": false,
    "deletable": false,
    "editable": false,
    "jupyter": {
     "outputs_hidden": false
    },
    "nbgrader": {
     "grade": false,
     "grade_id": "92a4d6",
     "locked": true,
     "schema_version": 3,
     "solution": false,
     "task": false
    }
   },
   "source": [
    "**Exercise 2: print the number of layers in the data source** "
   ]
  },
  {
   "cell_type": "code",
   "execution_count": 9,
   "metadata": {
    "collapsed": false,
    "deletable": false,
    "jupyter": {
     "outputs_hidden": false
    },
    "nbgrader": {
     "cell_type": "code",
     "checksum": "14d9b66d5e711c398e22936fdde0d4fb",
     "grade": true,
     "grade_id": "f27d27",
     "locked": false,
     "points": 5,
     "schema_version": 3,
     "solution": true,
     "task": false
    }
   },
   "outputs": [
    {
     "name": "stdout",
     "output_type": "stream",
     "text": [
      "dataset layers: 1\n"
     ]
    }
   ],
   "source": [
    "# YOUR CODE HERE\n",
    "layerCount = datasource.GetLayerCount()\n",
    "print(\"dataset layers:\", layerCount)\n",
    "\n",
    "#raise NotImplementedError()\n",
    "#Vector OGR has one layer"
   ]
  },
  {
   "cell_type": "markdown",
   "metadata": {
    "collapsed": false,
    "deletable": false,
    "editable": false,
    "jupyter": {
     "outputs_hidden": false
    },
    "nbgrader": {
     "grade": false,
     "grade_id": "28a8a9",
     "locked": true,
     "schema_version": 3,
     "solution": false,
     "task": false
    }
   },
   "source": [
    "## Working with Layers"
   ]
  },
  {
   "cell_type": "markdown",
   "metadata": {
    "collapsed": false,
    "deletable": false,
    "editable": false,
    "jupyter": {
     "outputs_hidden": false
    },
    "nbgrader": {
     "grade": false,
     "grade_id": "47d6c9",
     "locked": true,
     "schema_version": 3,
     "solution": false,
     "task": false
    }
   },
   "source": [
    "Obtaining a layer form the datasource"
   ]
  },
  {
   "cell_type": "code",
   "execution_count": 10,
   "metadata": {
    "collapsed": false,
    "deletable": false,
    "editable": false,
    "jupyter": {
     "outputs_hidden": false
    },
    "nbgrader": {
     "grade": false,
     "grade_id": "c10221",
     "locked": true,
     "schema_version": 3,
     "solution": false,
     "task": false
    }
   },
   "outputs": [],
   "source": [
    "layer = datasource.GetLayer(0)"
   ]
  },
  {
   "cell_type": "code",
   "execution_count": 11,
   "metadata": {
    "collapsed": false,
    "deletable": false,
    "editable": false,
    "jupyter": {
     "outputs_hidden": false
    },
    "nbgrader": {
     "grade": false,
     "grade_id": "a05499",
     "locked": true,
     "schema_version": 3,
     "solution": false,
     "task": false
    }
   },
   "outputs": [
    {
     "data": {
      "image/png": "[encoded data removed]",
      "text/plain": [
       "<Figure size 640x480 with 1 Axes>"
      ]
     },
     "metadata": {},
     "output_type": "display_data"
    }
   ],
   "source": [
    "plot_layer(layer, 'b-', c='black')"
   ]
  },
  {
   "cell_type": "markdown",
   "metadata": {
    "collapsed": false,
    "deletable": false,
    "editable": false,
    "jupyter": {
     "outputs_hidden": false
    },
    "nbgrader": {
     "grade": false,
     "grade_id": "b9ac78",
     "locked": true,
     "schema_version": 3,
     "solution": false,
     "task": false
    }
   },
   "source": [
    "Obtaining attribute field names"
   ]
  },
  {
   "cell_type": "markdown",
   "metadata": {
    "collapsed": false,
    "deletable": false,
    "editable": false,
    "jupyter": {
     "outputs_hidden": false
    },
    "nbgrader": {
     "grade": false,
     "grade_id": "5ca5f9",
     "locked": true,
     "schema_version": 3,
     "solution": false,
     "task": false
    }
   },
   "source": [
    "**Exercise 3: print the name of the fields**"
   ]
  },
  {
   "cell_type": "code",
   "execution_count": 12,
   "metadata": {
    "collapsed": false,
    "deletable": false,
    "jupyter": {
     "outputs_hidden": false
    },
    "nbgrader": {
     "cell_type": "code",
     "checksum": "cab222feaf8065c2eff4e5ce49bc04ca",
     "grade": true,
     "grade_id": "9bba89",
     "locked": false,
     "points": 5,
     "schema_version": 3,
     "solution": true,
     "task": false
    }
   },
   "outputs": [
    {
     "name": "stdout",
     "output_type": "stream",
     "text": [
      "Number of fields: 4\n"
     ]
    }
   ],
   "source": [
    "# get layer definition\n",
    "layerDefinition = layer.GetLayerDefn()\n",
    "# get number of fields\n",
    "fieldCount = layerDefinition.GetFieldCount()\n",
    "print('Number of fields: ' + str(fieldCount))\n",
    "\n",
    "# YOUR CODE HERE\n",
    "#raise NotImplementedError()"
   ]
  },
  {
   "cell_type": "code",
   "execution_count": 13,
   "metadata": {
    "collapsed": false,
    "jupyter": {
     "outputs_hidden": false
    }
   },
   "outputs": [
    {
     "name": "stdout",
     "output_type": "stream",
     "text": [
      "Number of fields: 4\n",
      "Atribute field: OBJECTID\n",
      "Atribute field: NAME_1\n",
      "Atribute field: HASC_1\n",
      "Atribute field: ENGTYPE_1\n"
     ]
    }
   ],
   "source": [
    "layerDefinition = layer.GetLayerDefn()         # get layer definition\n",
    "fieldCount=layerDefinition.GetFieldCount()     # get number of fields\n",
    "print('Number of fields: '+str(fieldCount))\n",
    "for i in range(fieldCount):\n",
    "    print('Atribute field: '+layerDefinition.GetFieldDefn(i).GetName())\n",
    "    \n",
    "# get field definition and then its name\n",
    "# Find data type VIP "
   ]
  },
  {
   "cell_type": "markdown",
   "metadata": {
    "collapsed": false,
    "jupyter": {
     "outputs_hidden": false
    }
   },
   "source": [
    "Getting layer extent\n",
    "note: not feature extents"
   ]
  },
  {
   "cell_type": "code",
   "execution_count": 14,
   "metadata": {
    "collapsed": false,
    "jupyter": {
     "outputs_hidden": false
    }
   },
   "outputs": [
    {
     "name": "stdout",
     "output_type": "stream",
     "text": [
      "x_min = 13895.64 x_max = 277998.54 y_min = 303925.34 y_max = 619270.21\n"
     ]
    }
   ],
   "source": [
    "layerExtents=layer.GetExtent()\n",
    "print(\"x_min = %.2f x_max = %.2f y_min = %.2f y_max = %.2f\" % (layerExtents[0], layerExtents[1], layerExtents[2], layerExtents[3]))"
   ]
  },
  {
   "cell_type": "markdown",
   "metadata": {
    "collapsed": false,
    "jupyter": {
     "outputs_hidden": false
    }
   },
   "source": [
    "Obtaining the spatial reference system"
   ]
  },
  {
   "cell_type": "code",
   "execution_count": 15,
   "metadata": {
    "collapsed": false,
    "jupyter": {
     "outputs_hidden": false
    }
   },
   "outputs": [
    {
     "name": "stdout",
     "output_type": "stream",
     "text": [
      "Spatial Reference System (srs): PROJCS[\"Amersfoort / RD New\",\n",
      "    GEOGCS[\"Amersfoort\",\n",
      "        DATUM[\"Amersfoort\",\n",
      "            SPHEROID[\"Bessel 1841\",6377397.155,299.1528128,\n",
      "                AUTHORITY[\"EPSG\",\"7004\"]],\n",
      "            AUTHORITY[\"EPSG\",\"6289\"]],\n",
      "        PRIMEM[\"Greenwich\",0,\n",
      "            AUTHORITY[\"EPSG\",\"8901\"]],\n",
      "        UNIT[\"degree\",0.0174532925199433,\n",
      "            AUTHORITY[\"EPSG\",\"9122\"]],\n",
      "        AUTHORITY[\"EPSG\",\"4289\"]],\n",
      "    PROJECTION[\"Oblique_Stereographic\"],\n",
      "    PARAMETER[\"latitude_of_origin\",52.1561605555556],\n",
      "    PARAMETER[\"central_meridian\",5.38763888888889],\n",
      "    PARAMETER[\"scale_factor\",0.9999079],\n",
      "    PARAMETER[\"false_easting\",155000],\n",
      "    PARAMETER[\"false_northing\",463000],\n",
      "    UNIT[\"metre\",1,\n",
      "        AUTHORITY[\"EPSG\",\"9001\"]],\n",
      "    AXIS[\"Easting\",EAST],\n",
      "    AXIS[\"Northing\",NORTH],\n",
      "    AUTHORITY[\"EPSG\",\"28992\"]]\n"
     ]
    }
   ],
   "source": [
    "layerSRS=layer.GetSpatialRef()\n",
    "print ('Spatial Reference System (srs): '+str(layerSRS))"
   ]
  },
  {
   "cell_type": "markdown",
   "metadata": {
    "collapsed": false,
    "deletable": false,
    "editable": false,
    "jupyter": {
     "outputs_hidden": false
    },
    "nbgrader": {
     "grade": false,
     "grade_id": "ab2d46",
     "locked": true,
     "schema_version": 3,
     "solution": false,
     "task": false
    }
   },
   "source": [
    "**Exercise 4: Obtaining the number of features**"
   ]
  },
  {
   "cell_type": "code",
   "execution_count": 16,
   "metadata": {
    "collapsed": false,
    "deletable": false,
    "editable": false,
    "jupyter": {
     "outputs_hidden": false
    },
    "nbgrader": {
     "grade": true,
     "grade_id": "9f2fed",
     "locked": true,
     "points": 5,
     "schema_version": 3,
     "solution": false,
     "task": false
    }
   },
   "outputs": [
    {
     "name": "stdout",
     "output_type": "stream",
     "text": [
      "Number of features: 12\n"
     ]
    }
   ],
   "source": [
    "### BEGIN SOLUTION\n",
    "layerFeatureNum=layer.GetFeatureCount()\n",
    "print ('Number of features: '+ str(layerFeatureNum))\n",
    "### END SOLUTION"
   ]
  },
  {
   "cell_type": "code",
   "execution_count": 17,
   "metadata": {
    "collapsed": false,
    "jupyter": {
     "outputs_hidden": false
    }
   },
   "outputs": [
    {
     "name": "stdout",
     "output_type": "stream",
     "text": [
      "Number of features: 12\n"
     ]
    }
   ],
   "source": [
    "layerFeatureNum=layer.GetFeatureCount() # get number of features\n",
    "print ('Number of features: '+str(layerFeatureNum))\n",
    "\n",
    "# 12 Provinces in Netherland"
   ]
  },
  {
   "cell_type": "markdown",
   "metadata": {
    "collapsed": false,
    "jupyter": {
     "outputs_hidden": false
    }
   },
   "source": [
    "## Working with Features"
   ]
  },
  {
   "cell_type": "markdown",
   "metadata": {
    "collapsed": false,
    "jupyter": {
     "outputs_hidden": false
    }
   },
   "source": [
    "Iterate over features (e.g., get feild values)\n",
    "\n",
    "For each feature in the layer we can use these functions\n",
    "\n",
    "- extract the field value as a string\n",
    "\n",
    "    ```Python  \n",
    "    feature.GetFieldAsString('FIELDNAME')\n",
    "    ```\n",
    "- extract the field value as a integer\n",
    "    ```Python\n",
    "    feature.GetFieldAsInteger('FIELDNAME')\n",
    "    ```\n",
    "- extract the field value as specified in the attribute table\n",
    "    ```Python\n",
    "    feature.GetField('FIELDNAME')\n",
    "    ```\n",
    "\n"
   ]
  },
  {
   "cell_type": "code",
   "execution_count": 18,
   "metadata": {
    "collapsed": false,
    "jupyter": {
     "outputs_hidden": false
    }
   },
   "outputs": [
    {
     "name": "stdout",
     "output_type": "stream",
     "text": [
      "NAME_1: Utrecht\n",
      "NAME_1: Zeeland\n",
      "NAME_1: Zuid-Holland\n",
      "NAME_1: Drenthe\n",
      "NAME_1: Flevoland\n",
      "NAME_1: Friesland\n",
      "NAME_1: Gelderland\n",
      "NAME_1: Groningen\n",
      "NAME_1: Limburg\n",
      "NAME_1: Noord-Brabant\n",
      "NAME_1: Noord-Holland\n",
      "NAME_1: Overijssel\n"
     ]
    }
   ],
   "source": [
    "field_of_interest = 'NAME_1'\n",
    "for feature in layer:\n",
    "    nameFeature=feature.GetFieldAsString(field_of_interest)\n",
    "    print(F'{field_of_interest}: ' + nameFeature)"
   ]
  },
  {
   "cell_type": "code",
   "execution_count": 19,
   "metadata": {},
   "outputs": [
    {
     "name": "stdout",
     "output_type": "stream",
     "text": [
      "NAME_1: Utrecht\n",
      "NAME_1: Zeeland\n",
      "NAME_1: Zuid-Holland\n",
      "NAME_1: Drenthe\n",
      "NAME_1: Flevoland\n",
      "NAME_1: Friesland\n",
      "NAME_1: Gelderland\n",
      "NAME_1: Groningen\n",
      "NAME_1: Limburg\n",
      "NAME_1: Noord-Brabant\n",
      "NAME_1: Noord-Holland\n",
      "NAME_1: Overijssel\n"
     ]
    }
   ],
   "source": [
    "field_of_interest = 'NAME_1'\n",
    "for feature in layer:\n",
    "    nameFeature=feature.GetField(field_of_interest)\n",
    "    print(F'{field_of_interest}: ' + nameFeature)"
   ]
  },
  {
   "cell_type": "markdown",
   "metadata": {
    "collapsed": false,
    "jupyter": {
     "outputs_hidden": false
    }
   },
   "source": [
    "Access to a single feature\r\n",
    "\r\n",
    "- By index"
   ]
  },
  {
   "cell_type": "markdown",
   "metadata": {
    "collapsed": false,
    "deletable": false,
    "editable": false,
    "jupyter": {
     "outputs_hidden": false
    },
    "nbgrader": {
     "grade": false,
     "grade_id": "570ec2",
     "locked": true,
     "schema_version": 3,
     "solution": false,
     "task": false
    }
   },
   "source": [
    "**Exercise 5: print the name of the first feature in the layer**"
   ]
  },
  {
   "cell_type": "code",
   "execution_count": 20,
   "metadata": {
    "collapsed": false,
    "deletable": false,
    "jupyter": {
     "outputs_hidden": false
    },
    "nbgrader": {
     "cell_type": "code",
     "checksum": "fafa7a98d695f597876830bc6923235f",
     "grade": true,
     "grade_id": "878b59",
     "locked": false,
     "points": 5,
     "schema_version": 3,
     "solution": true,
     "task": false
    }
   },
   "outputs": [
    {
     "name": "stdout",
     "output_type": "stream",
     "text": [
      "Feature NAME_1: Utrecht\n"
     ]
    }
   ],
   "source": [
    "# YOUR CODE HERE\n",
    "feature = layer.GetFeature(0)         # extract feature 0\n",
    "print('Feature NAME_1: '+ feature. GetFieldAsString('NAME_1'))"
   ]
  },
  {
   "cell_type": "markdown",
   "metadata": {
    "collapsed": false,
    "jupyter": {
     "outputs_hidden": false
    }
   },
   "source": [
    "Access to a single feature\r\n",
    "\r\n",
    "- Query by attribute"
   ]
  },
  {
   "cell_type": "code",
   "execution_count": 21,
   "metadata": {
    "collapsed": false,
    "jupyter": {
     "outputs_hidden": false
    }
   },
   "outputs": [
    {
     "name": "stdout",
     "output_type": "stream",
     "text": [
      "NAME_1 = 'Overijssel'\n"
     ]
    }
   ],
   "source": [
    "province_name = 'Overijssel'\n",
    "query = F\"{field_of_interest} = '{province_name}'\"\n",
    "print(query)"
   ]
  },
  {
   "cell_type": "code",
   "execution_count": 22,
   "metadata": {
    "collapsed": false,
    "jupyter": {
     "outputs_hidden": false
    }
   },
   "outputs": [
    {
     "name": "stdout",
     "output_type": "stream",
     "text": [
      "Code of Overijssel: NL.OV\n"
     ]
    }
   ],
   "source": [
    "layer.SetAttributeFilter(query)\n",
    "overijssel_feature = None\n",
    "for feature in layer:\n",
    "    overijssel_feature = feature\n",
    "\n",
    "print(F\"Code of {province_name}: {overijssel_feature.GetField('HASC_1')}\")"
   ]
  },
  {
   "cell_type": "markdown",
   "metadata": {
    "collapsed": false,
    "jupyter": {
     "outputs_hidden": false
    }
   },
   "source": [
    "## Working with Geometries\n",
    "\n"
   ]
  },
  {
   "cell_type": "markdown",
   "metadata": {
    "collapsed": false,
    "deletable": false,
    "editable": false,
    "jupyter": {
     "outputs_hidden": false
    },
    "nbgrader": {
     "grade": false,
     "grade_id": "5d3102",
     "locked": true,
     "schema_version": 3,
     "solution": false,
     "task": false
    }
   },
   "source": [
    "Access to the feature geometry and envelope\n",
    "\n",
    "**Exercise 6: extracting the ***Geometry*** of overijssel_feature and print its geometry name.**"
   ]
  },
  {
   "cell_type": "code",
   "execution_count": 23,
   "metadata": {
    "collapsed": false,
    "deletable": false,
    "jupyter": {
     "outputs_hidden": false
    },
    "nbgrader": {
     "cell_type": "code",
     "checksum": "6a7c34080a459b3efa8844afe61feddb",
     "grade": true,
     "grade_id": "975470",
     "locked": false,
     "points": 5,
     "schema_version": 3,
     "solution": true,
     "task": false
    }
   },
   "outputs": [
    {
     "name": "stdout",
     "output_type": "stream",
     "text": [
      "Type of Geometry: POLYGON\n"
     ]
    }
   ],
   "source": [
    "# YOUR CODE HERE\n",
    "#raise NotImplementedError()\n",
    "\n",
    "overijssel_geometry = overijssel_feature.GetGeometryRef()         # extract the geometry\n",
    "print('Type of Geometry: '+overijssel_geometry.GetGeometryName())\n",
    "\n",
    "# geometry type\n",
    "#print('Geometry WKT : '+OverijsselGeometry.ExportToWkt()) # geometry as text\n",
    "#print('Geometry Json : '+OverijsselGeometry.ExportToJson()) # geometry as json"
   ]
  },
  {
   "cell_type": "code",
   "execution_count": 24,
   "metadata": {
    "collapsed": false,
    "jupyter": {
     "outputs_hidden": false
    }
   },
   "outputs": [
    {
     "name": "stdout",
     "output_type": "stream",
     "text": [
      "Geometry WKT : POLYGON ((205590.731890661 539885.447717943,206897.30217483 538389.194269776,206936.254419627 538350.129546603,207048.680703806 538238.833100527,207134.087120735 538153.994397344,207192.140397318 538096.457501079,207500.236711919 537790.721206487,208404.747577071 536692.989738908,208404.585641466 53\n"
     ]
    }
   ],
   "source": [
    "# geometry as text\n",
    "# print('Geometry WKT : '+ overijssel_geometry.ExportToWkt()) \n",
    "print('Geometry WKT : '+ overijssel_geometry.ExportToWkt()[:300])"
   ]
  },
  {
   "cell_type": "code",
   "execution_count": 25,
   "metadata": {
    "collapsed": false,
    "jupyter": {
     "outputs_hidden": false
    }
   },
   "outputs": [
    {
     "name": "stdout",
     "output_type": "stream",
     "text": [
      "Geometry Json : { \"type\": \"Polygon\", \"coordinates\": [ [ [ 205590.731890661001671, 539885.447717942879535 ], [ 206897.302174829994328, 538389.194269776344299 ], [ 206936.254419626580784, 538350.129546603071503 ], [ 207048.680703806167003, 538238.833100527408533 ], [ 207134.087120734504424, 538153.994397343951277 ], \n"
     ]
    }
   ],
   "source": [
    "# geometry as json\n",
    "# print('Geometry Json : '+ str(overijssel_geometry.ExportToJson()))\n",
    "print('Geometry Json : '+ str(overijssel_geometry.ExportToJson())[:300])"
   ]
  },
  {
   "cell_type": "markdown",
   "metadata": {
    "collapsed": false,
    "jupyter": {
     "outputs_hidden": false
    }
   },
   "source": [
    "Access to the feature geometry and envelope\r\n",
    "\r\n",
    "- Extraction of ***feature envelope*** (aka, extent/bounding box)"
   ]
  },
  {
   "cell_type": "code",
   "execution_count": 26,
   "metadata": {
    "collapsed": false,
    "jupyter": {
     "outputs_hidden": false
    }
   },
   "outputs": [
    {
     "name": "stdout",
     "output_type": "stream",
     "text": [
      "Feature extent: x_min = 181922.20 x_max = 269798.68 y_min = 459839.00 y_max = 540983.45\n"
     ]
    }
   ],
   "source": [
    "# get the envelope (bbox)\n",
    "env = overijssel_geometry.GetEnvelope()\n",
    "print(\"Feature extent: x_min = %.2f x_max = %.2f y_min = %.2f y_max = %.2f\" % (env[0], env[1], env[2], env[3]))"
   ]
  },
  {
   "cell_type": "markdown",
   "metadata": {
    "collapsed": false,
    "deletable": false,
    "editable": false,
    "jupyter": {
     "outputs_hidden": false
    },
    "nbgrader": {
     "grade": false,
     "grade_id": "c8efb7",
     "locked": true,
     "schema_version": 3,
     "solution": false,
     "task": false
    }
   },
   "source": [
    "Access to the feature's area size and length\n",
    "\n",
    "**Exercise 7: print the area and length of the overijssel_geometry**"
   ]
  },
  {
   "cell_type": "code",
   "execution_count": 27,
   "metadata": {
    "collapsed": false,
    "deletable": false,
    "jupyter": {
     "outputs_hidden": false
    },
    "nbgrader": {
     "cell_type": "code",
     "checksum": "60c343f1ba9b5a473820ace10f52b876",
     "grade": true,
     "grade_id": "ec794b",
     "locked": false,
     "points": 5,
     "schema_version": 3,
     "solution": true,
     "task": false
    }
   },
   "outputs": [
    {
     "name": "stdout",
     "output_type": "stream",
     "text": [
      "Area is: 3372.86 square kilometers\n"
     ]
    }
   ],
   "source": [
    "# YOUR CODE HERE\n",
    "#raise NotImplementedError()\n",
    "\n",
    "area = overijssel_geometry.Area() / 1e6  # convert area to square kilometers\n",
    "print('Area is: {:.2f} square kilometers'.format(area))"
   ]
  },
  {
   "cell_type": "code",
   "execution_count": 28,
   "metadata": {
    "collapsed": false,
    "jupyter": {
     "outputs_hidden": false
    }
   },
   "outputs": [
    {
     "name": "stdout",
     "output_type": "stream",
     "text": [
      "Length is: 0.0\n"
     ]
    }
   ],
   "source": [
    "length = overijssel_geometry.Length() # get the length in projection units\n",
    "print('Length is: '+str(length))\n",
    "\n",
    "# Length is for lines, polygons do not have a length."
   ]
  },
  {
   "cell_type": "markdown",
   "metadata": {
    "collapsed": false,
    "jupyter": {
     "outputs_hidden": false
    }
   },
   "source": [
    "## Spatial operators"
   ]
  },
  {
   "cell_type": "markdown",
   "metadata": {
    "collapsed": false,
    "jupyter": {
     "outputs_hidden": false
    }
   },
   "source": [
    "### Spatial analysis\r\n",
    "\r\n",
    "Creating a buffer of 5000 metters around Overijssel province"
   ]
  },
  {
   "cell_type": "code",
   "execution_count": 29,
   "metadata": {
    "collapsed": false,
    "jupyter": {
     "outputs_hidden": false
    }
   },
   "outputs": [
    {
     "name": "stdout",
     "output_type": "stream",
     "text": [
      "Buffer geometry WKT: POLYGON ((180018.951756548 530899.844476256,179907.317339296 531016.137172313,179721.850533896 531220.331139595,179547.92706953 531434.442654286,179386.076321307 531657.820019924,179236.790918312 531889.783337352,178634.635790974 532884.704241152,178502.970956212 533115.92295644,178383.792658313 533\n"
     ]
    }
   ],
   "source": [
    "bufferDistance = 5000\n",
    "buffer = overijssel_geometry.Buffer(bufferDistance)\n",
    "buffer_area = buffer.Area()\n",
    "print ('Buffer geometry WKT: ' + str(buffer.ExportToWkt())[:300])"
   ]
  },
  {
   "cell_type": "code",
   "execution_count": 30,
   "metadata": {
    "collapsed": false,
    "jupyter": {
     "outputs_hidden": false
    }
   },
   "outputs": [
    {
     "name": "stderr",
     "output_type": "stream",
     "text": [
      "C:\\Users\\Zako3\\AppData\\Local\\Temp\\ipykernel_11956\\1275120620.py:16: UserWarning: color is redundantly defined by the 'color' keyword argument and the fmt string \"k-\" (-> color='k'). The keyword argument will take precedence.\n",
      "  ax.plot(x, y, symbol, **kwargs)\n"
     ]
    },
    {
     "data": {
      "image/png": "[encoded data removed]",
      "text/plain": [
       "<Figure size 640x480 with 1 Axes>"
      ]
     },
     "metadata": {},
     "output_type": "display_data"
    }
   ],
   "source": [
    "fig = plt.figure()\n",
    "ax = fig.add_subplot(1, 1, 1)\n",
    "layer.SetAttributeFilter('')\n",
    "plot_layer(layer, 'b-', c='black', fig=fig, ax=ax, zorder = 1)\n",
    "#plot_feature(overijssel_feature, color='blue', symbol='k-', fig=fig, ax=ax)\n",
    "plot_polygon(buffer, color='red', fig=fig, ax=ax, zorder = 2)"
   ]
  },
  {
   "cell_type": "markdown",
   "metadata": {
    "collapsed": false,
    "jupyter": {
     "outputs_hidden": false
    }
   },
   "source": [
    "Intersection\r\n",
    "\r\n",
    "1- Obtain Drenthe and Noord-Holland"
   ]
  },
  {
   "cell_type": "code",
   "execution_count": 31,
   "metadata": {
    "collapsed": false,
    "jupyter": {
     "outputs_hidden": false
    }
   },
   "outputs": [
    {
     "name": "stderr",
     "output_type": "stream",
     "text": [
      "C:\\Users\\Zako3\\AppData\\Local\\Temp\\ipykernel_11956\\1275120620.py:20: UserWarning: color is redundantly defined by the 'color' keyword argument and the fmt string \"b-\" (-> color='b'). The keyword argument will take precedence.\n",
      "  plt.fill(x, y, symbol, **kwargs)\n"
     ]
    },
    {
     "data": {
      "image/png": "[encoded data removed]",
      "text/plain": [
       "<Figure size 640x480 with 1 Axes>"
      ]
     },
     "metadata": {},
     "output_type": "display_data"
    }
   ],
   "source": [
    "# effectively filters out all but one\n",
    "province_name = 'Drenthe'\n",
    "query = F\"{field_of_interest} = '{province_name}'\"\n",
    "layer.SetAttributeFilter(query)   # Filtering query\n",
    "\n",
    "drenthe_feature = None \n",
    "for feature in layer:\n",
    "    drenthe_feature=feature\n",
    "\n",
    "\n",
    "plot_feature(drenthe_feature, symbol='b-', color='blue', fill=True)"
   ]
  },
  {
   "cell_type": "code",
   "execution_count": 50,
   "metadata": {
    "collapsed": false,
    "jupyter": {
     "outputs_hidden": false
    }
   },
   "outputs": [
    {
     "name": "stderr",
     "output_type": "stream",
     "text": [
      "C:\\Users\\Zako3\\AppData\\Local\\Temp\\ipykernel_23940\\1275120620.py:20: UserWarning: color is redundantly defined by the 'color' keyword argument and the fmt string \"b-\" (-> color='b'). The keyword argument will take precedence.\n",
      "  plt.fill(x, y, symbol, **kwargs)\n"
     ]
    },
    {
     "data": {
      "image/png": "[encoded data removed]",
      "text/plain": [
       "<Figure size 640x480 with 1 Axes>"
      ]
     },
     "metadata": {},
     "output_type": "display_data"
    }
   ],
   "source": [
    "province_name = 'Noord-Holland'\n",
    "query = F\"{field_of_interest} = '{province_name}'\"\n",
    "layer.SetAttributeFilter(query)\n",
    "\n",
    "noordholland_feature = None\n",
    "for feature in layer:\n",
    "    noordholland_feature = feature                                                                                                                      \n",
    "\n",
    "plot_feature(noordholland_feature, symbol='b-', color='green', fill=True)"
   ]
  },
  {
   "cell_type": "markdown",
   "metadata": {
    "collapsed": false,
    "jupyter": {
     "outputs_hidden": false
    }
   },
   "source": [
    "Access the geometries"
   ]
  },
  {
   "cell_type": "code",
   "execution_count": 51,
   "metadata": {
    "collapsed": false,
    "jupyter": {
     "outputs_hidden": false
    }
   },
   "outputs": [],
   "source": [
    "drenthe_geometry = drenthe_feature.GetGeometryRef()\n",
    "noordholand_geometry = noordholland_feature.GetGeometryRef()"
   ]
  },
  {
   "cell_type": "markdown",
   "metadata": {
    "collapsed": false,
    "deletable": false,
    "editable": false,
    "jupyter": {
     "outputs_hidden": false
    },
    "nbgrader": {
     "grade": false,
     "grade_id": "6fc001",
     "locked": true,
     "schema_version": 3,
     "solution": false,
     "task": false
    }
   },
   "source": [
    "**Exercise 8: does the Overijssel buffer intersect Drenthe?**"
   ]
  },
  {
   "cell_type": "code",
   "execution_count": 52,
   "metadata": {
    "collapsed": false,
    "deletable": false,
    "jupyter": {
     "outputs_hidden": false
    },
    "nbgrader": {
     "cell_type": "code",
     "checksum": "004579c9ced6638f74ddcdea3a2782c9",
     "grade": true,
     "grade_id": "fd1fa3",
     "locked": false,
     "points": 10,
     "schema_version": 3,
     "solution": true,
     "task": false
    }
   },
   "outputs": [
    {
     "name": "stdout",
     "output_type": "stream",
     "text": [
      "Buffer intersects Drenthe : True\n"
     ]
    }
   ],
   "source": [
    "# YOUR CODE HERE\n",
    "#raise NotImplementedError()\n",
    "\n",
    "intersectsOD = buffer.Intersects(drenthe_geometry)\n",
    "print('Buffer intersects Drenthe : '+str(intersectsOD))"
   ]
  },
  {
   "cell_type": "markdown",
   "metadata": {
    "collapsed": false,
    "deletable": false,
    "editable": false,
    "jupyter": {
     "outputs_hidden": false
    },
    "nbgrader": {
     "grade": false,
     "grade_id": "7c8518",
     "locked": true,
     "schema_version": 3,
     "solution": false,
     "task": false
    }
   },
   "source": [
    "**Exercise 9: Plot the intersection between Overijssel buffer and Drenthe**"
   ]
  },
  {
   "cell_type": "code",
   "execution_count": 56,
   "metadata": {
    "collapsed": false,
    "deletable": false,
    "jupyter": {
     "outputs_hidden": false
    },
    "nbgrader": {
     "cell_type": "code",
     "checksum": "65d15aa92e1c4dc2b66f791c62ff7b90",
     "grade": true,
     "grade_id": "fa419b",
     "locked": false,
     "points": 10,
     "schema_version": 3,
     "solution": true,
     "task": false
    }
   },
   "outputs": [
    {
     "name": "stdout",
     "output_type": "stream",
     "text": [
      "Intersection between buffer and Drenthe: POLYGON ((209012.779188867 543833.359551189,209199.838749011 543637.291174885,209376.001074768 543431.376332749,209540.748713353 543216.21987152,209693.597741069 542992.453783931,209834.09918476 542760.73535232,209961.840340618 542521.745217946,210002.237894689 542435.187381361,210547.266291181 541811.033726958,210566.31470101 541792.176745845,210572.40512794 541786.137173026,210655.802642881 541703.294018251,210711.844758537 541647.750393761,211022.151417984 541339.822050814,211195.213441775 54\n"
     ]
    }
   ],
   "source": [
    "# YOUR CODE HERE\n",
    "#raise NotImplementedError()\n",
    "\n",
    "if buffer.Intersects(drenthe_geometry):\n",
    "    intersection = buffer.Intersection(drenthe_geometry)\n",
    "    print('Intersection between buffer and Drenthe: '\n",
    "        +intersection.ExportToWkt()[:500]) # slicing to the firt 500 characters of WKT"
   ]
  },
  {
   "cell_type": "code",
   "execution_count": 61,
   "metadata": {
    "collapsed": false,
    "jupyter": {
     "outputs_hidden": false
    }
   },
   "outputs": [
    {
     "name": "stderr",
     "output_type": "stream",
     "text": [
      "C:\\Users\\Zako3\\AppData\\Local\\Temp\\ipykernel_23940\\1275120620.py:20: UserWarning: color is redundantly defined by the 'color' keyword argument and the fmt string \"b-\" (-> color='b'). The keyword argument will take precedence.\n",
      "  plt.fill(x, y, symbol, **kwargs)\n"
     ]
    },
    {
     "data": {
      "image/png": "[encoded data removed]",
      "text/plain": [
       "<Figure size 640x480 with 1 Axes>"
      ]
     },
     "metadata": {},
     "output_type": "display_data"
    }
   ],
   "source": [
    "plot_polygon(intersection, symbol='b-', color='orange', fill=True)"
   ]
  },
  {
   "cell_type": "markdown",
   "metadata": {
    "collapsed": false,
    "jupyter": {
     "outputs_hidden": false
    }
   },
   "source": [
    "## Saving the outputs\n",
    "\n"
   ]
  },
  {
   "cell_type": "code",
   "execution_count": 32,
   "metadata": {
    "collapsed": false,
    "jupyter": {
     "outputs_hidden": false
    }
   },
   "outputs": [
    {
     "name": "stdout",
     "output_type": "stream",
     "text": [
      "province_buffer.shp\n"
     ]
    }
   ],
   "source": [
    "from osgeo import osr\n",
    "\n",
    "# set up the shapefile driver\n",
    "driver = ogr.GetDriverByName(\"ESRI Shapefile\")\n",
    "\n",
    "# create the data source\n",
    "data_source_path = \"province_buffer.shp\"\n",
    "print(data_source_path)\n",
    "data_source = driver.CreateDataSource(data_source_path)\n",
    "\n",
    "# create the spatial reference, EPSG 28992\n",
    "srs = osr.SpatialReference()\n",
    "srs.ImportFromEPSG(28992)\n",
    "\n",
    "# create the layer\n",
    "layer = data_source.CreateLayer(\"province_buffer\", srs, ogr.wkbPolygon) # ogr.wkbPolygon means type of the layer\n",
    "\n",
    "# add the fields we're interested in\n",
    "# let us add one field called Name\n",
    "field_name = ogr.FieldDefn(\"Name\", ogr.OFTString)\n",
    "field_name.SetWidth(24)\n",
    "layer.CreateField(field_name)\n",
    "\n",
    "# let us add one more field called Area with type real\n",
    "field_area = ogr.FieldDefn(\"Area\", ogr.OFTReal)\n",
    "field_area.SetWidth(32)\n",
    "field_area.SetPrecision(2)  \n",
    "\n",
    "# added line to set precision\n",
    "layer.CreateField(field_area)\n",
    "\n",
    "# create feature\n",
    "feature = ogr.Feature(layer.GetLayerDefn())\n",
    "\n",
    "# set field values\n",
    "feature.SetField(\"Name\", 'name1')\n",
    "feature.SetField(\"Area\", buffer_area)\n",
    "\n",
    "# set geometry\n",
    "feature.SetGeometry(buffer)\n",
    "\n",
    "# add the feature to the layer\n",
    "layer.CreateFeature(feature)\n",
    "\n",
    "# dereference the feature \n",
    "feature = None\n",
    "\n",
    "# save and close the data source\n",
    "data_source = None"
   ]
  }
 ],
 "metadata": {
  "kernelspec": {
   "display_name": "Python 3 (ipykernel)",
   "language": "python",
   "name": "python3"
  },
  "language_info": {
   "codemirror_mode": {
    "name": "ipython",
    "version": 3
   },
   "file_extension": ".py",
   "mimetype": "text/x-python",
   "name": "python",
   "nbconvert_exporter": "python",
   "pygments_lexer": "ipython3",
   "version": "3.11.5"
  },
  "nbgrader": {
   "__altered": false,
   "__hash": 633336276,
   "_root": {
    "entries": [
     [
      "size",
      1
     ],
     [
      "_root",
      {
       "entries": [
        [
         "cocalc_minimal_stubs",
         false
        ]
       ],
       "ownerID": {}
      }
     ],
     [
      "__ownerID",
      null
     ],
     [
      "__hash",
      -335098374
     ],
     [
      "__altered",
      false
     ],
     [
      "cocalc_minimal_stubs",
      false
     ]
    ],
    "ownerID": {}
   },
   "cocalc_minimal_stubs": false,
   "size": 6
  }
 },
 "nbformat": 4,
 "nbformat_minor": 4
}
