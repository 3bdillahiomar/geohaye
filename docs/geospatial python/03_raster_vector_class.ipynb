{
 "cells": [
  {
   "cell_type": "markdown",
   "metadata": {
    "collapsed": false,
    "jupyter": {
     "outputs_hidden": false
    }
   },
   "source": [
    "# Integerating Vector and Raster\n",
    "\n"
   ]
  },
  {
   "cell_type": "markdown",
   "metadata": {
    "collapsed": false,
    "jupyter": {
     "outputs_hidden": false
    }
   },
   "source": [
    "## Prerequisites"
   ]
  },
  {
   "cell_type": "markdown",
   "metadata": {
    "collapsed": false,
    "jupyter": {
     "outputs_hidden": false
    }
   },
   "source": [
    "Is GDAL installed?"
   ]
  },
  {
   "cell_type": "code",
   "execution_count": 1,
   "metadata": {
    "collapsed": false,
    "jupyter": {
     "outputs_hidden": false
    }
   },
   "outputs": [
    {
     "name": "stdout",
     "output_type": "stream",
     "text": [
      "Installed!\n"
     ]
    }
   ],
   "source": [
    "import sys\n",
    "try:\n",
    "    from osgeo import ogr, osr, gdal, gdal_array as gdarr\n",
    "    print(\"Installed!\")\n",
    "except:\n",
    "    sys.exit('ERROR: cannot find GDAL/OGR modules')"
   ]
  },
  {
   "cell_type": "code",
   "execution_count": 2,
   "metadata": {
    "collapsed": false,
    "jupyter": {
     "outputs_hidden": false
    }
   },
   "outputs": [
    {
     "name": "stdout",
     "output_type": "stream",
     "text": [
      "C:\\Users\\Zako3\\Downloads\\Handouts\\exercise_data_raster_vector\\2014.tif\n",
      "C:\\Users\\Zako3\\Downloads\\Handouts\\exercise_data_raster_vector\\NL_provinces.shp\n",
      "C:\\Users\\Zako3\\Downloads\\Handouts\\exercise_data_raster_vector\\ovRoads.geojson\n"
     ]
    }
   ],
   "source": [
    "dsPath = path_to_2014_tiff = r\"C:\\Users\\Zako3\\Downloads\\Handouts\\exercise_data_raster_vector\\2014.tif\"\n",
    "nlprovPath = r\"C:\\Users\\Zako3\\Downloads\\Handouts\\exercise_data_raster_vector\\NL_provinces.shp\"\n",
    "roadsVectorDsPath = r\"C:\\Users\\Zako3\\Downloads\\Handouts\\exercise_data_raster_vector\\ovRoads.geojson\"\n",
    "\n",
    "print(dsPath)\n",
    "print(nlprovPath)\n",
    "print(roadsVectorDsPath)"
   ]
  },
  {
   "cell_type": "markdown",
   "metadata": {
    "collapsed": false,
    "jupyter": {
     "outputs_hidden": false
    }
   },
   "source": [
    "## Extracting raster pixels intersecting polygons"
   ]
  },
  {
   "cell_type": "markdown",
   "metadata": {
    "collapsed": false,
    "jupyter": {
     "outputs_hidden": false
    }
   },
   "source": [
    "\r\n",
    "Subsetting a raster based on a polygon\r\n",
    "\r\n",
    "Determine temperature pixels inside Overijssel province only."
   ]
  },
  {
   "cell_type": "code",
   "execution_count": 6,
   "metadata": {
    "collapsed": false,
    "jupyter": {
     "outputs_hidden": false
    }
   },
   "outputs": [],
   "source": [
    "import os\n",
    "\n",
    "overTemperatureDsPath = 'temOverijssel.tif'\n",
    "ds = gdal.Open(dsPath)\n",
    "\n",
    "overTemperatureDs = gdal.Warp(overTemperatureDsPath,\n",
    "                              ds,\n",
    "                              format='GTiff',\n",
    "                              dstSRS='EPSG:28992',\n",
    "                              cutlineDSName=nlprovPath,\n",
    "                              cutlineWhere=\"NAME_1 = 'Overijssel'\",\n",
    "                              cropToCutline=True)\n",
    "\n",
    "# we determined temperature pixels inside Overijssel province only."
   ]
  },
  {
   "cell_type": "code",
   "execution_count": 7,
   "metadata": {
    "collapsed": false,
    "jupyter": {
     "outputs_hidden": false
    }
   },
   "outputs": [
    {
     "name": "stdout",
     "output_type": "stream",
     "text": [
      "3\n",
      "\n",
      "2540400\n",
      "\n",
      "float32\n",
      "\n",
      "(365, 80, 87)\n",
      "\n"
     ]
    },
    {
     "data": {
      "image/png": "[encoded data removed]",
      "text/plain": [
       "<Figure size 640x480 with 1 Axes>"
      ]
     },
     "metadata": {},
     "output_type": "display_data"
    },
    {
     "data": {
      "text/plain": [
       "<Figure size 640x480 with 0 Axes>"
      ]
     },
     "metadata": {},
     "output_type": "display_data"
    }
   ],
   "source": [
    "#To confirm lets show the temperature for the first day\n",
    "\n",
    "from matplotlib import pyplot as plt\n",
    "\n",
    "overTempArray=gdarr.DatasetReadAsArray(overTemperatureDs, 0, 0, overTemperatureDs.RasterXSize, overTemperatureDs.RasterYSize)\n",
    "print(overTempArray.ndim)\n",
    "print()\n",
    "print(overTempArray.size)\n",
    "print()\n",
    "print(overTempArray.dtype)\n",
    "print()\n",
    "print(overTempArray.shape)\n",
    "print()\n",
    "overTempArray[overTempArray == -9999] = None\n",
    "plt.imshow(overTempArray[0,:,:])\n",
    "plt.show()\n",
    "plt.tight_layout()\n"
   ]
  },
  {
   "cell_type": "markdown",
   "metadata": {
    "collapsed": false,
    "jupyter": {
     "outputs_hidden": false
    }
   },
   "source": [
    "Extract temperature inside Utrecht province - **Exercise 1**"
   ]
  },
  {
   "cell_type": "code",
   "execution_count": 48,
   "metadata": {
    "collapsed": false,
    "deletable": false,
    "jupyter": {
     "outputs_hidden": false
    },
    "nbgrader": {
     "cell_type": "code",
     "checksum": "4e6cd8fa7955d30ee74365dda6fce6e5",
     "grade": true,
     "grade_id": "4add2f",
     "locked": false,
     "points": 5,
     "schema_version": 3,
     "solution": true,
     "task": false
    }
   },
   "outputs": [
    {
     "data": {
      "image/png": "[encoded data removed]",
      "text/plain": [
       "<Figure size 640x480 with 1 Axes>"
      ]
     },
     "metadata": {},
     "output_type": "display_data"
    }
   ],
   "source": [
    "utrechtTemperatureDsPath = 'tempUtrecht.tif'\n",
    "\n",
    "utrechtTemperatureDs = None\n",
    "\n",
    "# YOUR CODE HERE\n",
    "utrechtTemperatureDs = gdal.Warp(utrechtTemperatureDsPath,\n",
    "                              ds,\n",
    "                              format='GTiff',\n",
    "                              dstSRS='EPSG:28992',\n",
    "                              cutlineDSName=nlprovPath,\n",
    "                              cutlineWhere=\"NAME_1 = 'Utrecht'\",\n",
    "                              cropToCutline=True)\n",
    "\n",
    "utrechtTempArray=gdarr.DatasetReadAsArray(utrechtTemperatureDs, \n",
    "                                          0, 0, \n",
    "                                          utrechtTemperatureDs.RasterXSize, \n",
    "                                          utrechtTemperatureDs.RasterYSize)\n",
    "\n",
    "utrechtTempArray[utrechtTempArray == -9999] = None\n",
    "plt.imshow(utrechtTempArray[0,:,:])\n",
    "plt.show()"
   ]
  },
  {
   "cell_type": "markdown",
   "metadata": {
    "collapsed": false,
    "jupyter": {
     "outputs_hidden": false
    }
   },
   "source": [
    "## Rasterize a vector layer\r\n",
    "\n",
    "### How to rasterize all the roads using the number of cars per hour as pixel values?\n",
    "\n"
   ]
  },
  {
   "cell_type": "code",
   "execution_count": 26,
   "metadata": {
    "collapsed": false,
    "jupyter": {
     "outputs_hidden": false
    }
   },
   "outputs": [],
   "source": [
    "from osgeo import ogr, gdal, gdal_array\n",
    "from matplotlib import pyplot as plt\n",
    "import numpy as np\n",
    "import os\n",
    "\n",
    "overTemperatureDs=gdal.Warp('', dsPath, \n",
    "    format=\"Mem\",\n",
    "    dstSRS='EPSG:28992',\n",
    "    cutlineDSName=nlprovPath,\n",
    "    cutlineWhere=\"NAME_1='Overijssel'\", \n",
    "    dstNodata=-9999,\n",
    "    cropToCutline = True, \n",
    "    outputType=gdal.GDT_Float32)\n",
    "\n",
    "overTempArray=gdarr.DatasetReadAsArray(overTemperatureDs, 0, 0, overTemperatureDs.RasterXSize, overTemperatureDs.RasterYSize)\n"
   ]
  },
  {
   "cell_type": "markdown",
   "metadata": {
    "collapsed": false,
    "jupyter": {
     "outputs_hidden": false
    }
   },
   "source": [
    "1. Subset only Overijssel Temperatures, ***in memory***, to use later as a reference\n",
    "\n"
   ]
  },
  {
   "cell_type": "markdown",
   "metadata": {
    "collapsed": false,
    "jupyter": {
     "outputs_hidden": false
    }
   },
   "source": [
    "2. Create an empty raster in memory to carry the rasterized version of the road layer - **Exercise 2**\n",
    "\n"
   ]
  },
  {
   "cell_type": "code",
   "execution_count": 27,
   "metadata": {
    "collapsed": false,
    "deletable": false,
    "jupyter": {
     "outputs_hidden": false
    },
    "nbgrader": {
     "cell_type": "code",
     "checksum": "d9f918c486e7e95b764812e189240e14",
     "grade": true,
     "grade_id": "741c03",
     "locked": false,
     "points": 5,
     "schema_version": 3,
     "solution": true,
     "task": false
    }
   },
   "outputs": [
    {
     "name": "stdout",
     "output_type": "stream",
     "text": [
      "Finish\n"
     ]
    }
   ],
   "source": [
    "# YOUR CODE HERE\n",
    "\n",
    "# 1- Create a driver\n",
    "driver = gdal.GetDriverByName('Mem')\n",
    "\n",
    "# 2- Create a new raster\n",
    "roadsRasterDs = driver.Create('', overTemperatureDs.RasterXSize, overTemperatureDs.RasterYSize, 1, gdal.GDT_Float32)\n",
    "\n",
    "\n",
    "# C3- Assign a projection\n",
    "prj = overTemperatureDs.GetProjection()\n",
    "roadsRasterDs.SetProjection(prj)\n",
    "\n",
    "# 4- Set the GeoTransform\n",
    "t = overTemperatureDs.GetGeoTransform()\n",
    "roadsRasterDs.SetGeoTransform(t)\n",
    "\n",
    "band = roadsRasterDs.GetRasterBand(1)\n",
    "band.SetNoDataValue(0)\n",
    "band.FlushCache()\n",
    "print('Finish')\n"
   ]
  },
  {
   "cell_type": "markdown",
   "metadata": {
    "collapsed": false,
    "jupyter": {
     "outputs_hidden": false
    }
   },
   "source": [
    "3. Rasteriation\n",
    "\n"
   ]
  },
  {
   "cell_type": "code",
   "execution_count": 28,
   "metadata": {
    "collapsed": false,
    "jupyter": {
     "outputs_hidden": false
    }
   },
   "outputs": [
    {
     "data": {
      "text/plain": [
       "0"
      ]
     },
     "execution_count": 28,
     "metadata": {},
     "output_type": "execute_result"
    }
   ],
   "source": [
    "roadsVectorDs = ogr.Open(roadsVectorDsPath)\n",
    "roadsLayer = roadsVectorDs.GetLayer()\n",
    "\n",
    "#  rasterize A1 road in Overijssel\n",
    "gdal.RasterizeLayer(roadsRasterDs, [1], roadsLayer,\n",
    "                        options =[ 'ATTRIBUTE=vehic_p_hour'])\n"
   ]
  },
  {
   "cell_type": "code",
   "execution_count": null,
   "metadata": {
    "collapsed": false,
    "jupyter": {
     "outputs_hidden": false
    }
   },
   "outputs": [],
   "source": []
  },
  {
   "cell_type": "markdown",
   "metadata": {
    "collapsed": false,
    "jupyter": {
     "outputs_hidden": false
    }
   },
   "source": [
    "4. Plot the output raster - **Exercise 3**\n",
    "\n"
   ]
  },
  {
   "cell_type": "code",
   "execution_count": 29,
   "metadata": {
    "collapsed": false,
    "deletable": false,
    "jupyter": {
     "outputs_hidden": false
    },
    "nbgrader": {
     "cell_type": "code",
     "checksum": "4027455636b2989ee10d425e0a5297a9",
     "grade": true,
     "grade_id": "095d93",
     "locked": false,
     "points": 5,
     "schema_version": 3,
     "solution": true,
     "task": false
    }
   },
   "outputs": [
    {
     "name": "stdout",
     "output_type": "stream",
     "text": [
      "(80, 87)\n"
     ]
    },
    {
     "data": {
      "image/png": "[encoded data removed]",
      "text/plain": [
       "<Figure size 640x480 with 2 Axes>"
      ]
     },
     "metadata": {},
     "output_type": "display_data"
    }
   ],
   "source": [
    "roadsArray = gdarr.DatasetReadAsArray(roadsRasterDs, 0, 0,\n",
    "                                      roadsRasterDs.RasterXSize,\n",
    "                                      roadsRasterDs.RasterYSize)\n",
    "print(roadsArray.shape)\n",
    "roadsArray[roadsArray == 0] = None\n",
    "\n",
    "plt.imshow(roadsArray)\n",
    "plt.colorbar()\n",
    "plt.show()"
   ]
  },
  {
   "cell_type": "markdown",
   "metadata": {
    "collapsed": false,
    "jupyter": {
     "outputs_hidden": false
    }
   },
   "source": [
    "## A Sample Analysis\n",
    "\n",
    "How to rasterize only one road out of a dataset of the main roads of Overijssel using 0 and 1 as pixel values?\n",
    "\n",
    "Example:\n",
    "What were the lowest temperatures felt in 2014 on motorway A1 in the province of Overijssel?"
   ]
  },
  {
   "cell_type": "markdown",
   "metadata": {
    "collapsed": false,
    "jupyter": {
     "outputs_hidden": false
    }
   },
   "source": [
    "1- Subset the temperatures of Overijssel \n",
    "\n"
   ]
  },
  {
   "cell_type": "code",
   "execution_count": 30,
   "metadata": {
    "collapsed": false,
    "jupyter": {
     "outputs_hidden": false
    }
   },
   "outputs": [
    {
     "name": "stdout",
     "output_type": "stream",
     "text": [
      "already done\n"
     ]
    }
   ],
   "source": [
    "print('already done')"
   ]
  },
  {
   "cell_type": "markdown",
   "metadata": {
    "collapsed": false,
    "jupyter": {
     "outputs_hidden": false
    }
   },
   "source": [
    "2-Open road dataset and filter A1 road from the roads dataset"
   ]
  },
  {
   "cell_type": "code",
   "execution_count": 31,
   "metadata": {
    "collapsed": false,
    "jupyter": {
     "outputs_hidden": false
    }
   },
   "outputs": [
    {
     "data": {
      "text/plain": [
       "0"
      ]
     },
     "execution_count": 31,
     "metadata": {},
     "output_type": "execute_result"
    }
   ],
   "source": [
    "roadsVectorDs = ogr.Open(roadsVectorDsPath)\n",
    "roadsLayer = roadsVectorDs.GetLayer()\n",
    "roadsLayer.SetAttributeFilter(\"id='A1'\")"
   ]
  },
  {
   "cell_type": "markdown",
   "metadata": {
    "collapsed": false,
    "jupyter": {
     "outputs_hidden": false
    }
   },
   "source": [
    "3-Rasterize roads dataset\n",
    "- Create an empty raster dataset for A1 road"
   ]
  },
  {
   "cell_type": "code",
   "execution_count": 32,
   "metadata": {
    "collapsed": false,
    "jupyter": {
     "outputs_hidden": false
    }
   },
   "outputs": [
    {
     "data": {
      "text/plain": [
       "0"
      ]
     },
     "execution_count": 32,
     "metadata": {},
     "output_type": "execute_result"
    }
   ],
   "source": [
    "# Create the dataset\n",
    "memDriver = gdal.GetDriverByName('Mem')\n",
    "roadsRasterDs = memDriver.Create('', overTemperatureDs.RasterXSize, overTemperatureDs.RasterYSize,1,gdal.GDT_Float32)\n",
    "\n",
    "# Set projection and geotransform\n",
    "roadsRasterDs.SetProjection(overTemperatureDs.GetProjection())\n",
    "roadsRasterDs.SetGeoTransform(overTemperatureDs.GetGeoTransform())\n",
    "\n",
    "# Create 1 band and set the nodata\n",
    "outband1 = roadsRasterDs.GetRasterBand(1)\n",
    "outband1.SetNoDataValue(0)"
   ]
  },
  {
   "cell_type": "markdown",
   "metadata": {
    "collapsed": false,
    "jupyter": {
     "outputs_hidden": false
    }
   },
   "source": [
    "- Rasterize - **Exercise 4**\n",
    "\n"
   ]
  },
  {
   "cell_type": "code",
   "execution_count": 34,
   "metadata": {
    "collapsed": false,
    "deletable": false,
    "jupyter": {
     "outputs_hidden": false
    },
    "nbgrader": {
     "cell_type": "code",
     "checksum": "e99b08c56646f0dc0ce03d19ee72141b",
     "grade": true,
     "grade_id": "a5afe5",
     "locked": false,
     "points": 5,
     "schema_version": 3,
     "solution": true,
     "task": false
    }
   },
   "outputs": [
    {
     "data": {
      "text/plain": [
       "0"
      ]
     },
     "execution_count": 34,
     "metadata": {},
     "output_type": "execute_result"
    }
   ],
   "source": [
    "gdal.RasterizeLayer(roadsRasterDs, [1], roadsLayer, burn_values=[1], options=['ALL_TOUCHED=FALSE'])"
   ]
  },
  {
   "cell_type": "markdown",
   "metadata": {
    "collapsed": false,
    "jupyter": {
     "outputs_hidden": false
    }
   },
   "source": [
    "4-Convert rasterized dataset to numpy\n",
    "\n"
   ]
  },
  {
   "cell_type": "code",
   "execution_count": 37,
   "metadata": {
    "collapsed": false,
    "jupyter": {
     "outputs_hidden": false
    }
   },
   "outputs": [],
   "source": [
    "import numpy as np\n",
    "\n",
    "roadsArray=gdarr.DatasetReadAsArray(roadsRasterDs, 0, 0, roadsRasterDs.RasterXSize, roadsRasterDs.RasterYSize)"
   ]
  },
  {
   "cell_type": "code",
   "execution_count": 39,
   "metadata": {},
   "outputs": [
    {
     "name": "stdout",
     "output_type": "stream",
     "text": [
      "87\n",
      "80\n"
     ]
    }
   ],
   "source": [
    "x = roadsRasterDs.RasterXSize \n",
    "y = roadsRasterDs.RasterYSize\n",
    "\n",
    "print(x)\n",
    "print(y)"
   ]
  },
  {
   "cell_type": "code",
   "execution_count": 40,
   "metadata": {
    "collapsed": false,
    "jupyter": {
     "outputs_hidden": false
    }
   },
   "outputs": [
    {
     "data": {
      "image/png": "[encoded data removed]",
      "text/plain": [
       "<Figure size 640x480 with 1 Axes>"
      ]
     },
     "metadata": {},
     "output_type": "display_data"
    }
   ],
   "source": [
    "from matplotlib import pyplot as plt\n",
    "roadsArray[roadsArray==0] = None\n",
    "plt.imshow(roadsArray)\n",
    "plt.show()"
   ]
  },
  {
   "cell_type": "markdown",
   "metadata": {
    "collapsed": false,
    "jupyter": {
     "outputs_hidden": false
    }
   },
   "source": [
    "5- Multiply A1 numpy array by the temperature array - **Exercise 5**\n",
    "\n"
   ]
  },
  {
   "cell_type": "code",
   "execution_count": 41,
   "metadata": {
    "collapsed": false,
    "deletable": false,
    "jupyter": {
     "outputs_hidden": false
    },
    "nbgrader": {
     "cell_type": "code",
     "checksum": "ff82c3ffe18ab7353488f47da9e09137",
     "grade": true,
     "grade_id": "6598e0",
     "locked": false,
     "points": 5,
     "schema_version": 3,
     "solution": true,
     "task": false
    }
   },
   "outputs": [
    {
     "name": "stdout",
     "output_type": "stream",
     "text": [
      "shape of the filter: (80, 87)\n",
      "shape of the temprature array: (365, 80, 87)\n"
     ]
    }
   ],
   "source": [
    "print(f\"shape of the filter: {roadsArray.shape}\")\n",
    "print(f\"shape of the temprature array: {overTempArray.shape}\")"
   ]
  },
  {
   "cell_type": "code",
   "execution_count": 42,
   "metadata": {
    "collapsed": false,
    "jupyter": {
     "outputs_hidden": false
    }
   },
   "outputs": [
    {
     "name": "stdout",
     "output_type": "stream",
     "text": [
      "A1 road temperatures shape: (365, 80, 87)\n"
     ]
    }
   ],
   "source": [
    "roadsTemperature = None\n",
    "\n",
    "### BEGIN SOLUTION\n",
    "\n",
    "roadsTemperature = roadsArray * overTempArray\n",
    "roadsTemperature[roadsTemperature == -9999] = None\n",
    "print('A1 road temperatures shape:', roadsTemperature.shape)\n",
    "\n",
    "### END SOLUTION"
   ]
  },
  {
   "cell_type": "markdown",
   "metadata": {
    "collapsed": false,
    "jupyter": {
     "outputs_hidden": false
    }
   },
   "source": [
    "- Visualize road A1 temperature for day number 150 - **Exercise 6**"
   ]
  },
  {
   "cell_type": "code",
   "execution_count": 43,
   "metadata": {
    "collapsed": false,
    "deletable": false,
    "jupyter": {
     "outputs_hidden": false
    },
    "nbgrader": {
     "cell_type": "code",
     "checksum": "9b566f2e07dec5e0f1a2ba95d739fd8d",
     "grade": true,
     "grade_id": "a43652",
     "locked": false,
     "points": 5,
     "schema_version": 3,
     "solution": true,
     "task": false
    }
   },
   "outputs": [
    {
     "data": {
      "text/plain": [
       "<matplotlib.image.AxesImage at 0x19e0746e090>"
      ]
     },
     "execution_count": 43,
     "metadata": {},
     "output_type": "execute_result"
    },
    {
     "data": {
      "image/png": "[encoded data removed]",
      "text/plain": [
       "<Figure size 640x480 with 1 Axes>"
      ]
     },
     "metadata": {},
     "output_type": "display_data"
    }
   ],
   "source": [
    "plt.imshow(roadsTemperature[149])"
   ]
  },
  {
   "cell_type": "markdown",
   "metadata": {
    "collapsed": false,
    "jupyter": {
     "outputs_hidden": false
    }
   },
   "source": [
    "6-Compute lower temperature for every pixel on the road - **Exercise 7**"
   ]
  },
  {
   "cell_type": "code",
   "execution_count": 20,
   "metadata": {
    "collapsed": false,
    "deletable": false,
    "jupyter": {
     "outputs_hidden": false
    },
    "nbgrader": {
     "cell_type": "code",
     "checksum": "16c23d62691639d68279b31b63f430c6",
     "grade": true,
     "grade_id": "5bff50",
     "locked": false,
     "points": 5,
     "schema_version": 3,
     "solution": true,
     "task": false
    }
   },
   "outputs": [
    {
     "name": "stderr",
     "output_type": "stream",
     "text": [
      "C:\\Users\\Zako3\\AppData\\Local\\Temp\\ipykernel_22768\\3061623256.py:1: RuntimeWarning: All-NaN slice encountered\n",
      "  np.nanmin(roadsTemperature, axis=0).shape\n"
     ]
    },
    {
     "data": {
      "text/plain": [
       "(80, 87)"
      ]
     },
     "execution_count": 20,
     "metadata": {},
     "output_type": "execute_result"
    }
   ],
   "source": [
    "np.nanmin(roadsTemperature, axis=0).shape"
   ]
  },
  {
   "cell_type": "code",
   "execution_count": 21,
   "metadata": {},
   "outputs": [
    {
     "name": "stderr",
     "output_type": "stream",
     "text": [
      "C:\\Users\\Zako3\\AppData\\Local\\Temp\\ipykernel_22768\\3754780286.py:1: RuntimeWarning: All-NaN slice encountered\n",
      "  np.nanmax(roadsTemperature, axis=0).shape\n"
     ]
    },
    {
     "data": {
      "text/plain": [
       "(80, 87)"
      ]
     },
     "execution_count": 21,
     "metadata": {},
     "output_type": "execute_result"
    }
   ],
   "source": [
    "np.nanmax(roadsTemperature, axis=0).shape"
   ]
  },
  {
   "cell_type": "markdown",
   "metadata": {
    "collapsed": false,
    "jupyter": {
     "outputs_hidden": false
    }
   },
   "source": [
    "7-Extract min and max from the previous numpy array (lowest temperatures) - **Exercise 8**"
   ]
  },
  {
   "cell_type": "code",
   "execution_count": null,
   "metadata": {
    "collapsed": false,
    "deletable": false,
    "jupyter": {
     "outputs_hidden": false
    },
    "nbgrader": {
     "cell_type": "code",
     "checksum": "08e4bf586cce874e2e10d4b4452047e8",
     "grade": true,
     "grade_id": "1ffd50",
     "locked": false,
     "points": 5,
     "schema_version": 3,
     "solution": true,
     "task": false
    }
   },
   "outputs": [],
   "source": [
    "# YOUR CODE HERE\n",
    "raise NotImplementedError()"
   ]
  }
 ],
 "metadata": {
  "kernelspec": {
   "display_name": "Python 3 (ipykernel)",
   "language": "python",
   "name": "python3"
  },
  "language_info": {
   "codemirror_mode": {
    "name": "ipython",
    "version": 3
   },
   "file_extension": ".py",
   "mimetype": "text/x-python",
   "name": "python",
   "nbconvert_exporter": "python",
   "pygments_lexer": "ipython3",
   "version": "3.11.5"
  },
  "nbgrader": {
   "__altered": false,
   "__hash": -335098374,
   "_root": {
    "entries": [
     [
      "cocalc_minimal_stubs",
      false
     ]
    ],
    "ownerID": {}
   },
   "cocalc_minimal_stubs": false,
   "size": 1
  }
 },
 "nbformat": 4,
 "nbformat_minor": 4
}
