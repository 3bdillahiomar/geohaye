{
 "cells": [
  {
   "cell_type": "code",
   "execution_count": 1,
   "metadata": {},
   "outputs": [
    {
     "data": {
      "application/vnd.jupyter.widget-view+json": {
       "model_id": "b04750b737144f5dbf1c013da0acd268",
       "version_major": 2,
       "version_minor": 0
      },
      "text/plain": [
       "Map(center=[25, -115], controls=(ZoomControl(options=['position', 'zoom_in_text', 'zoom_in_title', 'zoom_out_t…"
      ]
     },
     "execution_count": 1,
     "metadata": {},
     "output_type": "execute_result"
    }
   ],
   "source": [
    "from ipyleaflet import Map, ImageOverlay\n",
    "\n",
    "m = Map(center=(25, -115), zoom=4)\n",
    "\n",
    "image = ImageOverlay(\n",
    "    url=\"https://i.imgur.com/06Q1fSz.png\",\n",
    "    # url='../06Q1fSz.png',\n",
    "    bounds=((13, -130), (32, -100)),\n",
    ")\n",
    "\n",
    "m.add(image)\n",
    "m"
   ]
  },
  {
   "cell_type": "code",
   "execution_count": 35,
   "metadata": {},
   "outputs": [],
   "source": [
    "import geohaye"
   ]
  },
  {
   "cell_type": "code",
   "execution_count": 36,
   "metadata": {},
   "outputs": [
    {
     "data": {
      "application/vnd.jupyter.widget-view+json": {
       "model_id": "0589f821c51247fea82fe56fbe4f452a",
       "version_major": 2,
       "version_minor": 0
      },
      "text/plain": [
       "Map(center=[20, 0], controls=(ZoomControl(options=['position', 'zoom_in_text', 'zoom_in_title', 'zoom_out_text…"
      ]
     },
     "execution_count": 36,
     "metadata": {},
     "output_type": "execute_result"
    }
   ],
   "source": [
    "m = geohaye.Map()\n",
    "\n",
    "url = \"https://i.gifer.com/4j.gif\"\n",
    "# url='../06Q1fSz.png',\n",
    "bounds = ((13, 100), (45, 130))\n",
    "m.add_image(url, bounds)\n",
    "m.add_layers_control()\n",
    "# m.scroll_wheel_zoom = True\n",
    "m"
   ]
  },
  {
   "cell_type": "code",
   "execution_count": 37,
   "metadata": {},
   "outputs": [
    {
     "data": {
      "application/vnd.jupyter.widget-view+json": {
       "model_id": "af7d5a3808134f52bbefb6fbc5b66476",
       "version_major": 2,
       "version_minor": 0
      },
      "text/plain": [
       "Map(center=[37.752215, -122.418776], controls=(ZoomControl(options=['position', 'zoom_in_text', 'zoom_in_title…"
      ]
     },
     "execution_count": 37,
     "metadata": {},
     "output_type": "execute_result"
    }
   ],
   "source": [
    "from localtileserver import TileClient, get_leaflet_tile_layer, examples\n",
    "from ipyleaflet import Map\n",
    "\n",
    "# Create a TileClient from a raster file\n",
    "# client = TileClient('path/to/geo.tif')\n",
    "client = examples.get_san_francisco()  # use example data\n",
    "\n",
    "# Create ipyleaflet TileLayer from that server\n",
    "t = get_leaflet_tile_layer(client)\n",
    "# Create ipyleaflet map, add tile layer, and display\n",
    "m = Map(center=client.center(), zoom=client.default_zoom)\n",
    "m.add(t)\n",
    "m"
   ]
  },
  {
   "cell_type": "code",
   "execution_count": 38,
   "metadata": {},
   "outputs": [
    {
     "data": {
      "application/vnd.jupyter.widget-view+json": {
       "model_id": "098f78b5708644d28cd278f8b54d05b2",
       "version_major": 2,
       "version_minor": 0
      },
      "text/plain": [
       "Map(center=[37.630466999999996, -119.03021849999999], controls=(ZoomControl(options=['position', 'zoom_in_text…"
      ]
     },
     "execution_count": 38,
     "metadata": {},
     "output_type": "execute_result"
    }
   ],
   "source": [
    "from localtileserver import TileClient, get_leaflet_tile_layer, examples\n",
    "from ipyleaflet import Map\n",
    "\n",
    "# Create a TileClient from a raster file\n",
    "# client = TileClient('srtm90.tif')\n",
    "client = TileClient(\n",
    "    \"https://github.com/opengeos/datasets/releases/download/raster/srtm90.tif\"\n",
    ")\n",
    "# client = TileClient('https://opendata.digitalglobe.com/events/california-fire-2020/pre-event/2018-02-16/pine-gulch-fire20/1030010076004E00.tif')\n",
    "# client = examples.get_san_francisco()  # use example data\n",
    "\n",
    "# Create ipyleaflet TileLayer from that server\n",
    "t = get_leaflet_tile_layer(client)\n",
    "# Create ipyleaflet map, add tile layer, and display\n",
    "m = Map()\n",
    "m.add(t)\n",
    "m.center = client.center()\n",
    "m.zoom = client.default_zoom\n",
    "m"
   ]
  },
  {
   "cell_type": "code",
   "execution_count": 39,
   "metadata": {},
   "outputs": [
    {
     "name": "stderr",
     "output_type": "stream",
     "text": [
      "c:\\Users\\Zako3\\anaconda3\\envs\\geospatial24\\Lib\\site-packages\\rio_tiler\\io\\rasterio.py:130: NoOverviewWarning: The dataset has no Overviews. rio-tiler performances might be impacted.\n",
      "  warnings.warn(\n"
     ]
    },
    {
     "data": {
      "application/vnd.jupyter.widget-view+json": {
       "model_id": "2c14233753b64e9ea76a57c73a36a6b9",
       "version_major": 2,
       "version_minor": 0
      },
      "text/plain": [
       "Map(center=[27.5, 86.5], controls=(ZoomControl(options=['position', 'zoom_in_text', 'zoom_in_title', 'zoom_out…"
      ]
     },
     "execution_count": 39,
     "metadata": {},
     "output_type": "execute_result"
    }
   ],
   "source": [
    "from localtileserver import TileClient, get_leaflet_tile_layer, examples\n",
    "from ipyleaflet import Map\n",
    "\n",
    "# Create a TileClient from a raster file\n",
    "# client = TileClient('srtm90.tif')\n",
    "client = TileClient(\n",
    "    r\"C:\\Users\\Zako3\\Downloads\\geohaye\\docs\\examples\\srtm\\N27E086.hgt\"\n",
    ")\n",
    "# client = TileClient('https://opendata.digitalglobe.com/events/california-fire-2020/pre-event/2018-02-16/pine-gulch-fire20/1030010076004E00.tif')\n",
    "# client = examples.get_san_francisco()  # use example data\n",
    "\n",
    "# Create ipyleaflet TileLayer from that server\n",
    "t = get_leaflet_tile_layer(client)\n",
    "# Create ipyleaflet map, add tile layer, and display\n",
    "m = Map()\n",
    "m.add(t)\n",
    "m.center = client.center()\n",
    "m.zoom = client.default_zoom\n",
    "m"
   ]
  },
  {
   "cell_type": "code",
   "execution_count": 40,
   "metadata": {},
   "outputs": [],
   "source": [
    "import geohaye"
   ]
  },
  {
   "cell_type": "code",
   "execution_count": 41,
   "metadata": {},
   "outputs": [
    {
     "name": "stderr",
     "output_type": "stream",
     "text": [
      "c:\\Users\\Zako3\\anaconda3\\envs\\geospatial24\\Lib\\site-packages\\localtileserver\\widgets.py:90: UserWarning: The `cmap` keyword argument is deprecated. Please use `colormap` instead.\n",
      "  warnings.warn(\n"
     ]
    },
    {
     "data": {
      "application/vnd.jupyter.widget-view+json": {
       "model_id": "b06cea00548e451aa02c7241ae614cb7",
       "version_major": 2,
       "version_minor": 0
      },
      "text/plain": [
       "Map(center=[27.5, 86.5], controls=(ZoomControl(options=['position', 'zoom_in_text', 'zoom_in_title', 'zoom_out…"
      ]
     },
     "execution_count": 41,
     "metadata": {},
     "output_type": "execute_result"
    }
   ],
   "source": [
    "m = geohaye.Map(add_layer_control=False)\n",
    "data_paths = [\n",
    "    r\"C:\\Users\\Zako3\\Downloads\\geohaye\\docs\\examples\\srtm\\N27E087.hgt\",\n",
    "    r\"C:\\Users\\Zako3\\Downloads\\geohaye\\docs\\examples\\srtm\\N28E087.hgt\",\n",
    "    r\"C:\\Users\\Zako3\\Downloads\\geohaye\\docs\\examples\\srtm\\N28E086.hgt\",\n",
    "    r\"C:\\Users\\Zako3\\Downloads\\geohaye\\docs\\examples\\srtm\\N27E086.hgt\"\n",
    "]\n",
    "for path in data_paths:\n",
    "    m.add_raster(path, cmap=\"terrain\", name=\"DEM\")\n",
    "m\n"
   ]
  },
  {
   "cell_type": "code",
   "execution_count": 24,
   "metadata": {},
   "outputs": [
    {
     "data": {
      "application/vnd.jupyter.widget-view+json": {
       "model_id": "904efb8a08d447238bd8a547600c28bb",
       "version_major": 2,
       "version_minor": 0
      },
      "text/plain": [
       "Box(children=(FloatSlider(value=1.0, description='opacity', max=1.0),))"
      ]
     },
     "execution_count": 24,
     "metadata": {},
     "output_type": "execute_result"
    }
   ],
   "source": [
    "m.layers[0].interact(opacity=(0.0, 1.0, 0.1))"
   ]
  },
  {
   "cell_type": "code",
   "execution_count": 23,
   "metadata": {},
   "outputs": [
    {
     "data": {
      "text/plain": [
       "(TileLayer(attribution='&copy; <a href=\"https://www.openstreetmap.org/copyright\">OpenStreetMap</a> contributors', base=True, max_zoom=19, min_zoom=1, name='OpenStreetMap.Mapnik', options=['attribution', 'bounds', 'detect_retina', 'max_native_zoom', 'max_zoom', 'min_native_zoom', 'min_zoom', 'no_wrap', 'tile_size', 'tms', 'zoom_offset'], url='https://tile.openstreetmap.org/{z}/{x}/{y}.png'),\n",
       " BoundTileLayer(attribution=\"Raster file served by <a href='https://github.com/banesullivan/localtileserver' target='_blank'>localtileserver</a>.\", bounds=((26.999861, 86.999861), (28.000139, 88.000139)), max_native_zoom=30, max_zoom=30, name='DEM', options=['attribution', 'bounds', 'detect_retina', 'max_native_zoom', 'max_zoom', 'min_native_zoom', 'min_zoom', 'no_wrap', 'tile_size', 'tms', 'zoom_offset'], show_loading=True, url='http://localhost:56689/api/tiles/{z}/{x}/{y}.png?&filename=C%3A%2FUsers%2FZako3%2FDownloads%2Fgeohaye%2Fdocs%2Fexamples%2Fsrtm%2FN27E087.hgt&colormap=terrain'),\n",
       " BoundTileLayer(attribution=\"Raster file served by <a href='https://github.com/banesullivan/localtileserver' target='_blank'>localtileserver</a>.\", bounds=((27.999861, 86.999861), (29.000139, 88.000139)), max_native_zoom=30, max_zoom=30, name='DEM', options=['attribution', 'bounds', 'detect_retina', 'max_native_zoom', 'max_zoom', 'min_native_zoom', 'min_zoom', 'no_wrap', 'tile_size', 'tms', 'zoom_offset'], show_loading=True, url='http://localhost:56689/api/tiles/{z}/{x}/{y}.png?&filename=C%3A%2FUsers%2FZako3%2FDownloads%2Fgeohaye%2Fdocs%2Fexamples%2Fsrtm%2FN28E087.hgt&colormap=terrain'),\n",
       " BoundTileLayer(attribution=\"Raster file served by <a href='https://github.com/banesullivan/localtileserver' target='_blank'>localtileserver</a>.\", bounds=((27.999861, 85.999861), (29.000139, 87.000139)), max_native_zoom=30, max_zoom=30, name='DEM', options=['attribution', 'bounds', 'detect_retina', 'max_native_zoom', 'max_zoom', 'min_native_zoom', 'min_zoom', 'no_wrap', 'tile_size', 'tms', 'zoom_offset'], show_loading=True, url='http://localhost:56689/api/tiles/{z}/{x}/{y}.png?&filename=C%3A%2FUsers%2FZako3%2FDownloads%2Fgeohaye%2Fdocs%2Fexamples%2Fsrtm%2FN28E086.hgt&colormap=terrain'),\n",
       " BoundTileLayer(attribution=\"Raster file served by <a href='https://github.com/banesullivan/localtileserver' target='_blank'>localtileserver</a>.\", bounds=((26.999861, 85.999861), (28.000139, 87.000139)), max_native_zoom=30, max_zoom=30, name='DEM', options=['attribution', 'bounds', 'detect_retina', 'max_native_zoom', 'max_zoom', 'min_native_zoom', 'min_zoom', 'no_wrap', 'tile_size', 'tms', 'zoom_offset'], show_loading=True, url='http://localhost:56689/api/tiles/{z}/{x}/{y}.png?&filename=C%3A%2FUsers%2FZako3%2FDownloads%2Fgeohaye%2Fdocs%2Fexamples%2Fsrtm%2FN27E086.hgt&colormap=terrain'))"
      ]
     },
     "execution_count": 23,
     "metadata": {},
     "output_type": "execute_result"
    }
   ],
   "source": [
    "m.layers"
   ]
  },
  {
   "cell_type": "code",
   "execution_count": 24,
   "metadata": {},
   "outputs": [
    {
     "data": {
      "text/plain": [
       "(27.5, 86.5)"
      ]
     },
     "execution_count": 24,
     "metadata": {},
     "output_type": "execute_result"
    }
   ],
   "source": [
    "client.center()"
   ]
  },
  {
   "cell_type": "code",
   "execution_count": 25,
   "metadata": {},
   "outputs": [
    {
     "data": {
      "text/plain": [
       "8"
      ]
     },
     "execution_count": 25,
     "metadata": {},
     "output_type": "execute_result"
    }
   ],
   "source": [
    "client.default_zoom"
   ]
  },
  {
   "cell_type": "code",
   "execution_count": 26,
   "metadata": {},
   "outputs": [
    {
     "data": {
      "text/plain": [
       "(TileLayer(attribution='&copy; <a href=\"https://www.openstreetmap.org/copyright\">OpenStreetMap</a> contributors', base=True, max_zoom=19, min_zoom=1, name='OpenStreetMap.Mapnik', options=['attribution', 'bounds', 'detect_retina', 'max_native_zoom', 'max_zoom', 'min_native_zoom', 'min_zoom', 'no_wrap', 'tile_size', 'tms', 'zoom_offset'], url='https://tile.openstreetmap.org/{z}/{x}/{y}.png'),\n",
       " BoundTileLayer(attribution=\"Raster file served by <a href='https://github.com/banesullivan/localtileserver' target='_blank'>localtileserver</a>.\", bounds=((26.999861, 86.999861), (28.000139, 88.000139)), max_native_zoom=30, max_zoom=30, name='DEM', options=['attribution', 'bounds', 'detect_retina', 'max_native_zoom', 'max_zoom', 'min_native_zoom', 'min_zoom', 'no_wrap', 'tile_size', 'tms', 'zoom_offset'], show_loading=True, url='http://localhost:56689/api/tiles/{z}/{x}/{y}.png?&filename=C%3A%2FUsers%2FZako3%2FDownloads%2Fgeohaye%2Fdocs%2Fexamples%2Fsrtm%2FN27E087.hgt&colormap=terrain'),\n",
       " BoundTileLayer(attribution=\"Raster file served by <a href='https://github.com/banesullivan/localtileserver' target='_blank'>localtileserver</a>.\", bounds=((27.999861, 86.999861), (29.000139, 88.000139)), max_native_zoom=30, max_zoom=30, name='DEM', options=['attribution', 'bounds', 'detect_retina', 'max_native_zoom', 'max_zoom', 'min_native_zoom', 'min_zoom', 'no_wrap', 'tile_size', 'tms', 'zoom_offset'], show_loading=True, url='http://localhost:56689/api/tiles/{z}/{x}/{y}.png?&filename=C%3A%2FUsers%2FZako3%2FDownloads%2Fgeohaye%2Fdocs%2Fexamples%2Fsrtm%2FN28E087.hgt&colormap=terrain'),\n",
       " BoundTileLayer(attribution=\"Raster file served by <a href='https://github.com/banesullivan/localtileserver' target='_blank'>localtileserver</a>.\", bounds=((27.999861, 85.999861), (29.000139, 87.000139)), max_native_zoom=30, max_zoom=30, name='DEM', options=['attribution', 'bounds', 'detect_retina', 'max_native_zoom', 'max_zoom', 'min_native_zoom', 'min_zoom', 'no_wrap', 'tile_size', 'tms', 'zoom_offset'], show_loading=True, url='http://localhost:56689/api/tiles/{z}/{x}/{y}.png?&filename=C%3A%2FUsers%2FZako3%2FDownloads%2Fgeohaye%2Fdocs%2Fexamples%2Fsrtm%2FN28E086.hgt&colormap=terrain'),\n",
       " BoundTileLayer(attribution=\"Raster file served by <a href='https://github.com/banesullivan/localtileserver' target='_blank'>localtileserver</a>.\", bounds=((26.999861, 85.999861), (28.000139, 87.000139)), max_native_zoom=30, max_zoom=30, name='DEM', options=['attribution', 'bounds', 'detect_retina', 'max_native_zoom', 'max_zoom', 'min_native_zoom', 'min_zoom', 'no_wrap', 'tile_size', 'tms', 'zoom_offset'], show_loading=True, url='http://localhost:56689/api/tiles/{z}/{x}/{y}.png?&filename=C%3A%2FUsers%2FZako3%2FDownloads%2Fgeohaye%2Fdocs%2Fexamples%2Fsrtm%2FN27E086.hgt&colormap=terrain'))"
      ]
     },
     "execution_count": 26,
     "metadata": {},
     "output_type": "execute_result"
    }
   ],
   "source": [
    "m.layers"
   ]
  },
  {
   "cell_type": "code",
   "execution_count": 27,
   "metadata": {},
   "outputs": [
    {
     "data": {
      "application/vnd.jupyter.widget-view+json": {
       "model_id": "85712298eb3740298fd6e4dd907c75f6",
       "version_major": 2,
       "version_minor": 0
      },
      "text/plain": [
       "Map(bottom=27675.0, center=[27.902203909304404, 86.97837311676817], controls=(ZoomControl(options=['position',…"
      ]
     },
     "execution_count": 27,
     "metadata": {},
     "output_type": "execute_result"
    }
   ],
   "source": [
    "m"
   ]
  }
 ],
 "metadata": {
  "kernelspec": {
   "display_name": "geo",
   "language": "python",
   "name": "python3"
  },
  "language_info": {
   "codemirror_mode": {
    "name": "ipython",
    "version": 3
   },
   "file_extension": ".py",
   "mimetype": "text/x-python",
   "name": "python",
   "nbconvert_exporter": "python",
   "pygments_lexer": "ipython3",
   "version": "3.11.7"
  }
 },
 "nbformat": 4,
 "nbformat_minor": 2
}
