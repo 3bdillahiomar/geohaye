{
 "cells": [
  {
   "cell_type": "code",
   "execution_count": 2,
   "metadata": {},
   "outputs": [
    {
     "name": "stdout",
     "output_type": "stream",
     "text": [
      "Note: you may need to restart the kernel to use updated packages.\n"
     ]
    },
    {
     "name": "stderr",
     "output_type": "stream",
     "text": [
      "ERROR: Could not find a version that satisfies the requirement geohaye==0.0.2 (from versions: 0.0.1)\n",
      "ERROR: No matching distribution found for geohaye==0.0.2\n"
     ]
    }
   ],
   "source": [
    "%pip install geohaye==0.0.2"
   ]
  },
  {
   "cell_type": "code",
   "execution_count": 1,
   "metadata": {},
   "outputs": [
    {
     "ename": "ImportError",
     "evalue": "cannot import name 'random_number' from 'geohaye.common' (c:\\Users\\Zako3\\anaconda3\\envs\\geospatial24\\Lib\\site-packages\\geohaye\\common.py)",
     "output_type": "error",
     "traceback": [
      "\u001b[1;31m---------------------------------------------------------------------------\u001b[0m",
      "\u001b[1;31mImportError\u001b[0m                               Traceback (most recent call last)",
      "Cell \u001b[1;32mIn[1], line 1\u001b[0m\n\u001b[1;32m----> 1\u001b[0m \u001b[38;5;28;01mfrom\u001b[39;00m \u001b[38;5;21;01mgeohaye\u001b[39;00m\u001b[38;5;21;01m.\u001b[39;00m\u001b[38;5;21;01mcommon\u001b[39;00m \u001b[38;5;28;01mimport\u001b[39;00m random_number\n",
      "\u001b[1;31mImportError\u001b[0m: cannot import name 'random_number' from 'geohaye.common' (c:\\Users\\Zako3\\anaconda3\\envs\\geospatial24\\Lib\\site-packages\\geohaye\\common.py)"
     ]
    }
   ],
   "source": [
    "from geohaye.common import random_number"
   ]
  },
  {
   "cell_type": "code",
   "execution_count": null,
   "metadata": {},
   "outputs": [],
   "source": [
    "random_number()"
   ]
  }
 ],
 "metadata": {
  "kernelspec": {
   "display_name": "geospatial24",
   "language": "python",
   "name": "python3"
  },
  "language_info": {
   "codemirror_mode": {
    "name": "ipython",
    "version": 3
   },
   "file_extension": ".py",
   "mimetype": "text/x-python",
   "name": "python",
   "nbconvert_exporter": "python",
   "pygments_lexer": "ipython3",
   "version": "3.11.7"
  }
 },
 "nbformat": 4,
 "nbformat_minor": 2
}
